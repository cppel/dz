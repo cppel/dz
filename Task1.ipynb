{
  "nbformat": 4,
  "nbformat_minor": 0,
  "metadata": {
    "colab": {
      "provenance": [],
      "authorship_tag": "ABX9TyO45QyfWOjuf5o0CJxMResS",
      "include_colab_link": true
    },
    "kernelspec": {
      "name": "python3",
      "display_name": "Python 3"
    },
    "language_info": {
      "name": "python"
    }
  },
  "cells": [
    {
      "cell_type": "markdown",
      "metadata": {
        "id": "view-in-github",
        "colab_type": "text"
      },
      "source": [
        "<a href=\"https://colab.research.google.com/github/cppel/dz/blob/main/Task1.ipynb\" target=\"_parent\"><img src=\"https://colab.research.google.com/assets/colab-badge.svg\" alt=\"Open In Colab\"/></a>"
      ]
    },
    {
      "cell_type": "markdown",
      "source": [
        "Практическая работа №1\n",
        "Задание №1\n",
        "Напишите функцию, которая присваивает \n",
        " и \n",
        " случайные веса."
      ],
      "metadata": {
        "id": "O9ZuARUN1kEN"
      }
    },
    {
      "cell_type": "code",
      "execution_count": null,
      "metadata": {
        "id": "Da3ixw4f1Gpd"
      },
      "outputs": [],
      "source": [
        "from random import randint\n",
        "\n",
        "def generateWeights(w):\n",
        "  for i in range(len(w)):\n",
        "    w[i] = randint(0,100)/100"
      ]
    },
    {
      "cell_type": "code",
      "source": [
        "WEIGHT_COUNT = 2\n",
        "\n",
        "# Создаём list размерностью WEIGHT_COUNT\n",
        "w = [None] * WEIGHT_COUNT\n",
        "\n",
        "generateWeights(w)\n",
        "\n",
        "print(w)"
      ],
      "metadata": {
        "colab": {
          "base_uri": "https://localhost:8080/"
        },
        "id": "LOrr8djb1qQA",
        "outputId": "8f6759f4-a38a-496f-83ac-883c98f30f6d"
      },
      "execution_count": null,
      "outputs": [
        {
          "output_type": "stream",
          "name": "stdout",
          "text": [
            "[0.19, 0.75]\n"
          ]
        }
      ]
    },
    {
      "cell_type": "markdown",
      "source": [
        "Задание №2\n",
        "Напишите функцию, которая делает проверку сразу всех примеров учебного набора с текущими весами"
      ],
      "metadata": {
        "id": "YNnHb_8u1r-C"
      }
    },
    {
      "cell_type": "code",
      "source": [
        "# x - входные данные\n",
        "# w - веса\n",
        "def predict(x, w):\n",
        "  summator = 0\n",
        "  for i in range(len(w)):\n",
        "    summator += x[i] * w[i]\n",
        "\n",
        "  # Пороговая активация\n",
        "  act = 1 if summator >= 1 else 0\n",
        "\n",
        "  return act"
      ],
      "metadata": {
        "id": "L5hsFasi1ty7"
      },
      "execution_count": null,
      "outputs": []
    },
    {
      "cell_type": "code",
      "source": [
        "# x - входные данные\n",
        "# y - истинные данные\n",
        "# w - веса\n",
        "def checkDataset(x, y, w, output=True):\n",
        "  prediction_errors = 0\n",
        "\n",
        "  if output:\n",
        "    print(\"Input | Predicted | TrueOutput | Error\")\n",
        "  for i in range(len(x)):\n",
        "    predicted = predict(x[i], w)\n",
        "\n",
        "    prediction_error = y[i] - predicted\n",
        "    if (prediction_error != 0):\n",
        "      prediction_errors += 1\n",
        "\n",
        "    if output:\n",
        "      print(f\"{x[i]} - {predicted} - {y[i]} - {prediction_error}\")\n",
        "\n",
        "  result = 1 if prediction_errors == 0 else (1 - prediction_errors / len(x))\n",
        "  return result"
      ],
      "metadata": {
        "id": "bz30XlNs1vW5"
      },
      "execution_count": null,
      "outputs": []
    },
    {
      "cell_type": "code",
      "source": [
        "x_train = [[1,1], [1,0], [0,1], [0,0]]\n",
        "y_train = [0, 1, 1, 0]\n",
        "\n",
        "print(f'Accuracy: {checkDataset(x_train, y_train, w) * 100}%')"
      ],
      "metadata": {
        "colab": {
          "base_uri": "https://localhost:8080/"
        },
        "id": "kuQtM7AG1xDb",
        "outputId": "d4954ff0-cf8f-4c4f-cedf-4881e962d3aa"
      },
      "execution_count": null,
      "outputs": [
        {
          "output_type": "stream",
          "name": "stdout",
          "text": [
            "Input | Predicted | TrueOutput | Error\n",
            "[1, 1] - 0 - 0 - 0\n",
            "[1, 0] - 0 - 1 - 1\n",
            "[0, 1] - 0 - 1 - 1\n",
            "[0, 0] - 0 - 0 - 0\n",
            "Accuracy: 50.0%\n"
          ]
        }
      ]
    },
    {
      "cell_type": "markdown",
      "source": [
        "Задание №3\n",
        "Со случайными стартовыми весами обучить нейрон дельта методом для следующих операций:"
      ],
      "metadata": {
        "id": "3Cn1fyzX1yZ7"
      }
    },
    {
      "cell_type": "code",
      "source": [
        "def train(x_train, y_train, w, SPEED = 0.3):\n",
        "  for i in range(len(x_train)):\n",
        "    # Расчет ошибки дельта-методом\n",
        "    error = y_train[i] - predict(x_train[i], w)\n",
        "\n",
        "    if error != 0:\n",
        "      for ii in range(len(w)):\n",
        "        w[ii] = w[ii] + error * x_train[i][ii] * SPEED"
      ],
      "metadata": {
        "id": "c52SWSqE1z4b"
      },
      "execution_count": null,
      "outputs": []
    },
    {
      "cell_type": "code",
      "source": [
        "def trainAndCheck(x_train, y_train, MAX_EPOCH_COUNT = 5, SPEED = 0.3):\n",
        "  generateWeights(w)\n",
        "  print(f\"Стартовые веса: {w}\")\n",
        "\n",
        "  accuracy = 0\n",
        "  epoch = 1\n",
        "\n",
        "  while accuracy < 1 and epoch <= MAX_EPOCH_COUNT:\n",
        "    train(x_train, y_train, w)\n",
        "    accuracy = checkDataset(x_train, y_train, w, False)\n",
        "    print(f\"Epoch: {epoch}, Acc: {accuracy * 100}%, Weights: {w}\")\n",
        "\n",
        "    epoch += 1\n",
        "\n",
        "  print(f\"Конечные веса: {w}\")\n",
        "  print(f'Accuracy: {checkDataset(x_train, y_train, w) * 100}%')\n",
        "\n",
        "  return w"
      ],
      "metadata": {
        "id": "t7V73p5H11qj"
      },
      "execution_count": null,
      "outputs": []
    },
    {
      "cell_type": "markdown",
      "source": [
        "Конъюнкция"
      ],
      "metadata": {
        "id": "xv23EasQ16ga"
      }
    },
    {
      "cell_type": "code",
      "source": [
        "trainAndCheck(\n",
        "    [[1, 1], [1, 0], [0, 1], [0, 0]],\n",
        "    [1, 0, 0, 0]\n",
        ")"
      ],
      "metadata": {
        "colab": {
          "base_uri": "https://localhost:8080/"
        },
        "id": "8hS27wZt18Vz",
        "outputId": "1c6a6ceb-2bb6-4e3a-ca0f-47d01d294522"
      },
      "execution_count": null,
      "outputs": [
        {
          "output_type": "stream",
          "name": "stdout",
          "text": [
            "Стартовые веса: [0.5, 0.21]\n",
            "Epoch: 1, Acc: 100%, Weights: [0.8, 0.51]\n",
            "Конечные веса: [0.8, 0.51]\n",
            "Input | Predicted | TrueOutput | Error\n",
            "[1, 1] - 1 - 1 - 0\n",
            "[1, 0] - 0 - 0 - 0\n",
            "[0, 1] - 0 - 0 - 0\n",
            "[0, 0] - 0 - 0 - 0\n",
            "Accuracy: 100%\n"
          ]
        },
        {
          "output_type": "execute_result",
          "data": {
            "text/plain": [
              "[0.8, 0.51]"
            ]
          },
          "metadata": {},
          "execution_count": 8
        }
      ]
    },
    {
      "cell_type": "markdown",
      "source": [
        "Дизъюнкция"
      ],
      "metadata": {
        "id": "aeOheXRM19l0"
      }
    },
    {
      "cell_type": "code",
      "source": [
        "trainAndCheck(\n",
        "    [[1, 1], [1, 0], [0, 1], [0, 0]],\n",
        "    [1, 1, 1, 0]\n",
        ")"
      ],
      "metadata": {
        "colab": {
          "base_uri": "https://localhost:8080/"
        },
        "id": "U2fN7Gr11-ns",
        "outputId": "229de242-a50e-460f-c161-a1edbbfda22c"
      },
      "execution_count": null,
      "outputs": [
        {
          "output_type": "stream",
          "name": "stdout",
          "text": [
            "Стартовые веса: [0.75, 0.16]\n",
            "Epoch: 1, Acc: 75.0%, Weights: [1.05, 0.76]\n",
            "Epoch: 2, Acc: 100%, Weights: [1.05, 1.06]\n",
            "Конечные веса: [1.05, 1.06]\n",
            "Input | Predicted | TrueOutput | Error\n",
            "[1, 1] - 1 - 1 - 0\n",
            "[1, 0] - 1 - 1 - 0\n",
            "[0, 1] - 1 - 1 - 0\n",
            "[0, 0] - 0 - 0 - 0\n",
            "Accuracy: 100%\n"
          ]
        },
        {
          "output_type": "execute_result",
          "data": {
            "text/plain": [
              "[1.05, 1.06]"
            ]
          },
          "metadata": {},
          "execution_count": 9
        }
      ]
    },
    {
      "cell_type": "markdown",
      "source": [
        "XOR"
      ],
      "metadata": {
        "id": "IF3h5UMy1_xq"
      }
    },
    {
      "cell_type": "code",
      "source": [
        "trainAndCheck(\n",
        "    [[1, 1], [1, 0], [0, 1], [0, 0]],\n",
        "    [0, 1, 1, 0]\n",
        ")"
      ],
      "metadata": {
        "colab": {
          "base_uri": "https://localhost:8080/"
        },
        "id": "iRIhIAqh2A-K",
        "outputId": "91da86e1-eac3-4ad4-cd3a-9da079733164"
      },
      "execution_count": null,
      "outputs": [
        {
          "output_type": "stream",
          "name": "stdout",
          "text": [
            "Стартовые веса: [0.18, 0.56]\n",
            "Epoch: 1, Acc: 25.0%, Weights: [0.48, 0.8600000000000001]\n",
            "Epoch: 2, Acc: 25.0%, Weights: [0.48, 0.8600000000000001]\n",
            "Epoch: 3, Acc: 25.0%, Weights: [0.48, 0.8600000000000001]\n",
            "Epoch: 4, Acc: 25.0%, Weights: [0.48, 0.8600000000000001]\n",
            "Epoch: 5, Acc: 25.0%, Weights: [0.48, 0.8600000000000001]\n",
            "Конечные веса: [0.48, 0.8600000000000001]\n",
            "Input | Predicted | TrueOutput | Error\n",
            "[1, 1] - 1 - 0 - -1\n",
            "[1, 0] - 0 - 1 - 1\n",
            "[0, 1] - 0 - 1 - 1\n",
            "[0, 0] - 0 - 0 - 0\n",
            "Accuracy: 25.0%\n"
          ]
        },
        {
          "output_type": "execute_result",
          "data": {
            "text/plain": [
              "[0.48, 0.8600000000000001]"
            ]
          },
          "metadata": {},
          "execution_count": 10
        }
      ]
    },
    {
      "cell_type": "markdown",
      "source": [
        "Конъюнкция отрицания \n",
        " "
      ],
      "metadata": {
        "id": "Eqmt8p052CuL"
      }
    },
    {
      "cell_type": "code",
      "source": [
        "conNotX1AndX2 = trainAndCheck(\n",
        "    [[1, 1], [1, 0], [0, 1], [0, 0]],\n",
        "    [0, 0, 1, 0]\n",
        ")\n",
        "print(conNotX1AndX2)"
      ],
      "metadata": {
        "colab": {
          "base_uri": "https://localhost:8080/"
        },
        "id": "eaw-rP0q2Djz",
        "outputId": "7ffa8d0a-b9d9-4556-fca4-02fdddcb436e"
      },
      "execution_count": null,
      "outputs": [
        {
          "output_type": "stream",
          "name": "stdout",
          "text": [
            "Стартовые веса: [0.91, 0.56]\n",
            "Epoch: 1, Acc: 50.0%, Weights: [0.6100000000000001, 0.56]\n",
            "Epoch: 2, Acc: 75.0%, Weights: [0.3100000000000001, 0.56]\n",
            "Epoch: 3, Acc: 50.0%, Weights: [0.3100000000000001, 0.8600000000000001]\n",
            "Epoch: 4, Acc: 75.0%, Weights: [0.01000000000000012, 0.8600000000000001]\n",
            "Epoch: 5, Acc: 75.0%, Weights: [0.01000000000000012, 1.1600000000000001]\n",
            "Конечные веса: [0.01000000000000012, 1.1600000000000001]\n",
            "Input | Predicted | TrueOutput | Error\n",
            "[1, 1] - 1 - 0 - -1\n",
            "[1, 0] - 0 - 0 - 0\n",
            "[0, 1] - 1 - 1 - 0\n",
            "[0, 0] - 0 - 0 - 0\n",
            "Accuracy: 75.0%\n",
            "[0.01000000000000012, 1.1600000000000001]\n"
          ]
        }
      ]
    },
    {
      "cell_type": "markdown",
      "source": [
        "Конъюнкция \n",
        "x1 и x2 отрицания "
      ],
      "metadata": {
        "id": "Ern9OPRZ2GIj"
      }
    },
    {
      "cell_type": "code",
      "source": [
        "conX1AndNotX2 = trainAndCheck(\n",
        "    [[1, 1], [1, 0], [0, 1], [0, 0]],\n",
        "    [0, 1, 0, 0]\n",
        ")\n",
        "print(conX1AndNotX2)"
      ],
      "metadata": {
        "colab": {
          "base_uri": "https://localhost:8080/"
        },
        "id": "Tayxap7P2Jla",
        "outputId": "f4be291e-3e28-476c-9d7b-1b8c2d2ebeae"
      },
      "execution_count": null,
      "outputs": [
        {
          "output_type": "stream",
          "name": "stdout",
          "text": [
            "Стартовые веса: [0.45, 0.14]\n",
            "Epoch: 1, Acc: 75.0%, Weights: [0.75, 0.14]\n",
            "Epoch: 2, Acc: 75.0%, Weights: [1.05, 0.14]\n",
            "Epoch: 3, Acc: 100%, Weights: [1.05, -0.15999999999999998]\n",
            "Конечные веса: [1.05, -0.15999999999999998]\n",
            "Input | Predicted | TrueOutput | Error\n",
            "[1, 1] - 0 - 0 - 0\n",
            "[1, 0] - 1 - 1 - 0\n",
            "[0, 1] - 0 - 0 - 0\n",
            "[0, 0] - 0 - 0 - 0\n",
            "Accuracy: 100%\n",
            "[1.05, -0.15999999999999998]\n"
          ]
        }
      ]
    },
    {
      "cell_type": "markdown",
      "source": [
        "Задание №4\n",
        "Изменить кодировку данных и функцию активации. Новые параметры:\n",
        " - 1 истина, \n",
        " - 1 ложь;\n",
        "Функция активации: пороговая;\n",
        "Если полученное значение больше 0\n",
        ", результат = 1\n",
        ", иначе = -1"
      ],
      "metadata": {
        "id": "xjWWGunC2Lhb"
      }
    },
    {
      "cell_type": "code",
      "source": [
        "# Вернем назад функцию predict\n",
        "\n",
        "# x - входные данные\n",
        "# w - веса\n",
        "def predict(x, w):\n",
        "  summator = 0\n",
        "  for i in range(len(w)):\n",
        "    summator += x[i] * w[i]\n",
        "\n",
        "  # Пороговая активация\n",
        "  act = 1 if summator >= 0 else -1\n",
        "\n",
        "  return act"
      ],
      "metadata": {
        "id": "5O_Qj0E72UEy"
      },
      "execution_count": null,
      "outputs": []
    },
    {
      "cell_type": "code",
      "source": [
        "trainAndCheck(\n",
        "    [[1, 1], [1, 0], [0, 1], [0, 0]],\n",
        "    [1, 0, 0, 0]\n",
        ")"
      ],
      "metadata": {
        "colab": {
          "base_uri": "https://localhost:8080/"
        },
        "id": "tsQNa0dc2VIC",
        "outputId": "4eb740a1-8004-403a-fbb5-e3950a61b518"
      },
      "execution_count": null,
      "outputs": [
        {
          "output_type": "stream",
          "name": "stdout",
          "text": [
            "Стартовые веса: [0.0, 0.19]\n",
            "Epoch: 1, Acc: 0.0%, Weights: [-0.3, -0.10999999999999999]\n",
            "Epoch: 2, Acc: 25.0%, Weights: [0.0, 0.19]\n",
            "Epoch: 3, Acc: 0.0%, Weights: [-0.3, -0.10999999999999999]\n",
            "Epoch: 4, Acc: 25.0%, Weights: [0.0, 0.19]\n",
            "Epoch: 5, Acc: 0.0%, Weights: [-0.3, -0.10999999999999999]\n",
            "Конечные веса: [-0.3, -0.10999999999999999]\n",
            "Input | Predicted | TrueOutput | Error\n",
            "[1, 1] - -1 - 1 - 2\n",
            "[1, 0] - -1 - 0 - 1\n",
            "[0, 1] - -1 - 0 - 1\n",
            "[0, 0] - 1 - 0 - -1\n",
            "Accuracy: 0.0%\n"
          ]
        },
        {
          "output_type": "execute_result",
          "data": {
            "text/plain": [
              "[-0.3, -0.10999999999999999]"
            ]
          },
          "metadata": {},
          "execution_count": 14
        }
      ]
    },
    {
      "cell_type": "markdown",
      "source": [
        "Задание №5\n",
        "Добавить ещё один вход данных на нейрон (на дополнительный вход всегда приходит единица, это аналог нейрона смещения)"
      ],
      "metadata": {
        "id": "evLQGw3c2XIS"
      }
    },
    {
      "cell_type": "code",
      "source": [
        "# x - входные данные\n",
        "# w - веса\n",
        "def predict(x, w):\n",
        "  summator = 0\n",
        "  for i in range(len(w)):\n",
        "    summator += x[i] * w[i]\n",
        "\n",
        "  # Пороговая активация\n",
        "  act = 1 if summator >= 1 else 0\n",
        "\n",
        "  return act"
      ],
      "metadata": {
        "id": "M9xXaJw92YOd"
      },
      "execution_count": null,
      "outputs": []
    },
    {
      "cell_type": "code",
      "source": [
        "\n",
        "WEIGHT_COUNT = 3\n",
        "w = [None] * WEIGHT_COUNT\n",
        "\n",
        "trainAndCheck(\n",
        "    [[1, 1, 0], [1, 0, 1], [0, 1, 1], [0, 0, 1]],\n",
        "    [0, 1, 1, 0],\n",
        "    MAX_EPOCH_COUNT = 10,\n",
        "    SPEED = 0.2\n",
        ")"
      ],
      "metadata": {
        "colab": {
          "base_uri": "https://localhost:8080/"
        },
        "id": "AKAcinXL2ZXi",
        "outputId": "8581338e-a3ac-4519-ff4b-58dc8f77a331"
      },
      "execution_count": null,
      "outputs": [
        {
          "output_type": "stream",
          "name": "stdout",
          "text": [
            "Стартовые веса: [0.72, 0.44, 0.3]\n",
            "Epoch: 1, Acc: 75.0%, Weights: [0.72, 0.44, 0.8999999999999999]\n",
            "Epoch: 2, Acc: 100%, Weights: [0.42, 0.14, 0.8999999999999999]\n",
            "Конечные веса: [0.42, 0.14, 0.8999999999999999]\n",
            "Input | Predicted | TrueOutput | Error\n",
            "[1, 1, 0] - 0 - 0 - 0\n",
            "[1, 0, 1] - 1 - 1 - 0\n",
            "[0, 1, 1] - 1 - 1 - 0\n",
            "[0, 0, 1] - 0 - 0 - 0\n",
            "Accuracy: 100%\n"
          ]
        },
        {
          "output_type": "execute_result",
          "data": {
            "text/plain": [
              "[0.42, 0.14, 0.8999999999999999]"
            ]
          },
          "metadata": {},
          "execution_count": 16
        }
      ]
    },
    {
      "cell_type": "code",
      "source": [
        "def predictDeep(x, w0, w1, w):\n",
        "  act1 = predict(x, w0) * w[0]\n",
        "  act2 = predict(x, w1) * w[1]\n",
        "  summator = act1 + act2\n",
        "\n",
        "  act = 1 if summator >= 0.5 else 0\n",
        "  return act"
      ],
      "metadata": {
        "id": "qNOY8g902anx"
      },
      "execution_count": null,
      "outputs": []
    },
    {
      "cell_type": "code",
      "source": [
        "# x - входные данные\n",
        "# y - истинные данные\n",
        "# w - веса\n",
        "def checkDatasetDeep(x, y, w0, w1, w, output=True):\n",
        "  prediction_errors = 0\n",
        "\n",
        "  if output:\n",
        "    print(\"Input | Predicted | TrueOutput | Error\")\n",
        "  for i in range(len(x)):\n",
        "    predicted = predictDeep(x[i], w0, w1, w)\n",
        "\n",
        "    prediction_error = y[i] - predicted\n",
        "    if (prediction_error != 0):\n",
        "      prediction_errors += 1\n",
        "\n",
        "    if output:\n",
        "      print(f\"{x[i]} - {predicted} - {y[i]} - {prediction_error}\")\n",
        "\n",
        "  result = 1 if prediction_errors == 0 else (1 - prediction_errors / len(x))\n",
        "  return result"
      ],
      "metadata": {
        "id": "OM8bctud2ceS"
      },
      "execution_count": null,
      "outputs": []
    },
    {
      "cell_type": "code",
      "source": [
        "conNotX1AndX2"
      ],
      "metadata": {
        "colab": {
          "base_uri": "https://localhost:8080/"
        },
        "id": "JSvJfAUH2eIa",
        "outputId": "e3447673-448d-4f7d-baa7-c9ef827258ee"
      },
      "execution_count": null,
      "outputs": [
        {
          "output_type": "execute_result",
          "data": {
            "text/plain": [
              "[-0.3, -0.10999999999999999]"
            ]
          },
          "metadata": {},
          "execution_count": 19
        }
      ]
    },
    {
      "cell_type": "code",
      "source": [
        "conX1AndNotX2"
      ],
      "metadata": {
        "colab": {
          "base_uri": "https://localhost:8080/"
        },
        "id": "3IlZg6VA2fZK",
        "outputId": "90ad5c2c-1355-4e5c-a405-820b5758d7e6"
      },
      "execution_count": null,
      "outputs": [
        {
          "output_type": "execute_result",
          "data": {
            "text/plain": [
              "[-0.3, -0.10999999999999999]"
            ]
          },
          "metadata": {},
          "execution_count": 20
        }
      ]
    },
    {
      "cell_type": "code",
      "source": [
        "checkDatasetDeep(\n",
        "    [[1, 1], [1, 0], [0, 1], [0, 0]],\n",
        "    [0, 1, 1, 0],\n",
        "    [-0.4099999999999999, 1.2000000000000002],\n",
        "    [1.1700000000000002, -0.33],\n",
        "    [0.5, 0.5]\n",
        ")"
      ],
      "metadata": {
        "colab": {
          "base_uri": "https://localhost:8080/"
        },
        "id": "N-wxNxKL2gk6",
        "outputId": "ed057970-96c5-4980-ba9e-53e02ade256c"
      },
      "execution_count": null,
      "outputs": [
        {
          "output_type": "stream",
          "name": "stdout",
          "text": [
            "Input | Predicted | TrueOutput | Error\n",
            "[1, 1] - 0 - 0 - 0\n",
            "[1, 0] - 1 - 1 - 0\n",
            "[0, 1] - 1 - 1 - 0\n",
            "[0, 0] - 0 - 0 - 0\n"
          ]
        },
        {
          "output_type": "execute_result",
          "data": {
            "text/plain": [
              "1"
            ]
          },
          "metadata": {},
          "execution_count": 21
        }
      ]
    }
  ]
}
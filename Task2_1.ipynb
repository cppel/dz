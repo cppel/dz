{
  "nbformat": 4,
  "nbformat_minor": 0,
  "metadata": {
    "colab": {
      "provenance": [],
      "authorship_tag": "ABX9TyPmd4mRZWAc6zKAKMxZQ7nk",
      "include_colab_link": true
    },
    "kernelspec": {
      "name": "python3",
      "display_name": "Python 3"
    },
    "language_info": {
      "name": "python"
    }
  },
  "cells": [
    {
      "cell_type": "markdown",
      "metadata": {
        "id": "view-in-github",
        "colab_type": "text"
      },
      "source": [
        "<a href=\"https://colab.research.google.com/github/cppel/dz/blob/main/Task2_1.ipynb\" target=\"_parent\"><img src=\"https://colab.research.google.com/assets/colab-badge.svg\" alt=\"Open In Colab\"/></a>"
      ]
    },
    {
      "cell_type": "markdown",
      "source": [
        "## Нейросеть для California housing"
      ],
      "metadata": {
        "id": "4xnztfibrix-"
      }
    },
    {
      "cell_type": "markdown",
      "source": [
        "Будем работать с набором данным `fetch_california_housing` из `sklearn`."
      ],
      "metadata": {
        "id": "--6kNYWprmXW"
      }
    },
    {
      "cell_type": "code",
      "source": [
        "from sklearn.datasets import fetch_california_housing\n",
        "import pandas as pd\n",
        "\n",
        "\n",
        "data = fetch_california_housing()\n",
        "\n",
        "X = pd.DataFrame(data['data'], columns=data['feature_names'])\n",
        "y = data['target']\n",
        "\n",
        "X.head()"
      ],
      "metadata": {
        "colab": {
          "base_uri": "https://localhost:8080/",
          "height": 206
        },
        "id": "2cbIrkVYriin",
        "outputId": "1348a385-4b7e-4c41-bfde-6a8d9f5467c6"
      },
      "execution_count": null,
      "outputs": [
        {
          "output_type": "execute_result",
          "data": {
            "text/plain": [
              "   MedInc  HouseAge  AveRooms  AveBedrms  Population  AveOccup  Latitude  \\\n",
              "0  8.3252      41.0  6.984127   1.023810       322.0  2.555556     37.88   \n",
              "1  8.3014      21.0  6.238137   0.971880      2401.0  2.109842     37.86   \n",
              "2  7.2574      52.0  8.288136   1.073446       496.0  2.802260     37.85   \n",
              "3  5.6431      52.0  5.817352   1.073059       558.0  2.547945     37.85   \n",
              "4  3.8462      52.0  6.281853   1.081081       565.0  2.181467     37.85   \n",
              "\n",
              "   Longitude  \n",
              "0    -122.23  \n",
              "1    -122.22  \n",
              "2    -122.24  \n",
              "3    -122.25  \n",
              "4    -122.25  "
            ],
            "text/html": [
              "\n",
              "  <div id=\"df-19b1d85f-0054-4cbe-8acd-2020d8358bd3\">\n",
              "    <div class=\"colab-df-container\">\n",
              "      <div>\n",
              "<style scoped>\n",
              "    .dataframe tbody tr th:only-of-type {\n",
              "        vertical-align: middle;\n",
              "    }\n",
              "\n",
              "    .dataframe tbody tr th {\n",
              "        vertical-align: top;\n",
              "    }\n",
              "\n",
              "    .dataframe thead th {\n",
              "        text-align: right;\n",
              "    }\n",
              "</style>\n",
              "<table border=\"1\" class=\"dataframe\">\n",
              "  <thead>\n",
              "    <tr style=\"text-align: right;\">\n",
              "      <th></th>\n",
              "      <th>MedInc</th>\n",
              "      <th>HouseAge</th>\n",
              "      <th>AveRooms</th>\n",
              "      <th>AveBedrms</th>\n",
              "      <th>Population</th>\n",
              "      <th>AveOccup</th>\n",
              "      <th>Latitude</th>\n",
              "      <th>Longitude</th>\n",
              "    </tr>\n",
              "  </thead>\n",
              "  <tbody>\n",
              "    <tr>\n",
              "      <th>0</th>\n",
              "      <td>8.3252</td>\n",
              "      <td>41.0</td>\n",
              "      <td>6.984127</td>\n",
              "      <td>1.023810</td>\n",
              "      <td>322.0</td>\n",
              "      <td>2.555556</td>\n",
              "      <td>37.88</td>\n",
              "      <td>-122.23</td>\n",
              "    </tr>\n",
              "    <tr>\n",
              "      <th>1</th>\n",
              "      <td>8.3014</td>\n",
              "      <td>21.0</td>\n",
              "      <td>6.238137</td>\n",
              "      <td>0.971880</td>\n",
              "      <td>2401.0</td>\n",
              "      <td>2.109842</td>\n",
              "      <td>37.86</td>\n",
              "      <td>-122.22</td>\n",
              "    </tr>\n",
              "    <tr>\n",
              "      <th>2</th>\n",
              "      <td>7.2574</td>\n",
              "      <td>52.0</td>\n",
              "      <td>8.288136</td>\n",
              "      <td>1.073446</td>\n",
              "      <td>496.0</td>\n",
              "      <td>2.802260</td>\n",
              "      <td>37.85</td>\n",
              "      <td>-122.24</td>\n",
              "    </tr>\n",
              "    <tr>\n",
              "      <th>3</th>\n",
              "      <td>5.6431</td>\n",
              "      <td>52.0</td>\n",
              "      <td>5.817352</td>\n",
              "      <td>1.073059</td>\n",
              "      <td>558.0</td>\n",
              "      <td>2.547945</td>\n",
              "      <td>37.85</td>\n",
              "      <td>-122.25</td>\n",
              "    </tr>\n",
              "    <tr>\n",
              "      <th>4</th>\n",
              "      <td>3.8462</td>\n",
              "      <td>52.0</td>\n",
              "      <td>6.281853</td>\n",
              "      <td>1.081081</td>\n",
              "      <td>565.0</td>\n",
              "      <td>2.181467</td>\n",
              "      <td>37.85</td>\n",
              "      <td>-122.25</td>\n",
              "    </tr>\n",
              "  </tbody>\n",
              "</table>\n",
              "</div>\n",
              "      <button class=\"colab-df-convert\" onclick=\"convertToInteractive('df-19b1d85f-0054-4cbe-8acd-2020d8358bd3')\"\n",
              "              title=\"Convert this dataframe to an interactive table.\"\n",
              "              style=\"display:none;\">\n",
              "        \n",
              "  <svg xmlns=\"http://www.w3.org/2000/svg\" height=\"24px\"viewBox=\"0 0 24 24\"\n",
              "       width=\"24px\">\n",
              "    <path d=\"M0 0h24v24H0V0z\" fill=\"none\"/>\n",
              "    <path d=\"M18.56 5.44l.94 2.06.94-2.06 2.06-.94-2.06-.94-.94-2.06-.94 2.06-2.06.94zm-11 1L8.5 8.5l.94-2.06 2.06-.94-2.06-.94L8.5 2.5l-.94 2.06-2.06.94zm10 10l.94 2.06.94-2.06 2.06-.94-2.06-.94-.94-2.06-.94 2.06-2.06.94z\"/><path d=\"M17.41 7.96l-1.37-1.37c-.4-.4-.92-.59-1.43-.59-.52 0-1.04.2-1.43.59L10.3 9.45l-7.72 7.72c-.78.78-.78 2.05 0 2.83L4 21.41c.39.39.9.59 1.41.59.51 0 1.02-.2 1.41-.59l7.78-7.78 2.81-2.81c.8-.78.8-2.07 0-2.86zM5.41 20L4 18.59l7.72-7.72 1.47 1.35L5.41 20z\"/>\n",
              "  </svg>\n",
              "      </button>\n",
              "      \n",
              "  <style>\n",
              "    .colab-df-container {\n",
              "      display:flex;\n",
              "      flex-wrap:wrap;\n",
              "      gap: 12px;\n",
              "    }\n",
              "\n",
              "    .colab-df-convert {\n",
              "      background-color: #E8F0FE;\n",
              "      border: none;\n",
              "      border-radius: 50%;\n",
              "      cursor: pointer;\n",
              "      display: none;\n",
              "      fill: #1967D2;\n",
              "      height: 32px;\n",
              "      padding: 0 0 0 0;\n",
              "      width: 32px;\n",
              "    }\n",
              "\n",
              "    .colab-df-convert:hover {\n",
              "      background-color: #E2EBFA;\n",
              "      box-shadow: 0px 1px 2px rgba(60, 64, 67, 0.3), 0px 1px 3px 1px rgba(60, 64, 67, 0.15);\n",
              "      fill: #174EA6;\n",
              "    }\n",
              "\n",
              "    [theme=dark] .colab-df-convert {\n",
              "      background-color: #3B4455;\n",
              "      fill: #D2E3FC;\n",
              "    }\n",
              "\n",
              "    [theme=dark] .colab-df-convert:hover {\n",
              "      background-color: #434B5C;\n",
              "      box-shadow: 0px 1px 3px 1px rgba(0, 0, 0, 0.15);\n",
              "      filter: drop-shadow(0px 1px 2px rgba(0, 0, 0, 0.3));\n",
              "      fill: #FFFFFF;\n",
              "    }\n",
              "  </style>\n",
              "\n",
              "      <script>\n",
              "        const buttonEl =\n",
              "          document.querySelector('#df-19b1d85f-0054-4cbe-8acd-2020d8358bd3 button.colab-df-convert');\n",
              "        buttonEl.style.display =\n",
              "          google.colab.kernel.accessAllowed ? 'block' : 'none';\n",
              "\n",
              "        async function convertToInteractive(key) {\n",
              "          const element = document.querySelector('#df-19b1d85f-0054-4cbe-8acd-2020d8358bd3');\n",
              "          const dataTable =\n",
              "            await google.colab.kernel.invokeFunction('convertToInteractive',\n",
              "                                                     [key], {});\n",
              "          if (!dataTable) return;\n",
              "\n",
              "          const docLinkHtml = 'Like what you see? Visit the ' +\n",
              "            '<a target=\"_blank\" href=https://colab.research.google.com/notebooks/data_table.ipynb>data table notebook</a>'\n",
              "            + ' to learn more about interactive tables.';\n",
              "          element.innerHTML = '';\n",
              "          dataTable['output_type'] = 'display_data';\n",
              "          await google.colab.output.renderOutput(dataTable, element);\n",
              "          const docLink = document.createElement('div');\n",
              "          docLink.innerHTML = docLinkHtml;\n",
              "          element.appendChild(docLink);\n",
              "        }\n",
              "      </script>\n",
              "    </div>\n",
              "  </div>\n",
              "  "
            ]
          },
          "metadata": {},
          "execution_count": 27
        }
      ]
    },
    {
      "cell_type": "markdown",
      "source": [
        "#### 1.1. Разбейте данные на обучение и тест"
      ],
      "metadata": {
        "id": "F7YTZNY6sTVf"
      }
    },
    {
      "cell_type": "code",
      "execution_count": null,
      "metadata": {
        "colab": {
          "base_uri": "https://localhost:8080/"
        },
        "id": "yqaN0NDargAa",
        "outputId": "3945dcea-95ad-4346-de69-48fda186b0c2"
      },
      "outputs": [
        {
          "output_type": "execute_result",
          "data": {
            "text/plain": [
              "((14448, 8), (6192, 8))"
            ]
          },
          "metadata": {},
          "execution_count": 28
        }
      ],
      "source": [
        "from sklearn.model_selection import train_test_split\n",
        "\n",
        "X_train, X_test, y_train, y_test = train_test_split(X.values, y, test_size=0.3, random_state=465)\n",
        "X_train.shape, X_test.shape"
      ]
    },
    {
      "cell_type": "markdown",
      "source": [
        "1.1.1 Нормализация данных по гит"
      ],
      "metadata": {
        "id": "jJlzaY3wzs8f"
      }
    },
    {
      "cell_type": "code",
      "source": [
        "mean = X_train.mean(axis=0)\n",
        "std = X_train.std(axis=0)\n",
        "\n",
        "X_train = (X_train - mean) / std\n",
        "X_test = (X_test - mean) / std"
      ],
      "metadata": {
        "id": "yy_JRlXVzvkp"
      },
      "execution_count": null,
      "outputs": []
    },
    {
      "cell_type": "markdown",
      "source": [
        "#### 1.2. Создайте архитектуру для этой задачи"
      ],
      "metadata": {
        "id": "FL33Gk9Buo6A"
      }
    },
    {
      "cell_type": "code",
      "source": [
        "from keras.models import Sequential\n",
        "from keras.layers import Dense\n",
        "\n",
        "model = Sequential()\n",
        "\n",
        "model.add(Dense(128, input_shape=(8, ), activation='relu', name='dense_1'))\n",
        "model.add(Dense(64, activation='relu', name='dense_2'))\n",
        "model.add(Dense(1, activation='linear', name='dense_output'))"
      ],
      "metadata": {
        "id": "WLjeGz1Vrnbx"
      },
      "execution_count": null,
      "outputs": []
    },
    {
      "cell_type": "markdown",
      "source": [
        "#### 1.3. Скомпилируйте сеть"
      ],
      "metadata": {
        "id": "Pi6y1H2OwkVJ"
      }
    },
    {
      "cell_type": "code",
      "source": [
        "model.compile(optimizer='adam', loss='mse', metrics=['mae'])\n",
        "model.summary()"
      ],
      "metadata": {
        "colab": {
          "base_uri": "https://localhost:8080/"
        },
        "id": "W4QyOr6lwxBB",
        "outputId": "a42f40f2-4bfc-465b-8760-701de69c829d"
      },
      "execution_count": null,
      "outputs": [
        {
          "output_type": "stream",
          "name": "stdout",
          "text": [
            "Model: \"sequential_4\"\n",
            "_________________________________________________________________\n",
            " Layer (type)                Output Shape              Param #   \n",
            "=================================================================\n",
            " dense_1 (Dense)             (None, 128)               1152      \n",
            "                                                                 \n",
            " dense_2 (Dense)             (None, 64)                8256      \n",
            "                                                                 \n",
            " dense_output (Dense)        (None, 1)                 65        \n",
            "                                                                 \n",
            "=================================================================\n",
            "Total params: 9,473\n",
            "Trainable params: 9,473\n",
            "Non-trainable params: 0\n",
            "_________________________________________________________________\n"
          ]
        }
      ]
    },
    {
      "cell_type": "markdown",
      "source": [
        "1.4 Обучите нейросеть"
      ],
      "metadata": {
        "id": "PzCZuhPkxEwI"
      }
    },
    {
      "cell_type": "code",
      "source": [
        "history = model.fit(X_train, y_train, epochs=100, validation_split=0.05)"
      ],
      "metadata": {
        "colab": {
          "base_uri": "https://localhost:8080/"
        },
        "id": "vpjxUV3FxEkH",
        "outputId": "f45d814c-98bd-4159-f5f4-b289929b8963"
      },
      "execution_count": null,
      "outputs": [
        {
          "output_type": "stream",
          "name": "stdout",
          "text": [
            "Epoch 1/100\n",
            "429/429 [==============================] - 3s 3ms/step - loss: 0.7290 - mae: 0.5883 - val_loss: 0.5971 - val_mae: 0.5133\n",
            "Epoch 2/100\n",
            "429/429 [==============================] - 1s 3ms/step - loss: 0.3958 - mae: 0.4457 - val_loss: 0.4840 - val_mae: 0.4457\n",
            "Epoch 3/100\n",
            "429/429 [==============================] - 1s 3ms/step - loss: 0.3853 - mae: 0.4317 - val_loss: 0.3996 - val_mae: 0.4088\n",
            "Epoch 4/100\n",
            "429/429 [==============================] - 1s 3ms/step - loss: 0.3525 - mae: 0.4202 - val_loss: 0.3666 - val_mae: 0.4092\n",
            "Epoch 5/100\n",
            "429/429 [==============================] - 1s 3ms/step - loss: 0.3414 - mae: 0.4103 - val_loss: 0.3612 - val_mae: 0.3943\n",
            "Epoch 6/100\n",
            "429/429 [==============================] - 1s 3ms/step - loss: 0.3243 - mae: 0.4008 - val_loss: 0.3222 - val_mae: 0.3872\n",
            "Epoch 7/100\n",
            "429/429 [==============================] - 2s 5ms/step - loss: 0.3140 - mae: 0.3919 - val_loss: 0.3333 - val_mae: 0.3901\n",
            "Epoch 8/100\n",
            "429/429 [==============================] - 1s 3ms/step - loss: 0.3057 - mae: 0.3863 - val_loss: 0.3503 - val_mae: 0.4250\n",
            "Epoch 9/100\n",
            "429/429 [==============================] - 1s 3ms/step - loss: 0.3031 - mae: 0.3824 - val_loss: 0.3612 - val_mae: 0.3934\n",
            "Epoch 10/100\n",
            "429/429 [==============================] - 1s 3ms/step - loss: 0.2957 - mae: 0.3771 - val_loss: 0.5467 - val_mae: 0.4060\n",
            "Epoch 11/100\n",
            "429/429 [==============================] - 1s 3ms/step - loss: 0.3182 - mae: 0.3790 - val_loss: 0.4279 - val_mae: 0.3704\n",
            "Epoch 12/100\n",
            "429/429 [==============================] - 1s 3ms/step - loss: 0.2974 - mae: 0.3713 - val_loss: 0.2968 - val_mae: 0.3795\n",
            "Epoch 13/100\n",
            "429/429 [==============================] - 1s 3ms/step - loss: 0.2835 - mae: 0.3698 - val_loss: 0.2769 - val_mae: 0.3573\n",
            "Epoch 14/100\n",
            "429/429 [==============================] - 1s 3ms/step - loss: 0.2786 - mae: 0.3658 - val_loss: 0.2830 - val_mae: 0.3681\n",
            "Epoch 15/100\n",
            "429/429 [==============================] - 1s 3ms/step - loss: 0.2745 - mae: 0.3633 - val_loss: 0.2956 - val_mae: 0.3784\n",
            "Epoch 16/100\n",
            "429/429 [==============================] - 2s 4ms/step - loss: 0.2785 - mae: 0.3631 - val_loss: 0.3077 - val_mae: 0.3689\n",
            "Epoch 17/100\n",
            "429/429 [==============================] - 2s 4ms/step - loss: 0.2723 - mae: 0.3602 - val_loss: 0.3286 - val_mae: 0.3561\n",
            "Epoch 18/100\n",
            "429/429 [==============================] - 1s 3ms/step - loss: 0.2847 - mae: 0.3590 - val_loss: 0.3589 - val_mae: 0.3670\n",
            "Epoch 19/100\n",
            "429/429 [==============================] - 1s 3ms/step - loss: 0.2732 - mae: 0.3571 - val_loss: 0.2803 - val_mae: 0.3518\n",
            "Epoch 20/100\n",
            "429/429 [==============================] - 1s 3ms/step - loss: 0.2698 - mae: 0.3565 - val_loss: 0.3098 - val_mae: 0.3712\n",
            "Epoch 21/100\n",
            "429/429 [==============================] - 1s 3ms/step - loss: 0.2648 - mae: 0.3543 - val_loss: 0.2777 - val_mae: 0.3483\n",
            "Epoch 22/100\n",
            "429/429 [==============================] - 1s 3ms/step - loss: 0.2668 - mae: 0.3533 - val_loss: 0.3812 - val_mae: 0.3567\n",
            "Epoch 23/100\n",
            "429/429 [==============================] - 1s 3ms/step - loss: 0.2702 - mae: 0.3509 - val_loss: 0.2501 - val_mae: 0.3427\n",
            "Epoch 24/100\n",
            "429/429 [==============================] - 1s 3ms/step - loss: 0.2592 - mae: 0.3497 - val_loss: 0.2702 - val_mae: 0.3506\n",
            "Epoch 25/100\n",
            "429/429 [==============================] - 2s 4ms/step - loss: 0.2565 - mae: 0.3474 - val_loss: 0.2769 - val_mae: 0.3567\n",
            "Epoch 26/100\n",
            "429/429 [==============================] - 2s 5ms/step - loss: 0.2576 - mae: 0.3488 - val_loss: 0.2849 - val_mae: 0.3601\n",
            "Epoch 27/100\n",
            "429/429 [==============================] - 1s 3ms/step - loss: 0.2550 - mae: 0.3487 - val_loss: 0.2557 - val_mae: 0.3480\n",
            "Epoch 28/100\n",
            "429/429 [==============================] - 1s 3ms/step - loss: 0.2525 - mae: 0.3455 - val_loss: 0.2882 - val_mae: 0.3581\n",
            "Epoch 29/100\n",
            "429/429 [==============================] - 1s 3ms/step - loss: 0.2513 - mae: 0.3421 - val_loss: 0.2575 - val_mae: 0.3487\n",
            "Epoch 30/100\n",
            "429/429 [==============================] - 1s 3ms/step - loss: 0.2505 - mae: 0.3435 - val_loss: 0.2811 - val_mae: 0.3560\n",
            "Epoch 31/100\n",
            "429/429 [==============================] - 1s 3ms/step - loss: 0.2474 - mae: 0.3434 - val_loss: 0.2693 - val_mae: 0.3531\n",
            "Epoch 32/100\n",
            "429/429 [==============================] - 1s 3ms/step - loss: 0.2480 - mae: 0.3415 - val_loss: 0.2800 - val_mae: 0.3573\n",
            "Epoch 33/100\n",
            "429/429 [==============================] - 1s 3ms/step - loss: 0.2456 - mae: 0.3406 - val_loss: 0.2542 - val_mae: 0.3510\n",
            "Epoch 34/100\n",
            "429/429 [==============================] - 1s 3ms/step - loss: 0.2446 - mae: 0.3401 - val_loss: 0.2867 - val_mae: 0.3487\n",
            "Epoch 35/100\n",
            "429/429 [==============================] - 2s 5ms/step - loss: 0.2479 - mae: 0.3405 - val_loss: 0.2478 - val_mae: 0.3369\n",
            "Epoch 36/100\n",
            "429/429 [==============================] - 2s 4ms/step - loss: 0.2437 - mae: 0.3398 - val_loss: 0.2469 - val_mae: 0.3340\n",
            "Epoch 37/100\n",
            "429/429 [==============================] - 1s 3ms/step - loss: 0.2394 - mae: 0.3355 - val_loss: 0.2410 - val_mae: 0.3375\n",
            "Epoch 38/100\n",
            "429/429 [==============================] - 1s 3ms/step - loss: 0.2400 - mae: 0.3372 - val_loss: 0.2587 - val_mae: 0.3507\n",
            "Epoch 39/100\n",
            "429/429 [==============================] - 1s 3ms/step - loss: 0.2416 - mae: 0.3380 - val_loss: 0.2901 - val_mae: 0.3779\n",
            "Epoch 40/100\n",
            "429/429 [==============================] - 1s 3ms/step - loss: 0.2395 - mae: 0.3345 - val_loss: 0.2648 - val_mae: 0.3599\n",
            "Epoch 41/100\n",
            "429/429 [==============================] - 1s 3ms/step - loss: 0.2343 - mae: 0.3323 - val_loss: 0.2584 - val_mae: 0.3529\n",
            "Epoch 42/100\n",
            "429/429 [==============================] - 1s 3ms/step - loss: 0.2395 - mae: 0.3357 - val_loss: 0.2623 - val_mae: 0.3363\n",
            "Epoch 43/100\n",
            "429/429 [==============================] - 1s 3ms/step - loss: 0.2348 - mae: 0.3331 - val_loss: 0.2466 - val_mae: 0.3398\n",
            "Epoch 44/100\n",
            "429/429 [==============================] - 2s 4ms/step - loss: 0.2343 - mae: 0.3330 - val_loss: 0.2735 - val_mae: 0.3538\n",
            "Epoch 45/100\n",
            "429/429 [==============================] - 2s 4ms/step - loss: 0.2327 - mae: 0.3327 - val_loss: 0.2781 - val_mae: 0.3653\n",
            "Epoch 46/100\n",
            "429/429 [==============================] - 1s 3ms/step - loss: 0.2345 - mae: 0.3318 - val_loss: 0.3056 - val_mae: 0.3703\n",
            "Epoch 47/100\n",
            "429/429 [==============================] - 1s 3ms/step - loss: 0.2339 - mae: 0.3315 - val_loss: 0.2634 - val_mae: 0.3481\n",
            "Epoch 48/100\n",
            "429/429 [==============================] - 1s 3ms/step - loss: 0.2360 - mae: 0.3310 - val_loss: 0.2600 - val_mae: 0.3642\n",
            "Epoch 49/100\n",
            "429/429 [==============================] - 1s 3ms/step - loss: 0.2287 - mae: 0.3289 - val_loss: 0.2457 - val_mae: 0.3315\n",
            "Epoch 50/100\n",
            "429/429 [==============================] - 1s 3ms/step - loss: 0.2300 - mae: 0.3301 - val_loss: 0.2465 - val_mae: 0.3420\n",
            "Epoch 51/100\n",
            "429/429 [==============================] - 1s 3ms/step - loss: 0.2278 - mae: 0.3287 - val_loss: 0.2658 - val_mae: 0.3463\n",
            "Epoch 52/100\n",
            "429/429 [==============================] - 1s 3ms/step - loss: 0.2302 - mae: 0.3287 - val_loss: 0.2885 - val_mae: 0.3547\n",
            "Epoch 53/100\n",
            "429/429 [==============================] - 2s 3ms/step - loss: 0.2300 - mae: 0.3281 - val_loss: 0.2774 - val_mae: 0.3706\n",
            "Epoch 54/100\n",
            "429/429 [==============================] - 2s 5ms/step - loss: 0.2283 - mae: 0.3300 - val_loss: 0.2567 - val_mae: 0.3587\n",
            "Epoch 55/100\n",
            "429/429 [==============================] - 1s 3ms/step - loss: 0.2251 - mae: 0.3269 - val_loss: 0.2549 - val_mae: 0.3423\n",
            "Epoch 56/100\n",
            "429/429 [==============================] - 1s 3ms/step - loss: 0.2226 - mae: 0.3243 - val_loss: 0.2569 - val_mae: 0.3564\n",
            "Epoch 57/100\n",
            "429/429 [==============================] - 1s 3ms/step - loss: 0.2235 - mae: 0.3256 - val_loss: 0.2509 - val_mae: 0.3425\n",
            "Epoch 58/100\n",
            "429/429 [==============================] - 1s 3ms/step - loss: 0.2225 - mae: 0.3240 - val_loss: 0.2595 - val_mae: 0.3515\n",
            "Epoch 59/100\n",
            "429/429 [==============================] - 1s 3ms/step - loss: 0.2228 - mae: 0.3255 - val_loss: 0.2533 - val_mae: 0.3403\n",
            "Epoch 60/100\n",
            "429/429 [==============================] - 1s 3ms/step - loss: 0.2202 - mae: 0.3236 - val_loss: 0.2572 - val_mae: 0.3442\n",
            "Epoch 61/100\n",
            "429/429 [==============================] - 1s 3ms/step - loss: 0.2231 - mae: 0.3262 - val_loss: 0.2756 - val_mae: 0.3610\n",
            "Epoch 62/100\n",
            "429/429 [==============================] - 1s 3ms/step - loss: 0.2188 - mae: 0.3230 - val_loss: 0.2444 - val_mae: 0.3395\n",
            "Epoch 63/100\n",
            "429/429 [==============================] - 2s 5ms/step - loss: 0.2220 - mae: 0.3233 - val_loss: 0.2832 - val_mae: 0.3622\n",
            "Epoch 64/100\n",
            "429/429 [==============================] - 2s 4ms/step - loss: 0.2202 - mae: 0.3239 - val_loss: 0.2489 - val_mae: 0.3386\n",
            "Epoch 65/100\n",
            "429/429 [==============================] - 2s 5ms/step - loss: 0.2187 - mae: 0.3226 - val_loss: 0.2537 - val_mae: 0.3533\n",
            "Epoch 66/100\n",
            "429/429 [==============================] - 2s 4ms/step - loss: 0.2165 - mae: 0.3216 - val_loss: 0.2484 - val_mae: 0.3454\n",
            "Epoch 67/100\n",
            "429/429 [==============================] - 1s 3ms/step - loss: 0.2144 - mae: 0.3190 - val_loss: 0.2491 - val_mae: 0.3397\n",
            "Epoch 68/100\n",
            "429/429 [==============================] - 1s 3ms/step - loss: 0.2126 - mae: 0.3196 - val_loss: 0.2431 - val_mae: 0.3389\n",
            "Epoch 69/100\n",
            "429/429 [==============================] - 1s 3ms/step - loss: 0.2103 - mae: 0.3165 - val_loss: 0.2655 - val_mae: 0.3496\n",
            "Epoch 70/100\n",
            "429/429 [==============================] - 1s 3ms/step - loss: 0.2108 - mae: 0.3171 - val_loss: 0.2437 - val_mae: 0.3403\n",
            "Epoch 71/100\n",
            "429/429 [==============================] - 2s 4ms/step - loss: 0.2117 - mae: 0.3167 - val_loss: 0.2966 - val_mae: 0.3455\n",
            "Epoch 72/100\n",
            "429/429 [==============================] - 2s 4ms/step - loss: 0.2166 - mae: 0.3177 - val_loss: 0.2719 - val_mae: 0.3474\n",
            "Epoch 73/100\n",
            "429/429 [==============================] - 1s 3ms/step - loss: 0.2123 - mae: 0.3173 - val_loss: 0.2502 - val_mae: 0.3428\n",
            "Epoch 74/100\n",
            "429/429 [==============================] - 1s 3ms/step - loss: 0.2078 - mae: 0.3153 - val_loss: 0.2464 - val_mae: 0.3437\n",
            "Epoch 75/100\n",
            "429/429 [==============================] - 1s 3ms/step - loss: 0.2068 - mae: 0.3139 - val_loss: 0.2578 - val_mae: 0.3416\n",
            "Epoch 76/100\n",
            "429/429 [==============================] - 1s 3ms/step - loss: 0.2054 - mae: 0.3132 - val_loss: 0.2476 - val_mae: 0.3377\n",
            "Epoch 77/100\n",
            "429/429 [==============================] - 1s 3ms/step - loss: 0.2065 - mae: 0.3138 - val_loss: 0.2521 - val_mae: 0.3521\n",
            "Epoch 78/100\n",
            "429/429 [==============================] - 1s 3ms/step - loss: 0.2041 - mae: 0.3135 - val_loss: 0.2439 - val_mae: 0.3389\n",
            "Epoch 79/100\n",
            "429/429 [==============================] - 1s 3ms/step - loss: 0.2031 - mae: 0.3111 - val_loss: 0.2412 - val_mae: 0.3354\n",
            "Epoch 80/100\n",
            "429/429 [==============================] - 1s 3ms/step - loss: 0.2028 - mae: 0.3123 - val_loss: 0.2595 - val_mae: 0.3543\n",
            "Epoch 81/100\n",
            "429/429 [==============================] - 2s 5ms/step - loss: 0.2018 - mae: 0.3103 - val_loss: 0.2550 - val_mae: 0.3437\n",
            "Epoch 82/100\n",
            "429/429 [==============================] - 1s 3ms/step - loss: 0.2015 - mae: 0.3119 - val_loss: 0.2393 - val_mae: 0.3315\n",
            "Epoch 83/100\n",
            "429/429 [==============================] - 1s 3ms/step - loss: 0.2010 - mae: 0.3103 - val_loss: 0.2569 - val_mae: 0.3414\n",
            "Epoch 84/100\n",
            "429/429 [==============================] - 1s 3ms/step - loss: 0.2004 - mae: 0.3096 - val_loss: 0.2596 - val_mae: 0.3504\n",
            "Epoch 85/100\n",
            "429/429 [==============================] - 1s 3ms/step - loss: 0.2000 - mae: 0.3095 - val_loss: 0.2422 - val_mae: 0.3367\n",
            "Epoch 86/100\n",
            "429/429 [==============================] - 1s 3ms/step - loss: 0.2031 - mae: 0.3106 - val_loss: 0.2428 - val_mae: 0.3448\n",
            "Epoch 87/100\n",
            "429/429 [==============================] - 1s 3ms/step - loss: 0.1988 - mae: 0.3090 - val_loss: 0.2518 - val_mae: 0.3368\n",
            "Epoch 88/100\n",
            "429/429 [==============================] - 1s 3ms/step - loss: 0.1967 - mae: 0.3076 - val_loss: 0.2461 - val_mae: 0.3390\n",
            "Epoch 89/100\n",
            "429/429 [==============================] - 1s 3ms/step - loss: 0.1956 - mae: 0.3068 - val_loss: 0.2532 - val_mae: 0.3366\n",
            "Epoch 90/100\n",
            "429/429 [==============================] - 2s 5ms/step - loss: 0.1971 - mae: 0.3076 - val_loss: 0.2501 - val_mae: 0.3377\n",
            "Epoch 91/100\n",
            "429/429 [==============================] - 1s 3ms/step - loss: 0.1914 - mae: 0.3038 - val_loss: 0.2535 - val_mae: 0.3511\n",
            "Epoch 92/100\n",
            "429/429 [==============================] - 1s 3ms/step - loss: 0.1969 - mae: 0.3095 - val_loss: 0.2511 - val_mae: 0.3387\n",
            "Epoch 93/100\n",
            "429/429 [==============================] - 1s 3ms/step - loss: 0.1935 - mae: 0.3061 - val_loss: 0.2608 - val_mae: 0.3521\n",
            "Epoch 94/100\n",
            "429/429 [==============================] - 1s 3ms/step - loss: 0.1997 - mae: 0.3066 - val_loss: 0.2480 - val_mae: 0.3353\n",
            "Epoch 95/100\n",
            "429/429 [==============================] - 1s 3ms/step - loss: 0.1931 - mae: 0.3053 - val_loss: 0.2623 - val_mae: 0.3484\n",
            "Epoch 96/100\n",
            "429/429 [==============================] - 1s 3ms/step - loss: 0.1941 - mae: 0.3050 - val_loss: 0.2566 - val_mae: 0.3512\n",
            "Epoch 97/100\n",
            "429/429 [==============================] - 1s 3ms/step - loss: 0.1913 - mae: 0.3045 - val_loss: 0.2557 - val_mae: 0.3433\n",
            "Epoch 98/100\n",
            "429/429 [==============================] - 1s 3ms/step - loss: 0.1911 - mae: 0.3041 - val_loss: 0.2589 - val_mae: 0.3510\n",
            "Epoch 99/100\n",
            "429/429 [==============================] - 2s 5ms/step - loss: 0.1869 - mae: 0.3002 - val_loss: 0.2531 - val_mae: 0.3492\n",
            "Epoch 100/100\n",
            "429/429 [==============================] - 1s 3ms/step - loss: 0.1905 - mae: 0.3039 - val_loss: 0.2690 - val_mae: 0.3576\n"
          ]
        }
      ]
    },
    {
      "cell_type": "markdown",
      "source": [],
      "metadata": {
        "id": "tcXttB_p0sPw"
      }
    },
    {
      "cell_type": "markdown",
      "source": [
        "#### 1.5. Сделайте вывод, хорошо ли модель обучается?"
      ],
      "metadata": {
        "id": "ZJYAmRd-zCtX"
      }
    },
    {
      "cell_type": "code",
      "source": [
        "fig = go.Figure()\n",
        "fig.add_trace(go.Scattergl(y=history.history['loss'],\n",
        "                    name='Train'))\n",
        "\n",
        "fig.add_trace(go.Scattergl(y=history.history['val_loss'],\n",
        "                    name='Valid'))\n",
        "\n",
        "\n",
        "fig.update_layout(height=500, width=700,\n",
        "                  xaxis_title='Epoch',\n",
        "                  yaxis_title='Loss')\n",
        "\n",
        "fig.show()"
      ],
      "metadata": {
        "colab": {
          "base_uri": "https://localhost:8080/",
          "height": 517
        },
        "id": "gcNnv_gnzKhP",
        "outputId": "539371b1-5625-44d5-87b6-2a8a6bbb912f"
      },
      "execution_count": null,
      "outputs": [
        {
          "output_type": "display_data",
          "data": {
            "text/html": [
              "<html>\n",
              "<head><meta charset=\"utf-8\" /></head>\n",
              "<body>\n",
              "    <div>            <script src=\"https://cdnjs.cloudflare.com/ajax/libs/mathjax/2.7.5/MathJax.js?config=TeX-AMS-MML_SVG\"></script><script type=\"text/javascript\">if (window.MathJax) {MathJax.Hub.Config({SVG: {font: \"STIX-Web\"}});}</script>                <script type=\"text/javascript\">window.PlotlyConfig = {MathJaxConfig: 'local'};</script>\n",
              "        <script src=\"https://cdn.plot.ly/plotly-2.8.3.min.js\"></script>                <div id=\"3b76cba6-99cf-4997-aff2-a2cf81e77649\" class=\"plotly-graph-div\" style=\"height:500px; width:700px;\"></div>            <script type=\"text/javascript\">                                    window.PLOTLYENV=window.PLOTLYENV || {};                                    if (document.getElementById(\"3b76cba6-99cf-4997-aff2-a2cf81e77649\")) {                    Plotly.newPlot(                        \"3b76cba6-99cf-4997-aff2-a2cf81e77649\",                        [{\"name\":\"Train\",\"y\":[0.7290347218513489,0.39580821990966797,0.38532641530036926,0.3525058329105377,0.341411828994751,0.32432353496551514,0.3139742612838745,0.3057451844215393,0.3030660152435303,0.29568490386009216,0.31818944215774536,0.2973689138889313,0.28351476788520813,0.2785837948322296,0.27453354001045227,0.27849921584129333,0.2722795009613037,0.28473860025405884,0.273194819688797,0.2698383629322052,0.26482832431793213,0.266838014125824,0.2702491879463196,0.2591743767261505,0.25650423765182495,0.25758758187294006,0.25501370429992676,0.2524639368057251,0.2513105273246765,0.25048965215682983,0.24743565917015076,0.24802608788013458,0.24560296535491943,0.24460367858409882,0.24785780906677246,0.24369195103645325,0.23935632407665253,0.23997735977172852,0.24162732064723969,0.23950061202049255,0.2342548966407776,0.23950129747390747,0.2348044514656067,0.23432226479053497,0.23268547654151917,0.23446418344974518,0.2339099645614624,0.23599283397197723,0.22869573533535004,0.2300049215555191,0.22777584195137024,0.23024152219295502,0.22999809682369232,0.22832876443862915,0.22514258325099945,0.2226235270500183,0.22345593571662903,0.22254148125648499,0.22279807925224304,0.2202429473400116,0.22312816977500916,0.2187991887331009,0.2220393568277359,0.22017593681812286,0.21872909367084503,0.2165352702140808,0.21436941623687744,0.2126171886920929,0.21027226746082306,0.21076788008213043,0.2117242068052292,0.2165532112121582,0.21231350302696228,0.20777900516986847,0.2067701816558838,0.20538857579231262,0.20651434361934662,0.2041037529706955,0.2030678689479828,0.20277942717075348,0.20184670388698578,0.20149774849414825,0.20101208984851837,0.2004334181547165,0.20001909136772156,0.20311100780963898,0.1987612098455429,0.19674205780029297,0.19562634825706482,0.1970921903848648,0.19140546023845673,0.19694684445858002,0.1934625804424286,0.19974245131015778,0.19305817782878876,0.19414955377578735,0.19128020107746124,0.19112920761108398,0.18691353499889374,0.19048750400543213],\"type\":\"scattergl\"},{\"name\":\"Valid\",\"y\":[0.5971459150314331,0.48401743173599243,0.3996168076992035,0.3665749430656433,0.361249178647995,0.3222304880619049,0.3332696855068207,0.35029035806655884,0.36119502782821655,0.5467081069946289,0.4279352128505707,0.2967950403690338,0.27688220143318176,0.28299328684806824,0.29563525319099426,0.3076539635658264,0.32863596081733704,0.3589477837085724,0.28025588393211365,0.309791624546051,0.2776621878147125,0.3811984956264496,0.2500707805156708,0.27017247676849365,0.2769468128681183,0.28486892580986023,0.25568777322769165,0.2881813645362854,0.2575317323207855,0.2811182141304016,0.2693406641483307,0.2800300419330597,0.254233717918396,0.28667211532592773,0.2478460818529129,0.24687205255031586,0.24098394811153412,0.2587395906448364,0.29009324312210083,0.2648361325263977,0.2584131062030792,0.26234158873558044,0.24657544493675232,0.2735286355018616,0.2781170606613159,0.3055513799190521,0.2633889317512512,0.2599681615829468,0.24572111666202545,0.24646487832069397,0.26577454805374146,0.28851065039634705,0.27744626998901367,0.25671207904815674,0.25490498542785645,0.25689831376075745,0.2508934438228607,0.2595119774341583,0.25327837467193604,0.2572137713432312,0.27559182047843933,0.2443559616804123,0.28316807746887207,0.24888648092746735,0.25366637110710144,0.2483748495578766,0.24911370873451233,0.24305076897144318,0.2655135691165924,0.24370715022087097,0.29663634300231934,0.2718758285045624,0.25024980306625366,0.2464226931333542,0.25783756375312805,0.24758200347423553,0.2521440088748932,0.2438935786485672,0.24119693040847778,0.25952428579330444,0.25498583912849426,0.2393156886100769,0.2569220960140228,0.25959673523902893,0.2422483265399933,0.2427719384431839,0.2517797350883484,0.24605441093444824,0.2532094419002533,0.2500995397567749,0.25348684191703796,0.25113028287887573,0.26077672839164734,0.24799680709838867,0.26229414343833923,0.2565980553627014,0.25571152567863464,0.25891411304473877,0.2531144320964813,0.2689569294452667],\"type\":\"scattergl\"}],                        {\"template\":{\"data\":{\"bar\":[{\"error_x\":{\"color\":\"#2a3f5f\"},\"error_y\":{\"color\":\"#2a3f5f\"},\"marker\":{\"line\":{\"color\":\"#E5ECF6\",\"width\":0.5},\"pattern\":{\"fillmode\":\"overlay\",\"size\":10,\"solidity\":0.2}},\"type\":\"bar\"}],\"barpolar\":[{\"marker\":{\"line\":{\"color\":\"#E5ECF6\",\"width\":0.5},\"pattern\":{\"fillmode\":\"overlay\",\"size\":10,\"solidity\":0.2}},\"type\":\"barpolar\"}],\"carpet\":[{\"aaxis\":{\"endlinecolor\":\"#2a3f5f\",\"gridcolor\":\"white\",\"linecolor\":\"white\",\"minorgridcolor\":\"white\",\"startlinecolor\":\"#2a3f5f\"},\"baxis\":{\"endlinecolor\":\"#2a3f5f\",\"gridcolor\":\"white\",\"linecolor\":\"white\",\"minorgridcolor\":\"white\",\"startlinecolor\":\"#2a3f5f\"},\"type\":\"carpet\"}],\"choropleth\":[{\"colorbar\":{\"outlinewidth\":0,\"ticks\":\"\"},\"type\":\"choropleth\"}],\"contour\":[{\"colorbar\":{\"outlinewidth\":0,\"ticks\":\"\"},\"colorscale\":[[0.0,\"#0d0887\"],[0.1111111111111111,\"#46039f\"],[0.2222222222222222,\"#7201a8\"],[0.3333333333333333,\"#9c179e\"],[0.4444444444444444,\"#bd3786\"],[0.5555555555555556,\"#d8576b\"],[0.6666666666666666,\"#ed7953\"],[0.7777777777777778,\"#fb9f3a\"],[0.8888888888888888,\"#fdca26\"],[1.0,\"#f0f921\"]],\"type\":\"contour\"}],\"contourcarpet\":[{\"colorbar\":{\"outlinewidth\":0,\"ticks\":\"\"},\"type\":\"contourcarpet\"}],\"heatmap\":[{\"colorbar\":{\"outlinewidth\":0,\"ticks\":\"\"},\"colorscale\":[[0.0,\"#0d0887\"],[0.1111111111111111,\"#46039f\"],[0.2222222222222222,\"#7201a8\"],[0.3333333333333333,\"#9c179e\"],[0.4444444444444444,\"#bd3786\"],[0.5555555555555556,\"#d8576b\"],[0.6666666666666666,\"#ed7953\"],[0.7777777777777778,\"#fb9f3a\"],[0.8888888888888888,\"#fdca26\"],[1.0,\"#f0f921\"]],\"type\":\"heatmap\"}],\"heatmapgl\":[{\"colorbar\":{\"outlinewidth\":0,\"ticks\":\"\"},\"colorscale\":[[0.0,\"#0d0887\"],[0.1111111111111111,\"#46039f\"],[0.2222222222222222,\"#7201a8\"],[0.3333333333333333,\"#9c179e\"],[0.4444444444444444,\"#bd3786\"],[0.5555555555555556,\"#d8576b\"],[0.6666666666666666,\"#ed7953\"],[0.7777777777777778,\"#fb9f3a\"],[0.8888888888888888,\"#fdca26\"],[1.0,\"#f0f921\"]],\"type\":\"heatmapgl\"}],\"histogram\":[{\"marker\":{\"pattern\":{\"fillmode\":\"overlay\",\"size\":10,\"solidity\":0.2}},\"type\":\"histogram\"}],\"histogram2d\":[{\"colorbar\":{\"outlinewidth\":0,\"ticks\":\"\"},\"colorscale\":[[0.0,\"#0d0887\"],[0.1111111111111111,\"#46039f\"],[0.2222222222222222,\"#7201a8\"],[0.3333333333333333,\"#9c179e\"],[0.4444444444444444,\"#bd3786\"],[0.5555555555555556,\"#d8576b\"],[0.6666666666666666,\"#ed7953\"],[0.7777777777777778,\"#fb9f3a\"],[0.8888888888888888,\"#fdca26\"],[1.0,\"#f0f921\"]],\"type\":\"histogram2d\"}],\"histogram2dcontour\":[{\"colorbar\":{\"outlinewidth\":0,\"ticks\":\"\"},\"colorscale\":[[0.0,\"#0d0887\"],[0.1111111111111111,\"#46039f\"],[0.2222222222222222,\"#7201a8\"],[0.3333333333333333,\"#9c179e\"],[0.4444444444444444,\"#bd3786\"],[0.5555555555555556,\"#d8576b\"],[0.6666666666666666,\"#ed7953\"],[0.7777777777777778,\"#fb9f3a\"],[0.8888888888888888,\"#fdca26\"],[1.0,\"#f0f921\"]],\"type\":\"histogram2dcontour\"}],\"mesh3d\":[{\"colorbar\":{\"outlinewidth\":0,\"ticks\":\"\"},\"type\":\"mesh3d\"}],\"parcoords\":[{\"line\":{\"colorbar\":{\"outlinewidth\":0,\"ticks\":\"\"}},\"type\":\"parcoords\"}],\"pie\":[{\"automargin\":true,\"type\":\"pie\"}],\"scatter\":[{\"marker\":{\"colorbar\":{\"outlinewidth\":0,\"ticks\":\"\"}},\"type\":\"scatter\"}],\"scatter3d\":[{\"line\":{\"colorbar\":{\"outlinewidth\":0,\"ticks\":\"\"}},\"marker\":{\"colorbar\":{\"outlinewidth\":0,\"ticks\":\"\"}},\"type\":\"scatter3d\"}],\"scattercarpet\":[{\"marker\":{\"colorbar\":{\"outlinewidth\":0,\"ticks\":\"\"}},\"type\":\"scattercarpet\"}],\"scattergeo\":[{\"marker\":{\"colorbar\":{\"outlinewidth\":0,\"ticks\":\"\"}},\"type\":\"scattergeo\"}],\"scattergl\":[{\"marker\":{\"colorbar\":{\"outlinewidth\":0,\"ticks\":\"\"}},\"type\":\"scattergl\"}],\"scattermapbox\":[{\"marker\":{\"colorbar\":{\"outlinewidth\":0,\"ticks\":\"\"}},\"type\":\"scattermapbox\"}],\"scatterpolar\":[{\"marker\":{\"colorbar\":{\"outlinewidth\":0,\"ticks\":\"\"}},\"type\":\"scatterpolar\"}],\"scatterpolargl\":[{\"marker\":{\"colorbar\":{\"outlinewidth\":0,\"ticks\":\"\"}},\"type\":\"scatterpolargl\"}],\"scatterternary\":[{\"marker\":{\"colorbar\":{\"outlinewidth\":0,\"ticks\":\"\"}},\"type\":\"scatterternary\"}],\"surface\":[{\"colorbar\":{\"outlinewidth\":0,\"ticks\":\"\"},\"colorscale\":[[0.0,\"#0d0887\"],[0.1111111111111111,\"#46039f\"],[0.2222222222222222,\"#7201a8\"],[0.3333333333333333,\"#9c179e\"],[0.4444444444444444,\"#bd3786\"],[0.5555555555555556,\"#d8576b\"],[0.6666666666666666,\"#ed7953\"],[0.7777777777777778,\"#fb9f3a\"],[0.8888888888888888,\"#fdca26\"],[1.0,\"#f0f921\"]],\"type\":\"surface\"}],\"table\":[{\"cells\":{\"fill\":{\"color\":\"#EBF0F8\"},\"line\":{\"color\":\"white\"}},\"header\":{\"fill\":{\"color\":\"#C8D4E3\"},\"line\":{\"color\":\"white\"}},\"type\":\"table\"}]},\"layout\":{\"annotationdefaults\":{\"arrowcolor\":\"#2a3f5f\",\"arrowhead\":0,\"arrowwidth\":1},\"autotypenumbers\":\"strict\",\"coloraxis\":{\"colorbar\":{\"outlinewidth\":0,\"ticks\":\"\"}},\"colorscale\":{\"diverging\":[[0,\"#8e0152\"],[0.1,\"#c51b7d\"],[0.2,\"#de77ae\"],[0.3,\"#f1b6da\"],[0.4,\"#fde0ef\"],[0.5,\"#f7f7f7\"],[0.6,\"#e6f5d0\"],[0.7,\"#b8e186\"],[0.8,\"#7fbc41\"],[0.9,\"#4d9221\"],[1,\"#276419\"]],\"sequential\":[[0.0,\"#0d0887\"],[0.1111111111111111,\"#46039f\"],[0.2222222222222222,\"#7201a8\"],[0.3333333333333333,\"#9c179e\"],[0.4444444444444444,\"#bd3786\"],[0.5555555555555556,\"#d8576b\"],[0.6666666666666666,\"#ed7953\"],[0.7777777777777778,\"#fb9f3a\"],[0.8888888888888888,\"#fdca26\"],[1.0,\"#f0f921\"]],\"sequentialminus\":[[0.0,\"#0d0887\"],[0.1111111111111111,\"#46039f\"],[0.2222222222222222,\"#7201a8\"],[0.3333333333333333,\"#9c179e\"],[0.4444444444444444,\"#bd3786\"],[0.5555555555555556,\"#d8576b\"],[0.6666666666666666,\"#ed7953\"],[0.7777777777777778,\"#fb9f3a\"],[0.8888888888888888,\"#fdca26\"],[1.0,\"#f0f921\"]]},\"colorway\":[\"#636efa\",\"#EF553B\",\"#00cc96\",\"#ab63fa\",\"#FFA15A\",\"#19d3f3\",\"#FF6692\",\"#B6E880\",\"#FF97FF\",\"#FECB52\"],\"font\":{\"color\":\"#2a3f5f\"},\"geo\":{\"bgcolor\":\"white\",\"lakecolor\":\"white\",\"landcolor\":\"#E5ECF6\",\"showlakes\":true,\"showland\":true,\"subunitcolor\":\"white\"},\"hoverlabel\":{\"align\":\"left\"},\"hovermode\":\"closest\",\"mapbox\":{\"style\":\"light\"},\"paper_bgcolor\":\"white\",\"plot_bgcolor\":\"#E5ECF6\",\"polar\":{\"angularaxis\":{\"gridcolor\":\"white\",\"linecolor\":\"white\",\"ticks\":\"\"},\"bgcolor\":\"#E5ECF6\",\"radialaxis\":{\"gridcolor\":\"white\",\"linecolor\":\"white\",\"ticks\":\"\"}},\"scene\":{\"xaxis\":{\"backgroundcolor\":\"#E5ECF6\",\"gridcolor\":\"white\",\"gridwidth\":2,\"linecolor\":\"white\",\"showbackground\":true,\"ticks\":\"\",\"zerolinecolor\":\"white\"},\"yaxis\":{\"backgroundcolor\":\"#E5ECF6\",\"gridcolor\":\"white\",\"gridwidth\":2,\"linecolor\":\"white\",\"showbackground\":true,\"ticks\":\"\",\"zerolinecolor\":\"white\"},\"zaxis\":{\"backgroundcolor\":\"#E5ECF6\",\"gridcolor\":\"white\",\"gridwidth\":2,\"linecolor\":\"white\",\"showbackground\":true,\"ticks\":\"\",\"zerolinecolor\":\"white\"}},\"shapedefaults\":{\"line\":{\"color\":\"#2a3f5f\"}},\"ternary\":{\"aaxis\":{\"gridcolor\":\"white\",\"linecolor\":\"white\",\"ticks\":\"\"},\"baxis\":{\"gridcolor\":\"white\",\"linecolor\":\"white\",\"ticks\":\"\"},\"bgcolor\":\"#E5ECF6\",\"caxis\":{\"gridcolor\":\"white\",\"linecolor\":\"white\",\"ticks\":\"\"}},\"title\":{\"x\":0.05},\"xaxis\":{\"automargin\":true,\"gridcolor\":\"white\",\"linecolor\":\"white\",\"ticks\":\"\",\"title\":{\"standoff\":15},\"zerolinecolor\":\"white\",\"zerolinewidth\":2},\"yaxis\":{\"automargin\":true,\"gridcolor\":\"white\",\"linecolor\":\"white\",\"ticks\":\"\",\"title\":{\"standoff\":15},\"zerolinecolor\":\"white\",\"zerolinewidth\":2}}},\"height\":500,\"width\":700,\"xaxis\":{\"title\":{\"text\":\"Epoch\"}},\"yaxis\":{\"title\":{\"text\":\"Loss\"}}},                        {\"responsive\": true}                    ).then(function(){\n",
              "                            \n",
              "var gd = document.getElementById('3b76cba6-99cf-4997-aff2-a2cf81e77649');\n",
              "var x = new MutationObserver(function (mutations, observer) {{\n",
              "        var display = window.getComputedStyle(gd).display;\n",
              "        if (!display || display === 'none') {{\n",
              "            console.log([gd, 'removed!']);\n",
              "            Plotly.purge(gd);\n",
              "            observer.disconnect();\n",
              "        }}\n",
              "}});\n",
              "\n",
              "// Listen for the removal of the full notebook cells\n",
              "var notebookContainer = gd.closest('#notebook-container');\n",
              "if (notebookContainer) {{\n",
              "    x.observe(notebookContainer, {childList: true});\n",
              "}}\n",
              "\n",
              "// Listen for the clearing of the current output cell\n",
              "var outputEl = gd.closest('.output');\n",
              "if (outputEl) {{\n",
              "    x.observe(outputEl, {childList: true});\n",
              "}}\n",
              "\n",
              "                        })                };                            </script>        </div>\n",
              "</body>\n",
              "</html>"
            ]
          },
          "metadata": {}
        }
      ]
    },
    {
      "cell_type": "code",
      "source": [
        "fig = go.Figure()\n",
        "print(history.history.keys())\n",
        "fig.add_trace(go.Scattergl(y=history.history['mae'],\n",
        "                    name='Train'))\n",
        "\n",
        "fig.add_trace(go.Scattergl(y=history.history['val_mae'],\n",
        "                    name='Valid'))\n",
        "\n",
        "\n",
        "fig.update_layout(height=500, width=700,\n",
        "                  xaxis_title='Epoch',\n",
        "                  yaxis_title='Mean Absolute Error')\n",
        "\n",
        "fig.show()"
      ],
      "metadata": {
        "colab": {
          "base_uri": "https://localhost:8080/",
          "height": 534
        },
        "id": "Bku41TZx1wPi",
        "outputId": "73852900-c5ea-42a4-e4b8-1835beb12202"
      },
      "execution_count": null,
      "outputs": [
        {
          "output_type": "stream",
          "name": "stdout",
          "text": [
            "dict_keys(['loss', 'mae', 'val_loss', 'val_mae'])\n"
          ]
        },
        {
          "output_type": "display_data",
          "data": {
            "text/html": [
              "<html>\n",
              "<head><meta charset=\"utf-8\" /></head>\n",
              "<body>\n",
              "    <div>            <script src=\"https://cdnjs.cloudflare.com/ajax/libs/mathjax/2.7.5/MathJax.js?config=TeX-AMS-MML_SVG\"></script><script type=\"text/javascript\">if (window.MathJax) {MathJax.Hub.Config({SVG: {font: \"STIX-Web\"}});}</script>                <script type=\"text/javascript\">window.PlotlyConfig = {MathJaxConfig: 'local'};</script>\n",
              "        <script src=\"https://cdn.plot.ly/plotly-2.8.3.min.js\"></script>                <div id=\"38687d76-eed3-4bc3-b650-2e5f5285606c\" class=\"plotly-graph-div\" style=\"height:500px; width:700px;\"></div>            <script type=\"text/javascript\">                                    window.PLOTLYENV=window.PLOTLYENV || {};                                    if (document.getElementById(\"38687d76-eed3-4bc3-b650-2e5f5285606c\")) {                    Plotly.newPlot(                        \"38687d76-eed3-4bc3-b650-2e5f5285606c\",                        [{\"name\":\"Train\",\"y\":[0.5883302092552185,0.4457116425037384,0.43165862560272217,0.4202424883842468,0.410319983959198,0.4008274972438812,0.3918820917606354,0.38626423478126526,0.38236385583877563,0.37714648246765137,0.37900015711784363,0.3712984323501587,0.3697819113731384,0.3657669425010681,0.3632652163505554,0.36306536197662354,0.3601592779159546,0.359015554189682,0.35711532831192017,0.3564704358577728,0.35433995723724365,0.35332030057907104,0.3509276211261749,0.34971532225608826,0.347370445728302,0.34882989525794983,0.34870126843452454,0.3454561233520508,0.3420603573322296,0.3434571623802185,0.3433700501918793,0.34146779775619507,0.34058427810668945,0.3400736451148987,0.34054040908813477,0.33978939056396484,0.33553117513656616,0.3371993899345398,0.33796781301498413,0.33453992009162903,0.33228379487991333,0.33572226762771606,0.33311307430267334,0.3330024182796478,0.3327315151691437,0.3317577838897705,0.33148857951164246,0.33102884888648987,0.3288514018058777,0.33009961247444153,0.3286641538143158,0.3286609649658203,0.328119695186615,0.3299599289894104,0.32689225673675537,0.3242528438568115,0.3256417214870453,0.32402709126472473,0.32553359866142273,0.3235662281513214,0.3262089192867279,0.3230430781841278,0.32328933477401733,0.3239082396030426,0.32260051369667053,0.3215513527393341,0.31900763511657715,0.3196345865726471,0.31651005148887634,0.31714075803756714,0.3167435824871063,0.31765446066856384,0.3172997832298279,0.31532081961631775,0.3138739764690399,0.31323397159576416,0.31384944915771484,0.3134870231151581,0.3111473023891449,0.3123033940792084,0.3103368282318115,0.3118955194950104,0.31029897928237915,0.30963844060897827,0.3094843924045563,0.31062331795692444,0.30895593762397766,0.30763137340545654,0.3068462312221527,0.3075999319553375,0.3037528395652771,0.30954864621162415,0.306080162525177,0.3066280782222748,0.30529361963272095,0.30503174662590027,0.30445554852485657,0.30414727330207825,0.3001886010169983,0.3039332628250122],\"type\":\"scattergl\"},{\"name\":\"Valid\",\"y\":[0.5132782459259033,0.44569116830825806,0.40883883833885193,0.40915295481681824,0.39430028200149536,0.387198805809021,0.3900671899318695,0.42503389716148376,0.39341774582862854,0.40598708391189575,0.3703698217868805,0.3795340061187744,0.35733410716056824,0.3680843710899353,0.3783801794052124,0.3688781261444092,0.3560607433319092,0.36699536442756653,0.351837158203125,0.3711739480495453,0.3482500910758972,0.35666361451148987,0.3427474796772003,0.35061895847320557,0.35674387216567993,0.36013245582580566,0.348026305437088,0.3580651879310608,0.3486844003200531,0.35604777932167053,0.3530789911746979,0.35728561878204346,0.35103678703308105,0.3486538231372833,0.33694130182266235,0.3340303897857666,0.33745452761650085,0.35065048933029175,0.3778969347476959,0.35994553565979004,0.3529135286808014,0.3363106846809387,0.33982861042022705,0.3537585735321045,0.365349680185318,0.37026846408843994,0.3481265604496002,0.36415672302246094,0.3315087854862213,0.3420276939868927,0.346291184425354,0.3547307252883911,0.370586633682251,0.358675092458725,0.342318594455719,0.3564164340496063,0.3424776792526245,0.35145020484924316,0.3402891457080841,0.34415358304977417,0.3610108494758606,0.33947470784187317,0.3622344136238098,0.3386214077472687,0.3532799482345581,0.34544700384140015,0.33971723914146423,0.3389044404029846,0.34961074590682983,0.34030383825302124,0.3454888164997101,0.34735748171806335,0.342787504196167,0.3436932861804962,0.3415619134902954,0.33770763874053955,0.3521447777748108,0.33890300989151,0.3354288339614868,0.3542739152908325,0.3436513841152191,0.3314722180366516,0.34137585759162903,0.35042664408683777,0.3367147147655487,0.34478825330734253,0.3368077874183655,0.3389508128166199,0.33657118678092957,0.33771783113479614,0.3510890603065491,0.3386819064617157,0.3520659804344177,0.33534517884254456,0.34842172265052795,0.35116034746170044,0.3433067202568054,0.3509680926799774,0.34916406869888306,0.35764363408088684],\"type\":\"scattergl\"}],                        {\"template\":{\"data\":{\"bar\":[{\"error_x\":{\"color\":\"#2a3f5f\"},\"error_y\":{\"color\":\"#2a3f5f\"},\"marker\":{\"line\":{\"color\":\"#E5ECF6\",\"width\":0.5},\"pattern\":{\"fillmode\":\"overlay\",\"size\":10,\"solidity\":0.2}},\"type\":\"bar\"}],\"barpolar\":[{\"marker\":{\"line\":{\"color\":\"#E5ECF6\",\"width\":0.5},\"pattern\":{\"fillmode\":\"overlay\",\"size\":10,\"solidity\":0.2}},\"type\":\"barpolar\"}],\"carpet\":[{\"aaxis\":{\"endlinecolor\":\"#2a3f5f\",\"gridcolor\":\"white\",\"linecolor\":\"white\",\"minorgridcolor\":\"white\",\"startlinecolor\":\"#2a3f5f\"},\"baxis\":{\"endlinecolor\":\"#2a3f5f\",\"gridcolor\":\"white\",\"linecolor\":\"white\",\"minorgridcolor\":\"white\",\"startlinecolor\":\"#2a3f5f\"},\"type\":\"carpet\"}],\"choropleth\":[{\"colorbar\":{\"outlinewidth\":0,\"ticks\":\"\"},\"type\":\"choropleth\"}],\"contour\":[{\"colorbar\":{\"outlinewidth\":0,\"ticks\":\"\"},\"colorscale\":[[0.0,\"#0d0887\"],[0.1111111111111111,\"#46039f\"],[0.2222222222222222,\"#7201a8\"],[0.3333333333333333,\"#9c179e\"],[0.4444444444444444,\"#bd3786\"],[0.5555555555555556,\"#d8576b\"],[0.6666666666666666,\"#ed7953\"],[0.7777777777777778,\"#fb9f3a\"],[0.8888888888888888,\"#fdca26\"],[1.0,\"#f0f921\"]],\"type\":\"contour\"}],\"contourcarpet\":[{\"colorbar\":{\"outlinewidth\":0,\"ticks\":\"\"},\"type\":\"contourcarpet\"}],\"heatmap\":[{\"colorbar\":{\"outlinewidth\":0,\"ticks\":\"\"},\"colorscale\":[[0.0,\"#0d0887\"],[0.1111111111111111,\"#46039f\"],[0.2222222222222222,\"#7201a8\"],[0.3333333333333333,\"#9c179e\"],[0.4444444444444444,\"#bd3786\"],[0.5555555555555556,\"#d8576b\"],[0.6666666666666666,\"#ed7953\"],[0.7777777777777778,\"#fb9f3a\"],[0.8888888888888888,\"#fdca26\"],[1.0,\"#f0f921\"]],\"type\":\"heatmap\"}],\"heatmapgl\":[{\"colorbar\":{\"outlinewidth\":0,\"ticks\":\"\"},\"colorscale\":[[0.0,\"#0d0887\"],[0.1111111111111111,\"#46039f\"],[0.2222222222222222,\"#7201a8\"],[0.3333333333333333,\"#9c179e\"],[0.4444444444444444,\"#bd3786\"],[0.5555555555555556,\"#d8576b\"],[0.6666666666666666,\"#ed7953\"],[0.7777777777777778,\"#fb9f3a\"],[0.8888888888888888,\"#fdca26\"],[1.0,\"#f0f921\"]],\"type\":\"heatmapgl\"}],\"histogram\":[{\"marker\":{\"pattern\":{\"fillmode\":\"overlay\",\"size\":10,\"solidity\":0.2}},\"type\":\"histogram\"}],\"histogram2d\":[{\"colorbar\":{\"outlinewidth\":0,\"ticks\":\"\"},\"colorscale\":[[0.0,\"#0d0887\"],[0.1111111111111111,\"#46039f\"],[0.2222222222222222,\"#7201a8\"],[0.3333333333333333,\"#9c179e\"],[0.4444444444444444,\"#bd3786\"],[0.5555555555555556,\"#d8576b\"],[0.6666666666666666,\"#ed7953\"],[0.7777777777777778,\"#fb9f3a\"],[0.8888888888888888,\"#fdca26\"],[1.0,\"#f0f921\"]],\"type\":\"histogram2d\"}],\"histogram2dcontour\":[{\"colorbar\":{\"outlinewidth\":0,\"ticks\":\"\"},\"colorscale\":[[0.0,\"#0d0887\"],[0.1111111111111111,\"#46039f\"],[0.2222222222222222,\"#7201a8\"],[0.3333333333333333,\"#9c179e\"],[0.4444444444444444,\"#bd3786\"],[0.5555555555555556,\"#d8576b\"],[0.6666666666666666,\"#ed7953\"],[0.7777777777777778,\"#fb9f3a\"],[0.8888888888888888,\"#fdca26\"],[1.0,\"#f0f921\"]],\"type\":\"histogram2dcontour\"}],\"mesh3d\":[{\"colorbar\":{\"outlinewidth\":0,\"ticks\":\"\"},\"type\":\"mesh3d\"}],\"parcoords\":[{\"line\":{\"colorbar\":{\"outlinewidth\":0,\"ticks\":\"\"}},\"type\":\"parcoords\"}],\"pie\":[{\"automargin\":true,\"type\":\"pie\"}],\"scatter\":[{\"marker\":{\"colorbar\":{\"outlinewidth\":0,\"ticks\":\"\"}},\"type\":\"scatter\"}],\"scatter3d\":[{\"line\":{\"colorbar\":{\"outlinewidth\":0,\"ticks\":\"\"}},\"marker\":{\"colorbar\":{\"outlinewidth\":0,\"ticks\":\"\"}},\"type\":\"scatter3d\"}],\"scattercarpet\":[{\"marker\":{\"colorbar\":{\"outlinewidth\":0,\"ticks\":\"\"}},\"type\":\"scattercarpet\"}],\"scattergeo\":[{\"marker\":{\"colorbar\":{\"outlinewidth\":0,\"ticks\":\"\"}},\"type\":\"scattergeo\"}],\"scattergl\":[{\"marker\":{\"colorbar\":{\"outlinewidth\":0,\"ticks\":\"\"}},\"type\":\"scattergl\"}],\"scattermapbox\":[{\"marker\":{\"colorbar\":{\"outlinewidth\":0,\"ticks\":\"\"}},\"type\":\"scattermapbox\"}],\"scatterpolar\":[{\"marker\":{\"colorbar\":{\"outlinewidth\":0,\"ticks\":\"\"}},\"type\":\"scatterpolar\"}],\"scatterpolargl\":[{\"marker\":{\"colorbar\":{\"outlinewidth\":0,\"ticks\":\"\"}},\"type\":\"scatterpolargl\"}],\"scatterternary\":[{\"marker\":{\"colorbar\":{\"outlinewidth\":0,\"ticks\":\"\"}},\"type\":\"scatterternary\"}],\"surface\":[{\"colorbar\":{\"outlinewidth\":0,\"ticks\":\"\"},\"colorscale\":[[0.0,\"#0d0887\"],[0.1111111111111111,\"#46039f\"],[0.2222222222222222,\"#7201a8\"],[0.3333333333333333,\"#9c179e\"],[0.4444444444444444,\"#bd3786\"],[0.5555555555555556,\"#d8576b\"],[0.6666666666666666,\"#ed7953\"],[0.7777777777777778,\"#fb9f3a\"],[0.8888888888888888,\"#fdca26\"],[1.0,\"#f0f921\"]],\"type\":\"surface\"}],\"table\":[{\"cells\":{\"fill\":{\"color\":\"#EBF0F8\"},\"line\":{\"color\":\"white\"}},\"header\":{\"fill\":{\"color\":\"#C8D4E3\"},\"line\":{\"color\":\"white\"}},\"type\":\"table\"}]},\"layout\":{\"annotationdefaults\":{\"arrowcolor\":\"#2a3f5f\",\"arrowhead\":0,\"arrowwidth\":1},\"autotypenumbers\":\"strict\",\"coloraxis\":{\"colorbar\":{\"outlinewidth\":0,\"ticks\":\"\"}},\"colorscale\":{\"diverging\":[[0,\"#8e0152\"],[0.1,\"#c51b7d\"],[0.2,\"#de77ae\"],[0.3,\"#f1b6da\"],[0.4,\"#fde0ef\"],[0.5,\"#f7f7f7\"],[0.6,\"#e6f5d0\"],[0.7,\"#b8e186\"],[0.8,\"#7fbc41\"],[0.9,\"#4d9221\"],[1,\"#276419\"]],\"sequential\":[[0.0,\"#0d0887\"],[0.1111111111111111,\"#46039f\"],[0.2222222222222222,\"#7201a8\"],[0.3333333333333333,\"#9c179e\"],[0.4444444444444444,\"#bd3786\"],[0.5555555555555556,\"#d8576b\"],[0.6666666666666666,\"#ed7953\"],[0.7777777777777778,\"#fb9f3a\"],[0.8888888888888888,\"#fdca26\"],[1.0,\"#f0f921\"]],\"sequentialminus\":[[0.0,\"#0d0887\"],[0.1111111111111111,\"#46039f\"],[0.2222222222222222,\"#7201a8\"],[0.3333333333333333,\"#9c179e\"],[0.4444444444444444,\"#bd3786\"],[0.5555555555555556,\"#d8576b\"],[0.6666666666666666,\"#ed7953\"],[0.7777777777777778,\"#fb9f3a\"],[0.8888888888888888,\"#fdca26\"],[1.0,\"#f0f921\"]]},\"colorway\":[\"#636efa\",\"#EF553B\",\"#00cc96\",\"#ab63fa\",\"#FFA15A\",\"#19d3f3\",\"#FF6692\",\"#B6E880\",\"#FF97FF\",\"#FECB52\"],\"font\":{\"color\":\"#2a3f5f\"},\"geo\":{\"bgcolor\":\"white\",\"lakecolor\":\"white\",\"landcolor\":\"#E5ECF6\",\"showlakes\":true,\"showland\":true,\"subunitcolor\":\"white\"},\"hoverlabel\":{\"align\":\"left\"},\"hovermode\":\"closest\",\"mapbox\":{\"style\":\"light\"},\"paper_bgcolor\":\"white\",\"plot_bgcolor\":\"#E5ECF6\",\"polar\":{\"angularaxis\":{\"gridcolor\":\"white\",\"linecolor\":\"white\",\"ticks\":\"\"},\"bgcolor\":\"#E5ECF6\",\"radialaxis\":{\"gridcolor\":\"white\",\"linecolor\":\"white\",\"ticks\":\"\"}},\"scene\":{\"xaxis\":{\"backgroundcolor\":\"#E5ECF6\",\"gridcolor\":\"white\",\"gridwidth\":2,\"linecolor\":\"white\",\"showbackground\":true,\"ticks\":\"\",\"zerolinecolor\":\"white\"},\"yaxis\":{\"backgroundcolor\":\"#E5ECF6\",\"gridcolor\":\"white\",\"gridwidth\":2,\"linecolor\":\"white\",\"showbackground\":true,\"ticks\":\"\",\"zerolinecolor\":\"white\"},\"zaxis\":{\"backgroundcolor\":\"#E5ECF6\",\"gridcolor\":\"white\",\"gridwidth\":2,\"linecolor\":\"white\",\"showbackground\":true,\"ticks\":\"\",\"zerolinecolor\":\"white\"}},\"shapedefaults\":{\"line\":{\"color\":\"#2a3f5f\"}},\"ternary\":{\"aaxis\":{\"gridcolor\":\"white\",\"linecolor\":\"white\",\"ticks\":\"\"},\"baxis\":{\"gridcolor\":\"white\",\"linecolor\":\"white\",\"ticks\":\"\"},\"bgcolor\":\"#E5ECF6\",\"caxis\":{\"gridcolor\":\"white\",\"linecolor\":\"white\",\"ticks\":\"\"}},\"title\":{\"x\":0.05},\"xaxis\":{\"automargin\":true,\"gridcolor\":\"white\",\"linecolor\":\"white\",\"ticks\":\"\",\"title\":{\"standoff\":15},\"zerolinecolor\":\"white\",\"zerolinewidth\":2},\"yaxis\":{\"automargin\":true,\"gridcolor\":\"white\",\"linecolor\":\"white\",\"ticks\":\"\",\"title\":{\"standoff\":15},\"zerolinecolor\":\"white\",\"zerolinewidth\":2}}},\"height\":500,\"width\":700,\"xaxis\":{\"title\":{\"text\":\"Epoch\"}},\"yaxis\":{\"title\":{\"text\":\"Mean Absolute Error\"}}},                        {\"responsive\": true}                    ).then(function(){\n",
              "                            \n",
              "var gd = document.getElementById('38687d76-eed3-4bc3-b650-2e5f5285606c');\n",
              "var x = new MutationObserver(function (mutations, observer) {{\n",
              "        var display = window.getComputedStyle(gd).display;\n",
              "        if (!display || display === 'none') {{\n",
              "            console.log([gd, 'removed!']);\n",
              "            Plotly.purge(gd);\n",
              "            observer.disconnect();\n",
              "        }}\n",
              "}});\n",
              "\n",
              "// Listen for the removal of the full notebook cells\n",
              "var notebookContainer = gd.closest('#notebook-container');\n",
              "if (notebookContainer) {{\n",
              "    x.observe(notebookContainer, {childList: true});\n",
              "}}\n",
              "\n",
              "// Listen for the clearing of the current output cell\n",
              "var outputEl = gd.closest('.output');\n",
              "if (outputEl) {{\n",
              "    x.observe(outputEl, {childList: true});\n",
              "}}\n",
              "\n",
              "                        })                };                            </script>        </div>\n",
              "</body>\n",
              "</html>"
            ]
          },
          "metadata": {}
        }
      ]
    },
    {
      "cell_type": "markdown",
      "source": [
        "Метрика"
      ],
      "metadata": {
        "id": "xCTvX1MI2tYj"
      }
    },
    {
      "cell_type": "code",
      "source": [
        "mse_nn, mae_nn = model.evaluate(X_test, y_test)\n",
        "\n",
        "print('Mean squared error on test data: ', mse_nn)\n",
        "print('Mean absolute error on test data: ', mae_nn)"
      ],
      "metadata": {
        "colab": {
          "base_uri": "https://localhost:8080/"
        },
        "id": "AoofGcKF2vBB",
        "outputId": "0ee95db4-fb44-4233-b167-5b764ed98718"
      },
      "execution_count": null,
      "outputs": [
        {
          "output_type": "stream",
          "name": "stdout",
          "text": [
            "194/194 [==============================] - 0s 2ms/step - loss: 0.2902 - mae: 0.3647\n",
            "Mean squared error on test data:  0.29024621844291687\n",
            "Mean absolute error on test data:  0.364724338054657\n"
          ]
        }
      ]
    },
    {
      "cell_type": "markdown",
      "source": [
        "#### 1.6. Сделайте предсказания на тестовых данных"
      ],
      "metadata": {
        "id": "l1XZzM6Y6HUN"
      }
    },
    {
      "cell_type": "code",
      "source": [
        "from sklearn.metrics import mean_absolute_error\n",
        "\n",
        "Xnew = model.predict(X_test)\n",
        "\n",
        "print(f\"Средняя абсолютная ошибка: {int(mean_absolute_error(Xnew, y_test) * 100000)}$\")"
      ],
      "metadata": {
        "colab": {
          "base_uri": "https://localhost:8080/"
        },
        "id": "YEndndrc6Lah",
        "outputId": "8ea76579-9da9-4eb0-a743-022aa20b3df7"
      },
      "execution_count": null,
      "outputs": [
        {
          "output_type": "stream",
          "name": "stdout",
          "text": [
            "194/194 [==============================] - 0s 2ms/step\n",
            "Средняя абсолютная ошибка: 36472$\n"
          ]
        }
      ]
    },
    {
      "cell_type": "markdown",
      "source": [
        "Вывод\n",
        "\n",
        "Исходя из полученной метрики можно сделать вывод, что погрешность в пределах нормы около 30 тысяч долларов. "
      ],
      "metadata": {
        "id": "-gDBD6oI5tGK"
      }
    },
    {
      "cell_type": "markdown",
      "source": [
        "Попытка через нормализацию минмакс"
      ],
      "metadata": {
        "id": "of4s4WCF5p33"
      }
    },
    {
      "cell_type": "markdown",
      "source": [
        "Несколько вариаций"
      ],
      "metadata": {
        "id": "q55FW1_Ju4Lq"
      }
    },
    {
      "cell_type": "code",
      "source": [
        "from sklearn.datasets import fetch_california_housing\n",
        "import pandas as pd\n",
        "\n",
        "\n",
        "data = fetch_california_housing()\n",
        "\n",
        "X = pd.DataFrame(data['data'], columns=data['feature_names'])\n",
        "y = data['target']\n",
        "\n",
        "X.head()\n",
        "\n",
        "from sklearn.model_selection import train_test_split\n",
        "\n",
        "X_train, X_test, y_train, y_test = train_test_split(X.values, y, test_size=0.1, random_state=111)\n",
        "X_train.shape, X_test.shape\n",
        "\n",
        "mean = X_train.mean(axis=0)\n",
        "std = X_train.std(axis=0)\n",
        "\n",
        "X_train = (X_train - mean) / std\n",
        "X_test = (X_test - mean) / std\n",
        "\n",
        "from keras.models import Sequential\n",
        "from keras.layers import Dense\n",
        "\n",
        "model = Sequential()\n",
        "\n",
        "model.add(Dense(128, input_shape=(8, ), activation='relu', name='dense_1'))\n",
        "model.add(Dense(64, activation='relu', name='dense_2'))\n",
        "model.add(Dense(1, activation='linear', name='dense_output'))\n",
        "\n",
        "model.compile(optimizer='adam', loss='mse', metrics=['mae'])\n",
        "model.summary()\n",
        "\n",
        "history = model.fit(X_train, y_train, epochs=120, validation_split=0.1)\n",
        "\n"
      ],
      "metadata": {
        "id": "MIUGd0kBzKb3",
        "colab": {
          "base_uri": "https://localhost:8080/"
        },
        "outputId": "f071ce9a-9033-42ec-c0db-25a6fe02da31"
      },
      "execution_count": null,
      "outputs": [
        {
          "output_type": "stream",
          "name": "stdout",
          "text": [
            "Model: \"sequential_1\"\n",
            "_________________________________________________________________\n",
            " Layer (type)                Output Shape              Param #   \n",
            "=================================================================\n",
            " dense_1 (Dense)             (None, 128)               1152      \n",
            "                                                                 \n",
            " dense_2 (Dense)             (None, 64)                8256      \n",
            "                                                                 \n",
            " dense_output (Dense)        (None, 1)                 65        \n",
            "                                                                 \n",
            "=================================================================\n",
            "Total params: 9,473\n",
            "Trainable params: 9,473\n",
            "Non-trainable params: 0\n",
            "_________________________________________________________________\n",
            "Epoch 1/120\n",
            "523/523 [==============================] - 3s 3ms/step - loss: 0.7215 - mae: 0.5627 - val_loss: 0.4060 - val_mae: 0.4609\n",
            "Epoch 2/120\n",
            "523/523 [==============================] - 1s 2ms/step - loss: 0.3794 - mae: 0.4334 - val_loss: 0.3554 - val_mae: 0.4176\n",
            "Epoch 3/120\n",
            "523/523 [==============================] - 1s 3ms/step - loss: 0.3407 - mae: 0.4128 - val_loss: 0.3379 - val_mae: 0.4019\n",
            "Epoch 4/120\n",
            "523/523 [==============================] - 2s 4ms/step - loss: 0.3263 - mae: 0.3992 - val_loss: 0.3340 - val_mae: 0.3857\n",
            "Epoch 5/120\n",
            "523/523 [==============================] - 2s 3ms/step - loss: 0.3268 - mae: 0.3930 - val_loss: 0.3102 - val_mae: 0.3914\n",
            "Epoch 6/120\n",
            "523/523 [==============================] - 1s 3ms/step - loss: 0.3015 - mae: 0.3836 - val_loss: 0.3101 - val_mae: 0.3831\n",
            "Epoch 7/120\n",
            "523/523 [==============================] - 1s 2ms/step - loss: 0.3104 - mae: 0.3795 - val_loss: 0.3159 - val_mae: 0.3814\n",
            "Epoch 8/120\n",
            "523/523 [==============================] - 1s 2ms/step - loss: 0.2908 - mae: 0.3739 - val_loss: 0.2902 - val_mae: 0.3818\n",
            "Epoch 9/120\n",
            "523/523 [==============================] - 1s 2ms/step - loss: 0.2937 - mae: 0.3774 - val_loss: 0.2805 - val_mae: 0.3621\n",
            "Epoch 10/120\n",
            "523/523 [==============================] - 1s 2ms/step - loss: 0.2861 - mae: 0.3705 - val_loss: 0.3052 - val_mae: 0.3671\n",
            "Epoch 11/120\n",
            "523/523 [==============================] - 1s 2ms/step - loss: 0.2866 - mae: 0.3690 - val_loss: 0.2808 - val_mae: 0.3652\n",
            "Epoch 12/120\n",
            "523/523 [==============================] - 1s 2ms/step - loss: 0.2809 - mae: 0.3655 - val_loss: 0.2725 - val_mae: 0.3590\n",
            "Epoch 13/120\n",
            "523/523 [==============================] - 1s 2ms/step - loss: 0.2754 - mae: 0.3624 - val_loss: 0.2812 - val_mae: 0.3588\n",
            "Epoch 14/120\n",
            "523/523 [==============================] - 1s 3ms/step - loss: 0.2804 - mae: 0.3624 - val_loss: 0.2966 - val_mae: 0.3611\n",
            "Epoch 15/120\n",
            "523/523 [==============================] - 2s 3ms/step - loss: 0.2730 - mae: 0.3599 - val_loss: 0.2747 - val_mae: 0.3549\n",
            "Epoch 16/120\n",
            "523/523 [==============================] - 1s 2ms/step - loss: 0.2696 - mae: 0.3573 - val_loss: 0.3076 - val_mae: 0.3700\n",
            "Epoch 17/120\n",
            "523/523 [==============================] - 1s 2ms/step - loss: 0.2683 - mae: 0.3567 - val_loss: 0.2849 - val_mae: 0.3620\n",
            "Epoch 18/120\n",
            "523/523 [==============================] - 1s 2ms/step - loss: 0.2672 - mae: 0.3546 - val_loss: 0.2814 - val_mae: 0.3758\n",
            "Epoch 19/120\n",
            "523/523 [==============================] - 1s 2ms/step - loss: 0.2623 - mae: 0.3525 - val_loss: 0.2735 - val_mae: 0.3608\n",
            "Epoch 20/120\n",
            "523/523 [==============================] - 1s 2ms/step - loss: 0.2592 - mae: 0.3493 - val_loss: 0.2781 - val_mae: 0.3472\n",
            "Epoch 21/120\n",
            "523/523 [==============================] - 1s 2ms/step - loss: 0.2618 - mae: 0.3521 - val_loss: 0.2656 - val_mae: 0.3440\n",
            "Epoch 22/120\n",
            "523/523 [==============================] - 1s 2ms/step - loss: 0.2592 - mae: 0.3495 - val_loss: 0.2715 - val_mae: 0.3442\n",
            "Epoch 23/120\n",
            "523/523 [==============================] - 1s 2ms/step - loss: 0.2632 - mae: 0.3494 - val_loss: 0.2772 - val_mae: 0.3543\n",
            "Epoch 24/120\n",
            "523/523 [==============================] - 1s 3ms/step - loss: 0.2554 - mae: 0.3465 - val_loss: 0.2822 - val_mae: 0.3632\n",
            "Epoch 25/120\n",
            "523/523 [==============================] - 2s 3ms/step - loss: 0.2553 - mae: 0.3471 - val_loss: 0.2612 - val_mae: 0.3536\n",
            "Epoch 26/120\n",
            "523/523 [==============================] - 1s 3ms/step - loss: 0.2512 - mae: 0.3439 - val_loss: 0.2830 - val_mae: 0.3598\n",
            "Epoch 27/120\n",
            "523/523 [==============================] - 1s 2ms/step - loss: 0.2488 - mae: 0.3416 - val_loss: 0.2739 - val_mae: 0.3512\n",
            "Epoch 28/120\n",
            "523/523 [==============================] - 1s 2ms/step - loss: 0.2480 - mae: 0.3421 - val_loss: 0.2759 - val_mae: 0.3570\n",
            "Epoch 29/120\n",
            "523/523 [==============================] - 1s 2ms/step - loss: 0.2476 - mae: 0.3406 - val_loss: 0.2842 - val_mae: 0.3834\n",
            "Epoch 30/120\n",
            "523/523 [==============================] - 1s 2ms/step - loss: 0.2457 - mae: 0.3393 - val_loss: 0.2583 - val_mae: 0.3385\n",
            "Epoch 31/120\n",
            "523/523 [==============================] - 1s 2ms/step - loss: 0.2442 - mae: 0.3378 - val_loss: 0.2634 - val_mae: 0.3507\n",
            "Epoch 32/120\n",
            "523/523 [==============================] - 1s 2ms/step - loss: 0.2440 - mae: 0.3369 - val_loss: 0.2697 - val_mae: 0.3432\n",
            "Epoch 33/120\n",
            "523/523 [==============================] - 2s 3ms/step - loss: 0.2415 - mae: 0.3366 - val_loss: 0.2900 - val_mae: 0.3574\n",
            "Epoch 34/120\n",
            "523/523 [==============================] - 2s 4ms/step - loss: 0.2424 - mae: 0.3348 - val_loss: 0.2643 - val_mae: 0.3591\n",
            "Epoch 35/120\n",
            "523/523 [==============================] - 2s 3ms/step - loss: 0.2394 - mae: 0.3337 - val_loss: 0.2628 - val_mae: 0.3427\n",
            "Epoch 36/120\n",
            "523/523 [==============================] - 1s 2ms/step - loss: 0.2401 - mae: 0.3338 - val_loss: 0.2586 - val_mae: 0.3448\n",
            "Epoch 37/120\n",
            "523/523 [==============================] - 1s 2ms/step - loss: 0.2380 - mae: 0.3339 - val_loss: 0.2484 - val_mae: 0.3394\n",
            "Epoch 38/120\n",
            "523/523 [==============================] - 1s 2ms/step - loss: 0.2343 - mae: 0.3303 - val_loss: 0.2492 - val_mae: 0.3392\n",
            "Epoch 39/120\n",
            "523/523 [==============================] - 1s 2ms/step - loss: 0.2360 - mae: 0.3317 - val_loss: 0.2545 - val_mae: 0.3386\n",
            "Epoch 40/120\n",
            "523/523 [==============================] - 1s 2ms/step - loss: 0.2319 - mae: 0.3276 - val_loss: 0.2626 - val_mae: 0.3412\n",
            "Epoch 41/120\n",
            "523/523 [==============================] - 1s 2ms/step - loss: 0.2344 - mae: 0.3299 - val_loss: 0.2561 - val_mae: 0.3354\n",
            "Epoch 42/120\n",
            "523/523 [==============================] - 1s 2ms/step - loss: 0.2343 - mae: 0.3288 - val_loss: 0.2595 - val_mae: 0.3425\n",
            "Epoch 43/120\n",
            "523/523 [==============================] - 1s 2ms/step - loss: 0.2322 - mae: 0.3283 - val_loss: 0.2522 - val_mae: 0.3434\n",
            "Epoch 44/120\n",
            "523/523 [==============================] - 2s 3ms/step - loss: 0.2325 - mae: 0.3279 - val_loss: 0.2554 - val_mae: 0.3380\n",
            "Epoch 45/120\n",
            "523/523 [==============================] - 2s 3ms/step - loss: 0.2249 - mae: 0.3242 - val_loss: 0.2471 - val_mae: 0.3285\n",
            "Epoch 46/120\n",
            "523/523 [==============================] - 1s 2ms/step - loss: 0.2283 - mae: 0.3261 - val_loss: 0.2735 - val_mae: 0.3520\n",
            "Epoch 47/120\n",
            "523/523 [==============================] - 1s 2ms/step - loss: 0.2254 - mae: 0.3236 - val_loss: 0.2537 - val_mae: 0.3359\n",
            "Epoch 48/120\n",
            "523/523 [==============================] - 1s 2ms/step - loss: 0.2285 - mae: 0.3241 - val_loss: 0.2606 - val_mae: 0.3375\n",
            "Epoch 49/120\n",
            "523/523 [==============================] - 1s 2ms/step - loss: 0.2231 - mae: 0.3205 - val_loss: 0.2498 - val_mae: 0.3370\n",
            "Epoch 50/120\n",
            "523/523 [==============================] - 1s 2ms/step - loss: 0.2278 - mae: 0.3231 - val_loss: 0.2456 - val_mae: 0.3310\n",
            "Epoch 51/120\n",
            "523/523 [==============================] - 1s 2ms/step - loss: 0.2199 - mae: 0.3208 - val_loss: 0.2487 - val_mae: 0.3345\n",
            "Epoch 52/120\n",
            "523/523 [==============================] - 2s 4ms/step - loss: 0.2206 - mae: 0.3213 - val_loss: 0.2482 - val_mae: 0.3389\n",
            "Epoch 53/120\n",
            "523/523 [==============================] - 2s 4ms/step - loss: 0.2200 - mae: 0.3204 - val_loss: 0.2484 - val_mae: 0.3343\n",
            "Epoch 54/120\n",
            "523/523 [==============================] - 2s 3ms/step - loss: 0.2202 - mae: 0.3202 - val_loss: 0.2452 - val_mae: 0.3321\n",
            "Epoch 55/120\n",
            "523/523 [==============================] - 1s 2ms/step - loss: 0.2191 - mae: 0.3194 - val_loss: 0.2869 - val_mae: 0.3574\n",
            "Epoch 56/120\n",
            "523/523 [==============================] - 1s 2ms/step - loss: 0.2192 - mae: 0.3189 - val_loss: 0.2541 - val_mae: 0.3344\n",
            "Epoch 57/120\n",
            "523/523 [==============================] - 1s 2ms/step - loss: 0.2175 - mae: 0.3186 - val_loss: 0.2555 - val_mae: 0.3458\n",
            "Epoch 58/120\n",
            "523/523 [==============================] - 1s 2ms/step - loss: 0.2154 - mae: 0.3173 - val_loss: 0.2590 - val_mae: 0.3382\n",
            "Epoch 59/120\n",
            "523/523 [==============================] - 1s 2ms/step - loss: 0.2202 - mae: 0.3183 - val_loss: 0.2846 - val_mae: 0.3513\n",
            "Epoch 60/120\n",
            "523/523 [==============================] - 1s 2ms/step - loss: 0.2158 - mae: 0.3151 - val_loss: 0.2492 - val_mae: 0.3358\n",
            "Epoch 61/120\n",
            "523/523 [==============================] - 2s 3ms/step - loss: 0.2143 - mae: 0.3161 - val_loss: 0.2457 - val_mae: 0.3365\n",
            "Epoch 62/120\n",
            "523/523 [==============================] - 2s 3ms/step - loss: 0.2143 - mae: 0.3159 - val_loss: 0.2494 - val_mae: 0.3348\n",
            "Epoch 63/120\n",
            "523/523 [==============================] - 2s 4ms/step - loss: 0.2108 - mae: 0.3146 - val_loss: 0.2574 - val_mae: 0.3421\n",
            "Epoch 64/120\n",
            "523/523 [==============================] - 1s 3ms/step - loss: 0.2112 - mae: 0.3154 - val_loss: 0.2571 - val_mae: 0.3472\n",
            "Epoch 65/120\n",
            "523/523 [==============================] - 1s 2ms/step - loss: 0.2351 - mae: 0.3165 - val_loss: 0.2562 - val_mae: 0.3378\n",
            "Epoch 66/120\n",
            "523/523 [==============================] - 1s 2ms/step - loss: 0.2155 - mae: 0.3154 - val_loss: 0.2513 - val_mae: 0.3361\n",
            "Epoch 67/120\n",
            "523/523 [==============================] - 1s 2ms/step - loss: 0.2087 - mae: 0.3137 - val_loss: 0.2453 - val_mae: 0.3325\n",
            "Epoch 68/120\n",
            "523/523 [==============================] - 1s 2ms/step - loss: 0.2073 - mae: 0.3120 - val_loss: 0.2532 - val_mae: 0.3407\n",
            "Epoch 69/120\n",
            "523/523 [==============================] - 1s 2ms/step - loss: 0.2059 - mae: 0.3111 - val_loss: 0.2562 - val_mae: 0.3347\n",
            "Epoch 70/120\n",
            "523/523 [==============================] - 1s 2ms/step - loss: 0.2067 - mae: 0.3106 - val_loss: 0.2619 - val_mae: 0.3566\n",
            "Epoch 71/120\n",
            "523/523 [==============================] - 1s 2ms/step - loss: 0.2076 - mae: 0.3113 - val_loss: 0.2551 - val_mae: 0.3448\n",
            "Epoch 72/120\n",
            "523/523 [==============================] - 2s 3ms/step - loss: 0.2049 - mae: 0.3113 - val_loss: 0.2407 - val_mae: 0.3300\n",
            "Epoch 73/120\n",
            "523/523 [==============================] - 2s 3ms/step - loss: 0.2053 - mae: 0.3106 - val_loss: 0.2540 - val_mae: 0.3353\n",
            "Epoch 74/120\n",
            "523/523 [==============================] - 1s 2ms/step - loss: 0.2110 - mae: 0.3111 - val_loss: 0.2580 - val_mae: 0.3369\n",
            "Epoch 75/120\n",
            "523/523 [==============================] - 1s 2ms/step - loss: 0.2052 - mae: 0.3105 - val_loss: 0.2575 - val_mae: 0.3414\n",
            "Epoch 76/120\n",
            "523/523 [==============================] - 1s 2ms/step - loss: 0.2031 - mae: 0.3094 - val_loss: 0.2586 - val_mae: 0.3378\n",
            "Epoch 77/120\n",
            "523/523 [==============================] - 1s 2ms/step - loss: 0.2011 - mae: 0.3068 - val_loss: 0.2519 - val_mae: 0.3329\n",
            "Epoch 78/120\n",
            "523/523 [==============================] - 1s 2ms/step - loss: 0.2029 - mae: 0.3094 - val_loss: 0.2541 - val_mae: 0.3412\n",
            "Epoch 79/120\n",
            "523/523 [==============================] - 1s 2ms/step - loss: 0.2027 - mae: 0.3087 - val_loss: 0.2512 - val_mae: 0.3435\n",
            "Epoch 80/120\n",
            "523/523 [==============================] - 1s 2ms/step - loss: 0.1983 - mae: 0.3053 - val_loss: 0.2497 - val_mae: 0.3366\n",
            "Epoch 81/120\n",
            "523/523 [==============================] - 1s 2ms/step - loss: 0.2006 - mae: 0.3077 - val_loss: 0.2563 - val_mae: 0.3367\n",
            "Epoch 82/120\n",
            "523/523 [==============================] - 1s 3ms/step - loss: 0.1986 - mae: 0.3060 - val_loss: 0.2560 - val_mae: 0.3526\n",
            "Epoch 83/120\n",
            "523/523 [==============================] - 2s 3ms/step - loss: 0.1997 - mae: 0.3068 - val_loss: 0.2504 - val_mae: 0.3369\n",
            "Epoch 84/120\n",
            "523/523 [==============================] - 1s 3ms/step - loss: 0.2004 - mae: 0.3067 - val_loss: 0.2513 - val_mae: 0.3356\n",
            "Epoch 85/120\n",
            "523/523 [==============================] - 1s 2ms/step - loss: 0.1982 - mae: 0.3063 - val_loss: 0.2541 - val_mae: 0.3381\n",
            "Epoch 86/120\n",
            "523/523 [==============================] - 1s 2ms/step - loss: 0.1976 - mae: 0.3062 - val_loss: 0.2519 - val_mae: 0.3416\n",
            "Epoch 87/120\n",
            "523/523 [==============================] - 1s 2ms/step - loss: 0.1947 - mae: 0.3037 - val_loss: 0.2552 - val_mae: 0.3400\n",
            "Epoch 88/120\n",
            "523/523 [==============================] - 1s 2ms/step - loss: 0.1957 - mae: 0.3050 - val_loss: 0.2554 - val_mae: 0.3416\n",
            "Epoch 89/120\n",
            "523/523 [==============================] - 1s 2ms/step - loss: 0.1963 - mae: 0.3040 - val_loss: 0.2566 - val_mae: 0.3461\n",
            "Epoch 90/120\n",
            "523/523 [==============================] - 2s 4ms/step - loss: 0.1935 - mae: 0.3028 - val_loss: 0.2537 - val_mae: 0.3390\n",
            "Epoch 91/120\n",
            "523/523 [==============================] - 2s 4ms/step - loss: 0.1924 - mae: 0.3010 - val_loss: 0.2569 - val_mae: 0.3364\n",
            "Epoch 92/120\n",
            "523/523 [==============================] - 2s 3ms/step - loss: 0.1940 - mae: 0.3032 - val_loss: 0.2512 - val_mae: 0.3390\n",
            "Epoch 93/120\n",
            "523/523 [==============================] - 1s 2ms/step - loss: 0.1918 - mae: 0.3007 - val_loss: 0.2542 - val_mae: 0.3414\n",
            "Epoch 94/120\n",
            "523/523 [==============================] - 1s 2ms/step - loss: 0.1908 - mae: 0.3007 - val_loss: 0.2520 - val_mae: 0.3408\n",
            "Epoch 95/120\n",
            "523/523 [==============================] - 1s 2ms/step - loss: 0.1917 - mae: 0.3014 - val_loss: 0.2438 - val_mae: 0.3321\n",
            "Epoch 96/120\n",
            "523/523 [==============================] - 1s 2ms/step - loss: 0.1900 - mae: 0.2991 - val_loss: 0.2546 - val_mae: 0.3450\n",
            "Epoch 97/120\n",
            "523/523 [==============================] - 1s 2ms/step - loss: 0.1895 - mae: 0.3006 - val_loss: 0.2511 - val_mae: 0.3359\n",
            "Epoch 98/120\n",
            "523/523 [==============================] - 1s 2ms/step - loss: 0.1921 - mae: 0.3018 - val_loss: 0.2580 - val_mae: 0.3389\n",
            "Epoch 99/120\n",
            "523/523 [==============================] - 1s 2ms/step - loss: 0.1892 - mae: 0.2986 - val_loss: 0.2508 - val_mae: 0.3384\n",
            "Epoch 100/120\n",
            "523/523 [==============================] - 1s 2ms/step - loss: 0.1908 - mae: 0.3002 - val_loss: 0.2566 - val_mae: 0.3380\n",
            "Epoch 101/120\n",
            "523/523 [==============================] - 2s 3ms/step - loss: 0.1889 - mae: 0.3005 - val_loss: 0.2488 - val_mae: 0.3383\n",
            "Epoch 102/120\n",
            "523/523 [==============================] - 2s 4ms/step - loss: 0.1868 - mae: 0.2971 - val_loss: 0.2444 - val_mae: 0.3390\n",
            "Epoch 103/120\n",
            "523/523 [==============================] - 1s 2ms/step - loss: 0.1863 - mae: 0.2965 - val_loss: 0.2503 - val_mae: 0.3358\n",
            "Epoch 104/120\n",
            "523/523 [==============================] - 1s 2ms/step - loss: 0.1872 - mae: 0.2978 - val_loss: 0.2622 - val_mae: 0.3445\n",
            "Epoch 105/120\n",
            "523/523 [==============================] - 1s 2ms/step - loss: 0.1859 - mae: 0.2973 - val_loss: 0.2778 - val_mae: 0.3748\n",
            "Epoch 106/120\n",
            "523/523 [==============================] - 1s 2ms/step - loss: 0.1856 - mae: 0.2974 - val_loss: 0.2508 - val_mae: 0.3365\n",
            "Epoch 107/120\n",
            "523/523 [==============================] - 1s 2ms/step - loss: 0.1853 - mae: 0.2972 - val_loss: 0.2676 - val_mae: 0.3415\n",
            "Epoch 108/120\n",
            "523/523 [==============================] - 1s 2ms/step - loss: 0.1841 - mae: 0.2966 - val_loss: 0.2615 - val_mae: 0.3393\n",
            "Epoch 109/120\n",
            "523/523 [==============================] - 1s 2ms/step - loss: 0.1833 - mae: 0.2955 - val_loss: 0.2615 - val_mae: 0.3504\n",
            "Epoch 110/120\n",
            "523/523 [==============================] - 1s 2ms/step - loss: 0.1845 - mae: 0.2969 - val_loss: 0.2549 - val_mae: 0.3447\n",
            "Epoch 111/120\n",
            "523/523 [==============================] - 2s 3ms/step - loss: 0.1835 - mae: 0.2965 - val_loss: 0.2499 - val_mae: 0.3416\n",
            "Epoch 112/120\n",
            "523/523 [==============================] - 2s 3ms/step - loss: 0.1856 - mae: 0.2952 - val_loss: 0.2457 - val_mae: 0.3354\n",
            "Epoch 113/120\n",
            "523/523 [==============================] - 1s 2ms/step - loss: 0.1828 - mae: 0.2950 - val_loss: 0.2509 - val_mae: 0.3377\n",
            "Epoch 114/120\n",
            "523/523 [==============================] - 1s 2ms/step - loss: 0.1820 - mae: 0.2952 - val_loss: 0.2427 - val_mae: 0.3354\n",
            "Epoch 115/120\n",
            "523/523 [==============================] - 1s 2ms/step - loss: 0.1810 - mae: 0.2938 - val_loss: 0.2580 - val_mae: 0.3427\n",
            "Epoch 116/120\n",
            "523/523 [==============================] - 1s 2ms/step - loss: 0.1807 - mae: 0.2947 - val_loss: 0.2500 - val_mae: 0.3344\n",
            "Epoch 117/120\n",
            "523/523 [==============================] - 1s 2ms/step - loss: 0.1820 - mae: 0.2952 - val_loss: 0.2586 - val_mae: 0.3441\n",
            "Epoch 118/120\n",
            "523/523 [==============================] - 2s 3ms/step - loss: 0.1788 - mae: 0.2924 - val_loss: 0.2547 - val_mae: 0.3470\n",
            "Epoch 119/120\n",
            "523/523 [==============================] - 2s 4ms/step - loss: 0.1801 - mae: 0.2939 - val_loss: 0.2635 - val_mae: 0.3419\n",
            "Epoch 120/120\n",
            "523/523 [==============================] - 2s 4ms/step - loss: 0.1930 - mae: 0.2964 - val_loss: 0.2582 - val_mae: 0.3438\n"
          ]
        }
      ]
    },
    {
      "cell_type": "code",
      "source": [
        "import plotly.graph_objs as go\n",
        "fig = go.Figure()\n",
        "fig.add_trace(go.Scattergl(y=history.history['loss'],\n",
        "                    name='Train'))\n",
        "\n",
        "fig.add_trace(go.Scattergl(y=history.history['val_loss'],\n",
        "                    name='Valid'))\n",
        "\n",
        "\n",
        "fig.update_layout(height=500, width=700,\n",
        "                  xaxis_title='Epoch',\n",
        "                  yaxis_title='Loss')\n",
        "\n",
        "fig.show()"
      ],
      "metadata": {
        "colab": {
          "base_uri": "https://localhost:8080/",
          "height": 517
        },
        "id": "PmUkEhDu0DRN",
        "outputId": "c6babf89-2ddd-47f8-961a-933e11a0fa8f"
      },
      "execution_count": null,
      "outputs": [
        {
          "output_type": "display_data",
          "data": {
            "text/html": [
              "<html>\n",
              "<head><meta charset=\"utf-8\" /></head>\n",
              "<body>\n",
              "    <div>            <script src=\"https://cdnjs.cloudflare.com/ajax/libs/mathjax/2.7.5/MathJax.js?config=TeX-AMS-MML_SVG\"></script><script type=\"text/javascript\">if (window.MathJax) {MathJax.Hub.Config({SVG: {font: \"STIX-Web\"}});}</script>                <script type=\"text/javascript\">window.PlotlyConfig = {MathJaxConfig: 'local'};</script>\n",
              "        <script src=\"https://cdn.plot.ly/plotly-2.8.3.min.js\"></script>                <div id=\"4341e16f-4ea9-45e0-a965-0e373173c103\" class=\"plotly-graph-div\" style=\"height:500px; width:700px;\"></div>            <script type=\"text/javascript\">                                    window.PLOTLYENV=window.PLOTLYENV || {};                                    if (document.getElementById(\"4341e16f-4ea9-45e0-a965-0e373173c103\")) {                    Plotly.newPlot(                        \"4341e16f-4ea9-45e0-a965-0e373173c103\",                        [{\"name\":\"Train\",\"y\":[0.7214568853378296,0.37935858964920044,0.3407495617866516,0.3262549042701721,0.32677486538887024,0.30154526233673096,0.31039857864379883,0.2907804846763611,0.29365769028663635,0.28606173396110535,0.2866039574146271,0.28088077902793884,0.27536740899086,0.28041961789131165,0.2729947865009308,0.2696164548397064,0.2683309018611908,0.26718851923942566,0.2623395621776581,0.2592328190803528,0.26177695393562317,0.2591942846775055,0.2631712257862091,0.2554266154766083,0.2552793622016907,0.2511773705482483,0.24881060421466827,0.2480061650276184,0.2475988119840622,0.24572624266147614,0.2441670000553131,0.24400074779987335,0.24148425459861755,0.24239519238471985,0.23937135934829712,0.24014995992183685,0.2380174845457077,0.23428720235824585,0.23596332967281342,0.23193365335464478,0.23441118001937866,0.23429322242736816,0.2321559637784958,0.2325168251991272,0.2249109297990799,0.22833828628063202,0.2254246026277542,0.22847595810890198,0.22312308847904205,0.22776715457439423,0.21992196142673492,0.22056448459625244,0.2199629843235016,0.22022463381290436,0.2190801501274109,0.21924887597560883,0.217508926987648,0.21543271839618683,0.220206618309021,0.21575841307640076,0.21427597105503082,0.2142644226551056,0.2108195573091507,0.21121037006378174,0.23505665361881256,0.2154655158519745,0.2087218016386032,0.2072843462228775,0.2059282660484314,0.2067326307296753,0.20756109058856964,0.2049126923084259,0.20530031621456146,0.21101391315460205,0.20520874857902527,0.20311221480369568,0.20110823214054108,0.20292894542217255,0.2027071714401245,0.19833122193813324,0.20059341192245483,0.19861939549446106,0.19973883032798767,0.2003808468580246,0.19818150997161865,0.19757170975208282,0.19474796950817108,0.19566701352596283,0.19626082479953766,0.19347336888313293,0.19235199689865112,0.19403941929340363,0.1918398141860962,0.19078555703163147,0.191705584526062,0.18996214866638184,0.189504936337471,0.19212229549884796,0.18922853469848633,0.1907798796892166,0.1888801008462906,0.18677115440368652,0.18627716600894928,0.18721690773963928,0.1859375685453415,0.18558654189109802,0.18533119559288025,0.1841483861207962,0.18333275616168976,0.1845341920852661,0.18349038064479828,0.1855989694595337,0.18275463581085205,0.18203642964363098,0.18096578121185303,0.18065029382705688,0.18201547861099243,0.17876186966896057,0.18007002770900726,0.19303202629089355],\"type\":\"scattergl\"},{\"name\":\"Valid\",\"y\":[0.40602147579193115,0.3553740084171295,0.33789658546447754,0.333994060754776,0.3101789951324463,0.31006237864494324,0.31593042612075806,0.2902352511882782,0.28047099709510803,0.305168479681015,0.28081220388412476,0.27248498797416687,0.2812376022338867,0.2966277003288269,0.2747148275375366,0.307621568441391,0.2848600149154663,0.28141120076179504,0.2734960615634918,0.2781267464160919,0.2656458020210266,0.27154603600502014,0.2772444188594818,0.28222692012786865,0.26116979122161865,0.2830210030078888,0.2738577127456665,0.275875985622406,0.2841564416885376,0.25827836990356445,0.2633979022502899,0.2696900963783264,0.2900412976741791,0.26427146792411804,0.26284468173980713,0.25857505202293396,0.24835045635700226,0.2491939663887024,0.25450268387794495,0.2626423239707947,0.2560533583164215,0.25945886969566345,0.25219857692718506,0.2554289400577545,0.2470957189798355,0.2734813094139099,0.2536649703979492,0.2606254518032074,0.2498292326927185,0.24563445150852203,0.24865058064460754,0.24815356731414795,0.24835868179798126,0.24518515169620514,0.2869435250759125,0.25414833426475525,0.25548726320266724,0.25896161794662476,0.28463155031204224,0.2491670697927475,0.245708629488945,0.24941681325435638,0.2574245035648346,0.257084459066391,0.25621291995048523,0.25132328271865845,0.24527466297149658,0.2531873285770416,0.2561648190021515,0.26185503602027893,0.25509998202323914,0.2407371699810028,0.2540031969547272,0.2580259144306183,0.25746387243270874,0.258604496717453,0.2518836259841919,0.25408247113227844,0.251239150762558,0.2497461587190628,0.25628066062927246,0.25602906942367554,0.2504217326641083,0.2513401508331299,0.2540636360645294,0.25193220376968384,0.2551542818546295,0.2553887963294983,0.2566431164741516,0.2537277042865753,0.25688600540161133,0.251239538192749,0.25421324372291565,0.2519861161708832,0.24377170205116272,0.2546011805534363,0.25108441710472107,0.2579690217971802,0.25081348419189453,0.2566332519054413,0.24879615008831024,0.24442511796951294,0.2502795457839966,0.26221194863319397,0.2777869701385498,0.25083568692207336,0.26761165261268616,0.26153555512428284,0.2615263760089874,0.2548947036266327,0.24991051852703094,0.24569852650165558,0.2508814036846161,0.24272547662258148,0.25804921984672546,0.2499561607837677,0.25864025950431824,0.2546997368335724,0.26353704929351807,0.25820833444595337],\"type\":\"scattergl\"}],                        {\"template\":{\"data\":{\"bar\":[{\"error_x\":{\"color\":\"#2a3f5f\"},\"error_y\":{\"color\":\"#2a3f5f\"},\"marker\":{\"line\":{\"color\":\"#E5ECF6\",\"width\":0.5},\"pattern\":{\"fillmode\":\"overlay\",\"size\":10,\"solidity\":0.2}},\"type\":\"bar\"}],\"barpolar\":[{\"marker\":{\"line\":{\"color\":\"#E5ECF6\",\"width\":0.5},\"pattern\":{\"fillmode\":\"overlay\",\"size\":10,\"solidity\":0.2}},\"type\":\"barpolar\"}],\"carpet\":[{\"aaxis\":{\"endlinecolor\":\"#2a3f5f\",\"gridcolor\":\"white\",\"linecolor\":\"white\",\"minorgridcolor\":\"white\",\"startlinecolor\":\"#2a3f5f\"},\"baxis\":{\"endlinecolor\":\"#2a3f5f\",\"gridcolor\":\"white\",\"linecolor\":\"white\",\"minorgridcolor\":\"white\",\"startlinecolor\":\"#2a3f5f\"},\"type\":\"carpet\"}],\"choropleth\":[{\"colorbar\":{\"outlinewidth\":0,\"ticks\":\"\"},\"type\":\"choropleth\"}],\"contour\":[{\"colorbar\":{\"outlinewidth\":0,\"ticks\":\"\"},\"colorscale\":[[0.0,\"#0d0887\"],[0.1111111111111111,\"#46039f\"],[0.2222222222222222,\"#7201a8\"],[0.3333333333333333,\"#9c179e\"],[0.4444444444444444,\"#bd3786\"],[0.5555555555555556,\"#d8576b\"],[0.6666666666666666,\"#ed7953\"],[0.7777777777777778,\"#fb9f3a\"],[0.8888888888888888,\"#fdca26\"],[1.0,\"#f0f921\"]],\"type\":\"contour\"}],\"contourcarpet\":[{\"colorbar\":{\"outlinewidth\":0,\"ticks\":\"\"},\"type\":\"contourcarpet\"}],\"heatmap\":[{\"colorbar\":{\"outlinewidth\":0,\"ticks\":\"\"},\"colorscale\":[[0.0,\"#0d0887\"],[0.1111111111111111,\"#46039f\"],[0.2222222222222222,\"#7201a8\"],[0.3333333333333333,\"#9c179e\"],[0.4444444444444444,\"#bd3786\"],[0.5555555555555556,\"#d8576b\"],[0.6666666666666666,\"#ed7953\"],[0.7777777777777778,\"#fb9f3a\"],[0.8888888888888888,\"#fdca26\"],[1.0,\"#f0f921\"]],\"type\":\"heatmap\"}],\"heatmapgl\":[{\"colorbar\":{\"outlinewidth\":0,\"ticks\":\"\"},\"colorscale\":[[0.0,\"#0d0887\"],[0.1111111111111111,\"#46039f\"],[0.2222222222222222,\"#7201a8\"],[0.3333333333333333,\"#9c179e\"],[0.4444444444444444,\"#bd3786\"],[0.5555555555555556,\"#d8576b\"],[0.6666666666666666,\"#ed7953\"],[0.7777777777777778,\"#fb9f3a\"],[0.8888888888888888,\"#fdca26\"],[1.0,\"#f0f921\"]],\"type\":\"heatmapgl\"}],\"histogram\":[{\"marker\":{\"pattern\":{\"fillmode\":\"overlay\",\"size\":10,\"solidity\":0.2}},\"type\":\"histogram\"}],\"histogram2d\":[{\"colorbar\":{\"outlinewidth\":0,\"ticks\":\"\"},\"colorscale\":[[0.0,\"#0d0887\"],[0.1111111111111111,\"#46039f\"],[0.2222222222222222,\"#7201a8\"],[0.3333333333333333,\"#9c179e\"],[0.4444444444444444,\"#bd3786\"],[0.5555555555555556,\"#d8576b\"],[0.6666666666666666,\"#ed7953\"],[0.7777777777777778,\"#fb9f3a\"],[0.8888888888888888,\"#fdca26\"],[1.0,\"#f0f921\"]],\"type\":\"histogram2d\"}],\"histogram2dcontour\":[{\"colorbar\":{\"outlinewidth\":0,\"ticks\":\"\"},\"colorscale\":[[0.0,\"#0d0887\"],[0.1111111111111111,\"#46039f\"],[0.2222222222222222,\"#7201a8\"],[0.3333333333333333,\"#9c179e\"],[0.4444444444444444,\"#bd3786\"],[0.5555555555555556,\"#d8576b\"],[0.6666666666666666,\"#ed7953\"],[0.7777777777777778,\"#fb9f3a\"],[0.8888888888888888,\"#fdca26\"],[1.0,\"#f0f921\"]],\"type\":\"histogram2dcontour\"}],\"mesh3d\":[{\"colorbar\":{\"outlinewidth\":0,\"ticks\":\"\"},\"type\":\"mesh3d\"}],\"parcoords\":[{\"line\":{\"colorbar\":{\"outlinewidth\":0,\"ticks\":\"\"}},\"type\":\"parcoords\"}],\"pie\":[{\"automargin\":true,\"type\":\"pie\"}],\"scatter\":[{\"marker\":{\"colorbar\":{\"outlinewidth\":0,\"ticks\":\"\"}},\"type\":\"scatter\"}],\"scatter3d\":[{\"line\":{\"colorbar\":{\"outlinewidth\":0,\"ticks\":\"\"}},\"marker\":{\"colorbar\":{\"outlinewidth\":0,\"ticks\":\"\"}},\"type\":\"scatter3d\"}],\"scattercarpet\":[{\"marker\":{\"colorbar\":{\"outlinewidth\":0,\"ticks\":\"\"}},\"type\":\"scattercarpet\"}],\"scattergeo\":[{\"marker\":{\"colorbar\":{\"outlinewidth\":0,\"ticks\":\"\"}},\"type\":\"scattergeo\"}],\"scattergl\":[{\"marker\":{\"colorbar\":{\"outlinewidth\":0,\"ticks\":\"\"}},\"type\":\"scattergl\"}],\"scattermapbox\":[{\"marker\":{\"colorbar\":{\"outlinewidth\":0,\"ticks\":\"\"}},\"type\":\"scattermapbox\"}],\"scatterpolar\":[{\"marker\":{\"colorbar\":{\"outlinewidth\":0,\"ticks\":\"\"}},\"type\":\"scatterpolar\"}],\"scatterpolargl\":[{\"marker\":{\"colorbar\":{\"outlinewidth\":0,\"ticks\":\"\"}},\"type\":\"scatterpolargl\"}],\"scatterternary\":[{\"marker\":{\"colorbar\":{\"outlinewidth\":0,\"ticks\":\"\"}},\"type\":\"scatterternary\"}],\"surface\":[{\"colorbar\":{\"outlinewidth\":0,\"ticks\":\"\"},\"colorscale\":[[0.0,\"#0d0887\"],[0.1111111111111111,\"#46039f\"],[0.2222222222222222,\"#7201a8\"],[0.3333333333333333,\"#9c179e\"],[0.4444444444444444,\"#bd3786\"],[0.5555555555555556,\"#d8576b\"],[0.6666666666666666,\"#ed7953\"],[0.7777777777777778,\"#fb9f3a\"],[0.8888888888888888,\"#fdca26\"],[1.0,\"#f0f921\"]],\"type\":\"surface\"}],\"table\":[{\"cells\":{\"fill\":{\"color\":\"#EBF0F8\"},\"line\":{\"color\":\"white\"}},\"header\":{\"fill\":{\"color\":\"#C8D4E3\"},\"line\":{\"color\":\"white\"}},\"type\":\"table\"}]},\"layout\":{\"annotationdefaults\":{\"arrowcolor\":\"#2a3f5f\",\"arrowhead\":0,\"arrowwidth\":1},\"autotypenumbers\":\"strict\",\"coloraxis\":{\"colorbar\":{\"outlinewidth\":0,\"ticks\":\"\"}},\"colorscale\":{\"diverging\":[[0,\"#8e0152\"],[0.1,\"#c51b7d\"],[0.2,\"#de77ae\"],[0.3,\"#f1b6da\"],[0.4,\"#fde0ef\"],[0.5,\"#f7f7f7\"],[0.6,\"#e6f5d0\"],[0.7,\"#b8e186\"],[0.8,\"#7fbc41\"],[0.9,\"#4d9221\"],[1,\"#276419\"]],\"sequential\":[[0.0,\"#0d0887\"],[0.1111111111111111,\"#46039f\"],[0.2222222222222222,\"#7201a8\"],[0.3333333333333333,\"#9c179e\"],[0.4444444444444444,\"#bd3786\"],[0.5555555555555556,\"#d8576b\"],[0.6666666666666666,\"#ed7953\"],[0.7777777777777778,\"#fb9f3a\"],[0.8888888888888888,\"#fdca26\"],[1.0,\"#f0f921\"]],\"sequentialminus\":[[0.0,\"#0d0887\"],[0.1111111111111111,\"#46039f\"],[0.2222222222222222,\"#7201a8\"],[0.3333333333333333,\"#9c179e\"],[0.4444444444444444,\"#bd3786\"],[0.5555555555555556,\"#d8576b\"],[0.6666666666666666,\"#ed7953\"],[0.7777777777777778,\"#fb9f3a\"],[0.8888888888888888,\"#fdca26\"],[1.0,\"#f0f921\"]]},\"colorway\":[\"#636efa\",\"#EF553B\",\"#00cc96\",\"#ab63fa\",\"#FFA15A\",\"#19d3f3\",\"#FF6692\",\"#B6E880\",\"#FF97FF\",\"#FECB52\"],\"font\":{\"color\":\"#2a3f5f\"},\"geo\":{\"bgcolor\":\"white\",\"lakecolor\":\"white\",\"landcolor\":\"#E5ECF6\",\"showlakes\":true,\"showland\":true,\"subunitcolor\":\"white\"},\"hoverlabel\":{\"align\":\"left\"},\"hovermode\":\"closest\",\"mapbox\":{\"style\":\"light\"},\"paper_bgcolor\":\"white\",\"plot_bgcolor\":\"#E5ECF6\",\"polar\":{\"angularaxis\":{\"gridcolor\":\"white\",\"linecolor\":\"white\",\"ticks\":\"\"},\"bgcolor\":\"#E5ECF6\",\"radialaxis\":{\"gridcolor\":\"white\",\"linecolor\":\"white\",\"ticks\":\"\"}},\"scene\":{\"xaxis\":{\"backgroundcolor\":\"#E5ECF6\",\"gridcolor\":\"white\",\"gridwidth\":2,\"linecolor\":\"white\",\"showbackground\":true,\"ticks\":\"\",\"zerolinecolor\":\"white\"},\"yaxis\":{\"backgroundcolor\":\"#E5ECF6\",\"gridcolor\":\"white\",\"gridwidth\":2,\"linecolor\":\"white\",\"showbackground\":true,\"ticks\":\"\",\"zerolinecolor\":\"white\"},\"zaxis\":{\"backgroundcolor\":\"#E5ECF6\",\"gridcolor\":\"white\",\"gridwidth\":2,\"linecolor\":\"white\",\"showbackground\":true,\"ticks\":\"\",\"zerolinecolor\":\"white\"}},\"shapedefaults\":{\"line\":{\"color\":\"#2a3f5f\"}},\"ternary\":{\"aaxis\":{\"gridcolor\":\"white\",\"linecolor\":\"white\",\"ticks\":\"\"},\"baxis\":{\"gridcolor\":\"white\",\"linecolor\":\"white\",\"ticks\":\"\"},\"bgcolor\":\"#E5ECF6\",\"caxis\":{\"gridcolor\":\"white\",\"linecolor\":\"white\",\"ticks\":\"\"}},\"title\":{\"x\":0.05},\"xaxis\":{\"automargin\":true,\"gridcolor\":\"white\",\"linecolor\":\"white\",\"ticks\":\"\",\"title\":{\"standoff\":15},\"zerolinecolor\":\"white\",\"zerolinewidth\":2},\"yaxis\":{\"automargin\":true,\"gridcolor\":\"white\",\"linecolor\":\"white\",\"ticks\":\"\",\"title\":{\"standoff\":15},\"zerolinecolor\":\"white\",\"zerolinewidth\":2}}},\"height\":500,\"width\":700,\"xaxis\":{\"title\":{\"text\":\"Epoch\"}},\"yaxis\":{\"title\":{\"text\":\"Loss\"}}},                        {\"responsive\": true}                    ).then(function(){\n",
              "                            \n",
              "var gd = document.getElementById('4341e16f-4ea9-45e0-a965-0e373173c103');\n",
              "var x = new MutationObserver(function (mutations, observer) {{\n",
              "        var display = window.getComputedStyle(gd).display;\n",
              "        if (!display || display === 'none') {{\n",
              "            console.log([gd, 'removed!']);\n",
              "            Plotly.purge(gd);\n",
              "            observer.disconnect();\n",
              "        }}\n",
              "}});\n",
              "\n",
              "// Listen for the removal of the full notebook cells\n",
              "var notebookContainer = gd.closest('#notebook-container');\n",
              "if (notebookContainer) {{\n",
              "    x.observe(notebookContainer, {childList: true});\n",
              "}}\n",
              "\n",
              "// Listen for the clearing of the current output cell\n",
              "var outputEl = gd.closest('.output');\n",
              "if (outputEl) {{\n",
              "    x.observe(outputEl, {childList: true});\n",
              "}}\n",
              "\n",
              "                        })                };                            </script>        </div>\n",
              "</body>\n",
              "</html>"
            ]
          },
          "metadata": {}
        }
      ]
    },
    {
      "cell_type": "code",
      "source": [
        "fig = go.Figure()\n",
        "print(history.history.keys())\n",
        "fig.add_trace(go.Scattergl(y=history.history['mae'],\n",
        "                    name='Train'))\n",
        "\n",
        "fig.add_trace(go.Scattergl(y=history.history['val_mae'],\n",
        "                    name='Valid'))\n",
        "\n",
        "\n",
        "fig.update_layout(height=500, width=700,\n",
        "                  xaxis_title='Epoch',\n",
        "                  yaxis_title='Mean Absolute Error')\n",
        "\n",
        "fig.show()\n",
        "\n",
        "mse_nn, mae_nn = model.evaluate(X_test, y_test)\n",
        "\n",
        "print('Mean squared error on test data: ', mse_nn)\n",
        "print('Mean absolute error on test data: ', mae_nn)\n",
        "\n",
        "from sklearn.metrics import mean_absolute_error\n",
        "\n",
        "Xnew = model.predict(X_test)\n",
        "\n",
        "print(f\"Средняя абсолютная ошибка: {int(mean_absolute_error(Xnew, y_test) * 100000)}$\")"
      ],
      "metadata": {
        "colab": {
          "base_uri": "https://localhost:8080/",
          "height": 621
        },
        "id": "Ku5tIsL40AZ8",
        "outputId": "59028ad4-3cfe-4e5d-9a17-2c7e6fac3273"
      },
      "execution_count": null,
      "outputs": [
        {
          "output_type": "stream",
          "name": "stdout",
          "text": [
            "dict_keys(['loss', 'mae', 'val_loss', 'val_mae'])\n"
          ]
        },
        {
          "output_type": "display_data",
          "data": {
            "text/html": [
              "<html>\n",
              "<head><meta charset=\"utf-8\" /></head>\n",
              "<body>\n",
              "    <div>            <script src=\"https://cdnjs.cloudflare.com/ajax/libs/mathjax/2.7.5/MathJax.js?config=TeX-AMS-MML_SVG\"></script><script type=\"text/javascript\">if (window.MathJax) {MathJax.Hub.Config({SVG: {font: \"STIX-Web\"}});}</script>                <script type=\"text/javascript\">window.PlotlyConfig = {MathJaxConfig: 'local'};</script>\n",
              "        <script src=\"https://cdn.plot.ly/plotly-2.8.3.min.js\"></script>                <div id=\"cbf121db-5de4-40a0-8636-1d56954a6224\" class=\"plotly-graph-div\" style=\"height:500px; width:700px;\"></div>            <script type=\"text/javascript\">                                    window.PLOTLYENV=window.PLOTLYENV || {};                                    if (document.getElementById(\"cbf121db-5de4-40a0-8636-1d56954a6224\")) {                    Plotly.newPlot(                        \"cbf121db-5de4-40a0-8636-1d56954a6224\",                        [{\"name\":\"Train\",\"y\":[0.5626639127731323,0.43337926268577576,0.4128483831882477,0.39923274517059326,0.3930239677429199,0.38359153270721436,0.3795253038406372,0.37389859557151794,0.37741854786872864,0.37054723501205444,0.3690377473831177,0.36548811197280884,0.3623845875263214,0.36240243911743164,0.3598931133747101,0.3572680652141571,0.35667476058006287,0.35464152693748474,0.3524675667285919,0.3492846190929413,0.3520728349685669,0.34950289130210876,0.34942272305488586,0.34654003381729126,0.3470514714717865,0.34394100308418274,0.34155508875846863,0.34210968017578125,0.3406084179878235,0.33932480216026306,0.33776721358299255,0.33688172698020935,0.3365829586982727,0.3348432183265686,0.3336807191371918,0.33375316858291626,0.33385178446769714,0.33029890060424805,0.3316692113876343,0.3275841474533081,0.32994210720062256,0.32878679037094116,0.3282589316368103,0.32792332768440247,0.3242032527923584,0.3260769248008728,0.32360875606536865,0.32407185435295105,0.32051530480384827,0.32312700152397156,0.3208119869232178,0.3212772309780121,0.32037442922592163,0.32020074129104614,0.31942906975746155,0.3188733756542206,0.318636029958725,0.31732335686683655,0.3183104395866394,0.31510305404663086,0.31610316038131714,0.31587013602256775,0.31464260816574097,0.3154125511646271,0.31652459502220154,0.31535863876342773,0.31365421414375305,0.31198540329933167,0.31108877062797546,0.3106113374233246,0.3113173544406891,0.3112514019012451,0.3106473386287689,0.3111238479614258,0.3104518949985504,0.3093893826007843,0.306829035282135,0.3094382584095001,0.30874866247177124,0.30534860491752625,0.3076951801776886,0.30596664547920227,0.30683761835098267,0.3067311942577362,0.3062964379787445,0.30618128180503845,0.30368930101394653,0.30497294664382935,0.3040238320827484,0.30277779698371887,0.300973504781723,0.30323565006256104,0.3006571829319,0.3007233142852783,0.30136963725090027,0.2991417348384857,0.30059051513671875,0.30179363489151,0.29858916997909546,0.30017563700675964,0.30051159858703613,0.2970673739910126,0.29649484157562256,0.29779526591300964,0.297298401594162,0.29740670323371887,0.29722192883491516,0.29657191038131714,0.2954641878604889,0.29692643880844116,0.2964630722999573,0.29515916109085083,0.2949961721897125,0.2951684892177582,0.29379838705062866,0.29467976093292236,0.29523971676826477,0.29242756962776184,0.293908029794693,0.2963947355747223],\"type\":\"scattergl\"},{\"name\":\"Valid\",\"y\":[0.4608713388442993,0.4176417887210846,0.40190911293029785,0.38573384284973145,0.3914129436016083,0.383065402507782,0.38144782185554504,0.38184458017349243,0.36210840940475464,0.36707717180252075,0.3652467727661133,0.3590119779109955,0.3588184118270874,0.3611016273498535,0.3549257516860962,0.3700086772441864,0.36201173067092896,0.37583109736442566,0.3607650101184845,0.3472254276275635,0.34398141503334045,0.34418120980262756,0.3542533814907074,0.3632352948188782,0.3536365032196045,0.35978853702545166,0.351243257522583,0.3569827079772949,0.3833831250667572,0.3384641110897064,0.3507043421268463,0.34320077300071716,0.35740241408348083,0.3591378927230835,0.3426969349384308,0.3447910249233246,0.33943650126457214,0.33919814229011536,0.33857443928718567,0.341162770986557,0.3353663384914398,0.3424800634384155,0.343411922454834,0.33798301219940186,0.3285088539123535,0.3520260453224182,0.33590948581695557,0.33753907680511475,0.336972713470459,0.33101633191108704,0.3344966769218445,0.3389170467853546,0.3342899680137634,0.332071989774704,0.3574238121509552,0.3343781530857086,0.3458247780799866,0.33815351128578186,0.35131344199180603,0.33575439453125,0.3364822268486023,0.3348255157470703,0.3421107530593872,0.34718063473701477,0.33783388137817383,0.33606991171836853,0.3325433135032654,0.34066998958587646,0.33470243215560913,0.35658836364746094,0.3448426127433777,0.32997024059295654,0.33534863591194153,0.33690547943115234,0.34136420488357544,0.3378124237060547,0.3328826129436493,0.3412260115146637,0.34353387355804443,0.33658328652381897,0.3366546928882599,0.3526362180709839,0.3368770182132721,0.33561626076698303,0.3380718529224396,0.3415900468826294,0.34001868963241577,0.3415794372558594,0.34614551067352295,0.33903253078460693,0.33642345666885376,0.3390481173992157,0.3413998484611511,0.3408261239528656,0.33206039667129517,0.3450210690498352,0.3358609974384308,0.33885157108306885,0.3384101688861847,0.3379996120929718,0.3383277654647827,0.3390325605869293,0.33583348989486694,0.3444749414920807,0.37481433153152466,0.3364621102809906,0.34150850772857666,0.3393338918685913,0.3504476845264435,0.344651460647583,0.3416452407836914,0.3353736400604248,0.33772802352905273,0.33536434173583984,0.3426670730113983,0.33436325192451477,0.3441316783428192,0.3470003008842468,0.3419130742549896,0.3437745273113251],\"type\":\"scattergl\"}],                        {\"template\":{\"data\":{\"bar\":[{\"error_x\":{\"color\":\"#2a3f5f\"},\"error_y\":{\"color\":\"#2a3f5f\"},\"marker\":{\"line\":{\"color\":\"#E5ECF6\",\"width\":0.5},\"pattern\":{\"fillmode\":\"overlay\",\"size\":10,\"solidity\":0.2}},\"type\":\"bar\"}],\"barpolar\":[{\"marker\":{\"line\":{\"color\":\"#E5ECF6\",\"width\":0.5},\"pattern\":{\"fillmode\":\"overlay\",\"size\":10,\"solidity\":0.2}},\"type\":\"barpolar\"}],\"carpet\":[{\"aaxis\":{\"endlinecolor\":\"#2a3f5f\",\"gridcolor\":\"white\",\"linecolor\":\"white\",\"minorgridcolor\":\"white\",\"startlinecolor\":\"#2a3f5f\"},\"baxis\":{\"endlinecolor\":\"#2a3f5f\",\"gridcolor\":\"white\",\"linecolor\":\"white\",\"minorgridcolor\":\"white\",\"startlinecolor\":\"#2a3f5f\"},\"type\":\"carpet\"}],\"choropleth\":[{\"colorbar\":{\"outlinewidth\":0,\"ticks\":\"\"},\"type\":\"choropleth\"}],\"contour\":[{\"colorbar\":{\"outlinewidth\":0,\"ticks\":\"\"},\"colorscale\":[[0.0,\"#0d0887\"],[0.1111111111111111,\"#46039f\"],[0.2222222222222222,\"#7201a8\"],[0.3333333333333333,\"#9c179e\"],[0.4444444444444444,\"#bd3786\"],[0.5555555555555556,\"#d8576b\"],[0.6666666666666666,\"#ed7953\"],[0.7777777777777778,\"#fb9f3a\"],[0.8888888888888888,\"#fdca26\"],[1.0,\"#f0f921\"]],\"type\":\"contour\"}],\"contourcarpet\":[{\"colorbar\":{\"outlinewidth\":0,\"ticks\":\"\"},\"type\":\"contourcarpet\"}],\"heatmap\":[{\"colorbar\":{\"outlinewidth\":0,\"ticks\":\"\"},\"colorscale\":[[0.0,\"#0d0887\"],[0.1111111111111111,\"#46039f\"],[0.2222222222222222,\"#7201a8\"],[0.3333333333333333,\"#9c179e\"],[0.4444444444444444,\"#bd3786\"],[0.5555555555555556,\"#d8576b\"],[0.6666666666666666,\"#ed7953\"],[0.7777777777777778,\"#fb9f3a\"],[0.8888888888888888,\"#fdca26\"],[1.0,\"#f0f921\"]],\"type\":\"heatmap\"}],\"heatmapgl\":[{\"colorbar\":{\"outlinewidth\":0,\"ticks\":\"\"},\"colorscale\":[[0.0,\"#0d0887\"],[0.1111111111111111,\"#46039f\"],[0.2222222222222222,\"#7201a8\"],[0.3333333333333333,\"#9c179e\"],[0.4444444444444444,\"#bd3786\"],[0.5555555555555556,\"#d8576b\"],[0.6666666666666666,\"#ed7953\"],[0.7777777777777778,\"#fb9f3a\"],[0.8888888888888888,\"#fdca26\"],[1.0,\"#f0f921\"]],\"type\":\"heatmapgl\"}],\"histogram\":[{\"marker\":{\"pattern\":{\"fillmode\":\"overlay\",\"size\":10,\"solidity\":0.2}},\"type\":\"histogram\"}],\"histogram2d\":[{\"colorbar\":{\"outlinewidth\":0,\"ticks\":\"\"},\"colorscale\":[[0.0,\"#0d0887\"],[0.1111111111111111,\"#46039f\"],[0.2222222222222222,\"#7201a8\"],[0.3333333333333333,\"#9c179e\"],[0.4444444444444444,\"#bd3786\"],[0.5555555555555556,\"#d8576b\"],[0.6666666666666666,\"#ed7953\"],[0.7777777777777778,\"#fb9f3a\"],[0.8888888888888888,\"#fdca26\"],[1.0,\"#f0f921\"]],\"type\":\"histogram2d\"}],\"histogram2dcontour\":[{\"colorbar\":{\"outlinewidth\":0,\"ticks\":\"\"},\"colorscale\":[[0.0,\"#0d0887\"],[0.1111111111111111,\"#46039f\"],[0.2222222222222222,\"#7201a8\"],[0.3333333333333333,\"#9c179e\"],[0.4444444444444444,\"#bd3786\"],[0.5555555555555556,\"#d8576b\"],[0.6666666666666666,\"#ed7953\"],[0.7777777777777778,\"#fb9f3a\"],[0.8888888888888888,\"#fdca26\"],[1.0,\"#f0f921\"]],\"type\":\"histogram2dcontour\"}],\"mesh3d\":[{\"colorbar\":{\"outlinewidth\":0,\"ticks\":\"\"},\"type\":\"mesh3d\"}],\"parcoords\":[{\"line\":{\"colorbar\":{\"outlinewidth\":0,\"ticks\":\"\"}},\"type\":\"parcoords\"}],\"pie\":[{\"automargin\":true,\"type\":\"pie\"}],\"scatter\":[{\"marker\":{\"colorbar\":{\"outlinewidth\":0,\"ticks\":\"\"}},\"type\":\"scatter\"}],\"scatter3d\":[{\"line\":{\"colorbar\":{\"outlinewidth\":0,\"ticks\":\"\"}},\"marker\":{\"colorbar\":{\"outlinewidth\":0,\"ticks\":\"\"}},\"type\":\"scatter3d\"}],\"scattercarpet\":[{\"marker\":{\"colorbar\":{\"outlinewidth\":0,\"ticks\":\"\"}},\"type\":\"scattercarpet\"}],\"scattergeo\":[{\"marker\":{\"colorbar\":{\"outlinewidth\":0,\"ticks\":\"\"}},\"type\":\"scattergeo\"}],\"scattergl\":[{\"marker\":{\"colorbar\":{\"outlinewidth\":0,\"ticks\":\"\"}},\"type\":\"scattergl\"}],\"scattermapbox\":[{\"marker\":{\"colorbar\":{\"outlinewidth\":0,\"ticks\":\"\"}},\"type\":\"scattermapbox\"}],\"scatterpolar\":[{\"marker\":{\"colorbar\":{\"outlinewidth\":0,\"ticks\":\"\"}},\"type\":\"scatterpolar\"}],\"scatterpolargl\":[{\"marker\":{\"colorbar\":{\"outlinewidth\":0,\"ticks\":\"\"}},\"type\":\"scatterpolargl\"}],\"scatterternary\":[{\"marker\":{\"colorbar\":{\"outlinewidth\":0,\"ticks\":\"\"}},\"type\":\"scatterternary\"}],\"surface\":[{\"colorbar\":{\"outlinewidth\":0,\"ticks\":\"\"},\"colorscale\":[[0.0,\"#0d0887\"],[0.1111111111111111,\"#46039f\"],[0.2222222222222222,\"#7201a8\"],[0.3333333333333333,\"#9c179e\"],[0.4444444444444444,\"#bd3786\"],[0.5555555555555556,\"#d8576b\"],[0.6666666666666666,\"#ed7953\"],[0.7777777777777778,\"#fb9f3a\"],[0.8888888888888888,\"#fdca26\"],[1.0,\"#f0f921\"]],\"type\":\"surface\"}],\"table\":[{\"cells\":{\"fill\":{\"color\":\"#EBF0F8\"},\"line\":{\"color\":\"white\"}},\"header\":{\"fill\":{\"color\":\"#C8D4E3\"},\"line\":{\"color\":\"white\"}},\"type\":\"table\"}]},\"layout\":{\"annotationdefaults\":{\"arrowcolor\":\"#2a3f5f\",\"arrowhead\":0,\"arrowwidth\":1},\"autotypenumbers\":\"strict\",\"coloraxis\":{\"colorbar\":{\"outlinewidth\":0,\"ticks\":\"\"}},\"colorscale\":{\"diverging\":[[0,\"#8e0152\"],[0.1,\"#c51b7d\"],[0.2,\"#de77ae\"],[0.3,\"#f1b6da\"],[0.4,\"#fde0ef\"],[0.5,\"#f7f7f7\"],[0.6,\"#e6f5d0\"],[0.7,\"#b8e186\"],[0.8,\"#7fbc41\"],[0.9,\"#4d9221\"],[1,\"#276419\"]],\"sequential\":[[0.0,\"#0d0887\"],[0.1111111111111111,\"#46039f\"],[0.2222222222222222,\"#7201a8\"],[0.3333333333333333,\"#9c179e\"],[0.4444444444444444,\"#bd3786\"],[0.5555555555555556,\"#d8576b\"],[0.6666666666666666,\"#ed7953\"],[0.7777777777777778,\"#fb9f3a\"],[0.8888888888888888,\"#fdca26\"],[1.0,\"#f0f921\"]],\"sequentialminus\":[[0.0,\"#0d0887\"],[0.1111111111111111,\"#46039f\"],[0.2222222222222222,\"#7201a8\"],[0.3333333333333333,\"#9c179e\"],[0.4444444444444444,\"#bd3786\"],[0.5555555555555556,\"#d8576b\"],[0.6666666666666666,\"#ed7953\"],[0.7777777777777778,\"#fb9f3a\"],[0.8888888888888888,\"#fdca26\"],[1.0,\"#f0f921\"]]},\"colorway\":[\"#636efa\",\"#EF553B\",\"#00cc96\",\"#ab63fa\",\"#FFA15A\",\"#19d3f3\",\"#FF6692\",\"#B6E880\",\"#FF97FF\",\"#FECB52\"],\"font\":{\"color\":\"#2a3f5f\"},\"geo\":{\"bgcolor\":\"white\",\"lakecolor\":\"white\",\"landcolor\":\"#E5ECF6\",\"showlakes\":true,\"showland\":true,\"subunitcolor\":\"white\"},\"hoverlabel\":{\"align\":\"left\"},\"hovermode\":\"closest\",\"mapbox\":{\"style\":\"light\"},\"paper_bgcolor\":\"white\",\"plot_bgcolor\":\"#E5ECF6\",\"polar\":{\"angularaxis\":{\"gridcolor\":\"white\",\"linecolor\":\"white\",\"ticks\":\"\"},\"bgcolor\":\"#E5ECF6\",\"radialaxis\":{\"gridcolor\":\"white\",\"linecolor\":\"white\",\"ticks\":\"\"}},\"scene\":{\"xaxis\":{\"backgroundcolor\":\"#E5ECF6\",\"gridcolor\":\"white\",\"gridwidth\":2,\"linecolor\":\"white\",\"showbackground\":true,\"ticks\":\"\",\"zerolinecolor\":\"white\"},\"yaxis\":{\"backgroundcolor\":\"#E5ECF6\",\"gridcolor\":\"white\",\"gridwidth\":2,\"linecolor\":\"white\",\"showbackground\":true,\"ticks\":\"\",\"zerolinecolor\":\"white\"},\"zaxis\":{\"backgroundcolor\":\"#E5ECF6\",\"gridcolor\":\"white\",\"gridwidth\":2,\"linecolor\":\"white\",\"showbackground\":true,\"ticks\":\"\",\"zerolinecolor\":\"white\"}},\"shapedefaults\":{\"line\":{\"color\":\"#2a3f5f\"}},\"ternary\":{\"aaxis\":{\"gridcolor\":\"white\",\"linecolor\":\"white\",\"ticks\":\"\"},\"baxis\":{\"gridcolor\":\"white\",\"linecolor\":\"white\",\"ticks\":\"\"},\"bgcolor\":\"#E5ECF6\",\"caxis\":{\"gridcolor\":\"white\",\"linecolor\":\"white\",\"ticks\":\"\"}},\"title\":{\"x\":0.05},\"xaxis\":{\"automargin\":true,\"gridcolor\":\"white\",\"linecolor\":\"white\",\"ticks\":\"\",\"title\":{\"standoff\":15},\"zerolinecolor\":\"white\",\"zerolinewidth\":2},\"yaxis\":{\"automargin\":true,\"gridcolor\":\"white\",\"linecolor\":\"white\",\"ticks\":\"\",\"title\":{\"standoff\":15},\"zerolinecolor\":\"white\",\"zerolinewidth\":2}}},\"height\":500,\"width\":700,\"xaxis\":{\"title\":{\"text\":\"Epoch\"}},\"yaxis\":{\"title\":{\"text\":\"Mean Absolute Error\"}}},                        {\"responsive\": true}                    ).then(function(){\n",
              "                            \n",
              "var gd = document.getElementById('cbf121db-5de4-40a0-8636-1d56954a6224');\n",
              "var x = new MutationObserver(function (mutations, observer) {{\n",
              "        var display = window.getComputedStyle(gd).display;\n",
              "        if (!display || display === 'none') {{\n",
              "            console.log([gd, 'removed!']);\n",
              "            Plotly.purge(gd);\n",
              "            observer.disconnect();\n",
              "        }}\n",
              "}});\n",
              "\n",
              "// Listen for the removal of the full notebook cells\n",
              "var notebookContainer = gd.closest('#notebook-container');\n",
              "if (notebookContainer) {{\n",
              "    x.observe(notebookContainer, {childList: true});\n",
              "}}\n",
              "\n",
              "// Listen for the clearing of the current output cell\n",
              "var outputEl = gd.closest('.output');\n",
              "if (outputEl) {{\n",
              "    x.observe(outputEl, {childList: true});\n",
              "}}\n",
              "\n",
              "                        })                };                            </script>        </div>\n",
              "</body>\n",
              "</html>"
            ]
          },
          "metadata": {}
        },
        {
          "output_type": "stream",
          "name": "stdout",
          "text": [
            "65/65 [==============================] - 0s 2ms/step - loss: 0.3029 - mae: 0.3552\n",
            "Mean squared error on test data:  0.3028726279735565\n",
            "Mean absolute error on test data:  0.35523515939712524\n",
            "65/65 [==============================] - 0s 2ms/step\n",
            "Средняя абсолютная ошибка: 35523$\n"
          ]
        }
      ]
    },
    {
      "cell_type": "markdown",
      "source": [
        "В целом результаты не сильно поменялись"
      ],
      "metadata": {
        "id": "rzcTASOP0T7s"
      }
    }
  ]
}
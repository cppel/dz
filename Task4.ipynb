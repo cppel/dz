{
  "nbformat": 4,
  "nbformat_minor": 0,
  "metadata": {
    "colab": {
      "provenance": [],
      "authorship_tag": "ABX9TyNBP6QT8Uj5XiXqRdxYtok2",
      "include_colab_link": true
    },
    "kernelspec": {
      "name": "python3",
      "display_name": "Python 3"
    },
    "language_info": {
      "name": "python"
    },
    "accelerator": "GPU",
    "gpuClass": "standard"
  },
  "cells": [
    {
      "cell_type": "markdown",
      "metadata": {
        "id": "view-in-github",
        "colab_type": "text"
      },
      "source": [
        "<a href=\"https://colab.research.google.com/github/cppel/dz/blob/main/Task4.ipynb\" target=\"_parent\"><img src=\"https://colab.research.google.com/assets/colab-badge.svg\" alt=\"Open In Colab\"/></a>"
      ]
    },
    {
      "cell_type": "markdown",
      "source": [
        "Построение сверточной нейронной сети для классификации изображений из датасета CIFAR-100, с использованием BatchNormalization() и Dropout()"
      ],
      "metadata": {
        "id": "vcIqKBiBzKzs"
      }
    },
    {
      "cell_type": "markdown",
      "source": [
        "### Задание 1. Загрузите исходный датасет. Разделите его на обучающую и тестовую выборки. Визуализируйте несколько изображений из датасета. Произведите нормализацию данных. \n",
        "\n",
        "\n",
        "*P.S.: Не забудьте обратить внимание на размерность (shape) исходных данных и при необходимости измените её (см. примеры из предыдущих занятий)*\n",
        "\n",
        "[Информация о датасете в Kaggle](https://www.kaggle.com/datasets/fedesoriano/cifar100?resource=download&select=meta)\n",
        "\n",
        "[Техническая документация по использованию датасета в Keras](https://keras.io/api/datasets/cifar100/)\n"
      ],
      "metadata": {
        "id": "Ta_feOiOzOtA"
      }
    },
    {
      "cell_type": "code",
      "source": [
        "from tensorflow import keras\n",
        "\n",
        "(trainX, trainY), (testX, testY) = keras.datasets.cifar100.load_data()\n",
        "trainX = trainX.astype('float32') / 255\n",
        "testX = testX.astype('float32') / 255\n",
        "\n",
        "\n",
        "trainY = keras.utils.to_categorical(trainY, 100)\n",
        "testY = keras.utils.to_categorical(testY, 100)\n",
        "\n",
        "print('Train: X = ', trainX.shape)\n",
        "print('Train: Y = ', trainY.shape)\n",
        "print()\n",
        "print('Test: X = ', testX.shape)\n",
        "print('Test: Y = ', testY.shape)"
      ],
      "metadata": {
        "colab": {
          "base_uri": "https://localhost:8080/"
        },
        "id": "RlIvgXQLzNkC",
        "outputId": "688d6602-a50d-409c-855f-b8fc2ef5680b"
      },
      "execution_count": 2,
      "outputs": [
        {
          "output_type": "stream",
          "name": "stdout",
          "text": [
            "Downloading data from https://www.cs.toronto.edu/~kriz/cifar-100-python.tar.gz\n",
            "169001437/169001437 [==============================] - 6s 0us/step\n",
            "Train: X =  (50000, 32, 32, 3)\n",
            "Train: Y =  (50000, 100)\n",
            "\n",
            "Test: X =  (10000, 32, 32, 3)\n",
            "Test: Y =  (10000, 100)\n"
          ]
        }
      ]
    },
    {
      "cell_type": "markdown",
      "source": [
        "### Задание 2. Создайте модель сверточной нейронной сети для решения поставленной задачи без использования BatchNormalization() и Dropout(). \n",
        "\n",
        "Имя данной модели: model_1"
      ],
      "metadata": {
        "id": "GqYTv47s0Ao_"
      }
    },
    {
      "cell_type": "code",
      "source": [
        "from keras.layers import Activation, BatchNormalization, Dropout, Conv2D, Dense, Flatten, MaxPooling2D\n",
        "from keras.models import Sequential\n",
        "\n",
        "model_1 = Sequential()\n",
        "model_1.add(Conv2D(32, (3, 3), padding='same',\n",
        "                 input_shape=(32, 32, 3)))\n",
        "model_1.add(Activation('relu'))\n",
        "model_1.add(Conv2D(32, (3, 3)))\n",
        "model_1.add(Activation('relu'))\n",
        "model_1.add(MaxPooling2D(pool_size=(2, 2)))\n",
        "\n",
        "model_1.add(Conv2D(64, (3, 3), padding='same'))\n",
        "model_1.add(Activation('relu'))\n",
        "model_1.add(Conv2D(64, (3, 3)))\n",
        "model_1.add(Activation('relu'))\n",
        "model_1.add(MaxPooling2D(pool_size=(2, 2)))\n",
        "\n",
        "model_1.add(Flatten())\n",
        "model_1.add(Dense(512))\n",
        "model_1.add(Activation('relu'))\n",
        "model_1.add(Dense(100))\n",
        "model_1.add(Activation('softmax'))\n",
        "\n",
        "model_1.compile(loss='categorical_crossentropy',\n",
        "              optimizer='adam',\n",
        "              metrics=['accuracy'])\n",
        "\n",
        "model_1.summary()"
      ],
      "metadata": {
        "colab": {
          "base_uri": "https://localhost:8080/"
        },
        "id": "jXvYVDkN0CjE",
        "outputId": "8d33cb52-583f-46b0-c3f0-81c2a93982b9"
      },
      "execution_count": 3,
      "outputs": [
        {
          "output_type": "stream",
          "name": "stdout",
          "text": [
            "Model: \"sequential\"\n",
            "_________________________________________________________________\n",
            " Layer (type)                Output Shape              Param #   \n",
            "=================================================================\n",
            " conv2d (Conv2D)             (None, 32, 32, 32)        896       \n",
            "                                                                 \n",
            " activation (Activation)     (None, 32, 32, 32)        0         \n",
            "                                                                 \n",
            " conv2d_1 (Conv2D)           (None, 30, 30, 32)        9248      \n",
            "                                                                 \n",
            " activation_1 (Activation)   (None, 30, 30, 32)        0         \n",
            "                                                                 \n",
            " max_pooling2d (MaxPooling2D  (None, 15, 15, 32)       0         \n",
            " )                                                               \n",
            "                                                                 \n",
            " conv2d_2 (Conv2D)           (None, 15, 15, 64)        18496     \n",
            "                                                                 \n",
            " activation_2 (Activation)   (None, 15, 15, 64)        0         \n",
            "                                                                 \n",
            " conv2d_3 (Conv2D)           (None, 13, 13, 64)        36928     \n",
            "                                                                 \n",
            " activation_3 (Activation)   (None, 13, 13, 64)        0         \n",
            "                                                                 \n",
            " max_pooling2d_1 (MaxPooling  (None, 6, 6, 64)         0         \n",
            " 2D)                                                             \n",
            "                                                                 \n",
            " flatten (Flatten)           (None, 2304)              0         \n",
            "                                                                 \n",
            " dense (Dense)               (None, 512)               1180160   \n",
            "                                                                 \n",
            " activation_4 (Activation)   (None, 512)               0         \n",
            "                                                                 \n",
            " dense_1 (Dense)             (None, 100)               51300     \n",
            "                                                                 \n",
            " activation_5 (Activation)   (None, 100)               0         \n",
            "                                                                 \n",
            "=================================================================\n",
            "Total params: 1,297,028\n",
            "Trainable params: 1,297,028\n",
            "Non-trainable params: 0\n",
            "_________________________________________________________________\n"
          ]
        }
      ]
    },
    {
      "cell_type": "code",
      "source": [
        "batch_size = 128\n",
        "epochs = 10"
      ],
      "metadata": {
        "id": "0N0s22a20CY8"
      },
      "execution_count": 4,
      "outputs": []
    },
    {
      "cell_type": "code",
      "source": [
        "model_1_history = model_1.fit(trainX, trainY,\n",
        "                              batch_size=batch_size,\n",
        "                              epochs=epochs,\n",
        "                              verbose=1,\n",
        "                              validation_data=(testX, testY))"
      ],
      "metadata": {
        "colab": {
          "base_uri": "https://localhost:8080/"
        },
        "id": "VsdWXMPN3PO5",
        "outputId": "1e156910-592f-45e0-eb8b-b5479abda12b"
      },
      "execution_count": 5,
      "outputs": [
        {
          "output_type": "stream",
          "name": "stdout",
          "text": [
            "Epoch 1/10\n",
            "391/391 [==============================] - 18s 14ms/step - loss: 3.7729 - accuracy: 0.1275 - val_loss: 3.2713 - val_accuracy: 0.2163\n",
            "Epoch 2/10\n",
            "391/391 [==============================] - 5s 12ms/step - loss: 2.9811 - accuracy: 0.2665 - val_loss: 2.8354 - val_accuracy: 0.3045\n",
            "Epoch 3/10\n",
            "391/391 [==============================] - 5s 12ms/step - loss: 2.5626 - accuracy: 0.3541 - val_loss: 2.6100 - val_accuracy: 0.3508\n",
            "Epoch 4/10\n",
            "391/391 [==============================] - 5s 12ms/step - loss: 2.2523 - accuracy: 0.4194 - val_loss: 2.4998 - val_accuracy: 0.3735\n",
            "Epoch 5/10\n",
            "391/391 [==============================] - 5s 12ms/step - loss: 1.9760 - accuracy: 0.4806 - val_loss: 2.4607 - val_accuracy: 0.3923\n",
            "Epoch 6/10\n",
            "391/391 [==============================] - 5s 13ms/step - loss: 1.7238 - accuracy: 0.5351 - val_loss: 2.4759 - val_accuracy: 0.4011\n",
            "Epoch 7/10\n",
            "391/391 [==============================] - 5s 12ms/step - loss: 1.4696 - accuracy: 0.5958 - val_loss: 2.5480 - val_accuracy: 0.4020\n",
            "Epoch 8/10\n",
            "391/391 [==============================] - 5s 13ms/step - loss: 1.2264 - accuracy: 0.6523 - val_loss: 2.6896 - val_accuracy: 0.4015\n",
            "Epoch 9/10\n",
            "391/391 [==============================] - 4s 11ms/step - loss: 0.9904 - accuracy: 0.7153 - val_loss: 2.9839 - val_accuracy: 0.3846\n",
            "Epoch 10/10\n",
            "391/391 [==============================] - 5s 12ms/step - loss: 0.7740 - accuracy: 0.7721 - val_loss: 3.3636 - val_accuracy: 0.3864\n"
          ]
        }
      ]
    },
    {
      "cell_type": "markdown",
      "source": [
        "### Задание 3. Создайте модель сверточной нейронной сети для решения поставленной задачи с использованием BatchNormalization(). \n",
        "\n",
        "Имя данной модели: model_2"
      ],
      "metadata": {
        "id": "geCipCpf5Ocw"
      }
    },
    {
      "cell_type": "code",
      "source": [
        "model_2 = Sequential()\n",
        "model_2.add(Conv2D(32, (3, 3), padding='same',\n",
        "                 input_shape=(32, 32, 3)))\n",
        "model_2.add(Activation('relu'))\n",
        "model_2.add(Conv2D(32, (3, 3)))\n",
        "model_2.add(Activation('relu'))\n",
        "\n",
        "model_2.add(BatchNormalization())\n",
        "model_2.add(MaxPooling2D(pool_size=(2, 2)))\n",
        "\n",
        "model_2.add(Conv2D(64, (3, 3), padding='same'))\n",
        "model_2.add(Activation('relu'))\n",
        "model_2.add(BatchNormalization())\n",
        "model_2.add(Conv2D(64, (3, 3)))\n",
        "model_2.add(Activation('relu'))\n",
        "model_2.add(BatchNormalization())\n",
        "model_2.add(MaxPooling2D(pool_size=(2, 2)))\n",
        "\n",
        "model_2.add(Flatten())\n",
        "model_2.add(Dense(512))\n",
        "model_2.add(Activation('relu'))\n",
        "\n",
        "model_2.add(BatchNormalization())\n",
        "model_2.add(Dense(100))\n",
        "model_2.add(Activation('softmax'))\n",
        "\n",
        "model_2.compile(loss='categorical_crossentropy',\n",
        "              optimizer='adam',\n",
        "              metrics=['accuracy'])\n",
        "\n",
        "model_2.summary()"
      ],
      "metadata": {
        "colab": {
          "base_uri": "https://localhost:8080/"
        },
        "id": "eOzaCQG65SdG",
        "outputId": "b0d7dc34-88ab-4043-c355-e94d05869736"
      },
      "execution_count": 6,
      "outputs": [
        {
          "output_type": "stream",
          "name": "stdout",
          "text": [
            "Model: \"sequential_1\"\n",
            "_________________________________________________________________\n",
            " Layer (type)                Output Shape              Param #   \n",
            "=================================================================\n",
            " conv2d_4 (Conv2D)           (None, 32, 32, 32)        896       \n",
            "                                                                 \n",
            " activation_6 (Activation)   (None, 32, 32, 32)        0         \n",
            "                                                                 \n",
            " conv2d_5 (Conv2D)           (None, 30, 30, 32)        9248      \n",
            "                                                                 \n",
            " activation_7 (Activation)   (None, 30, 30, 32)        0         \n",
            "                                                                 \n",
            " batch_normalization (BatchN  (None, 30, 30, 32)       128       \n",
            " ormalization)                                                   \n",
            "                                                                 \n",
            " max_pooling2d_2 (MaxPooling  (None, 15, 15, 32)       0         \n",
            " 2D)                                                             \n",
            "                                                                 \n",
            " conv2d_6 (Conv2D)           (None, 15, 15, 64)        18496     \n",
            "                                                                 \n",
            " activation_8 (Activation)   (None, 15, 15, 64)        0         \n",
            "                                                                 \n",
            " batch_normalization_1 (Batc  (None, 15, 15, 64)       256       \n",
            " hNormalization)                                                 \n",
            "                                                                 \n",
            " conv2d_7 (Conv2D)           (None, 13, 13, 64)        36928     \n",
            "                                                                 \n",
            " activation_9 (Activation)   (None, 13, 13, 64)        0         \n",
            "                                                                 \n",
            " batch_normalization_2 (Batc  (None, 13, 13, 64)       256       \n",
            " hNormalization)                                                 \n",
            "                                                                 \n",
            " max_pooling2d_3 (MaxPooling  (None, 6, 6, 64)         0         \n",
            " 2D)                                                             \n",
            "                                                                 \n",
            " flatten_1 (Flatten)         (None, 2304)              0         \n",
            "                                                                 \n",
            " dense_2 (Dense)             (None, 512)               1180160   \n",
            "                                                                 \n",
            " activation_10 (Activation)  (None, 512)               0         \n",
            "                                                                 \n",
            " batch_normalization_3 (Batc  (None, 512)              2048      \n",
            " hNormalization)                                                 \n",
            "                                                                 \n",
            " dense_3 (Dense)             (None, 100)               51300     \n",
            "                                                                 \n",
            " activation_11 (Activation)  (None, 100)               0         \n",
            "                                                                 \n",
            "=================================================================\n",
            "Total params: 1,299,716\n",
            "Trainable params: 1,298,372\n",
            "Non-trainable params: 1,344\n",
            "_________________________________________________________________\n"
          ]
        }
      ]
    },
    {
      "cell_type": "code",
      "source": [
        "batch_size = 128\n",
        "epochs = 10\n",
        "\n",
        "model_2_history = model_2.fit(trainX, trainY,\n",
        "                              batch_size=batch_size,\n",
        "                              epochs=epochs,\n",
        "                              verbose=1,\n",
        "                              validation_data=(testX, testY))"
      ],
      "metadata": {
        "colab": {
          "base_uri": "https://localhost:8080/"
        },
        "id": "aw8R5haL51Nl",
        "outputId": "8e075237-1509-471d-f135-f97bc2528405"
      },
      "execution_count": 7,
      "outputs": [
        {
          "output_type": "stream",
          "name": "stdout",
          "text": [
            "Epoch 1/10\n",
            "391/391 [==============================] - 10s 15ms/step - loss: 3.2607 - accuracy: 0.2337 - val_loss: 5.3102 - val_accuracy: 0.0557\n",
            "Epoch 2/10\n",
            "391/391 [==============================] - 5s 14ms/step - loss: 2.2860 - accuracy: 0.4137 - val_loss: 2.9728 - val_accuracy: 0.3057\n",
            "Epoch 3/10\n",
            "391/391 [==============================] - 5s 14ms/step - loss: 1.7584 - accuracy: 0.5355 - val_loss: 2.4745 - val_accuracy: 0.3827\n",
            "Epoch 4/10\n",
            "391/391 [==============================] - 5s 14ms/step - loss: 1.2982 - accuracy: 0.6492 - val_loss: 3.0278 - val_accuracy: 0.3377\n",
            "Epoch 5/10\n",
            "391/391 [==============================] - 5s 14ms/step - loss: 0.8500 - accuracy: 0.7700 - val_loss: 2.5387 - val_accuracy: 0.4180\n",
            "Epoch 6/10\n",
            "391/391 [==============================] - 5s 14ms/step - loss: 0.4588 - accuracy: 0.8853 - val_loss: 2.7213 - val_accuracy: 0.4226\n",
            "Epoch 7/10\n",
            "391/391 [==============================] - 5s 14ms/step - loss: 0.2115 - accuracy: 0.9567 - val_loss: 2.9382 - val_accuracy: 0.4080\n",
            "Epoch 8/10\n",
            "391/391 [==============================] - 6s 14ms/step - loss: 0.1010 - accuracy: 0.9847 - val_loss: 2.9406 - val_accuracy: 0.4381\n",
            "Epoch 9/10\n",
            "391/391 [==============================] - 5s 13ms/step - loss: 0.0524 - accuracy: 0.9943 - val_loss: 3.1174 - val_accuracy: 0.4263\n",
            "Epoch 10/10\n",
            "391/391 [==============================] - 6s 14ms/step - loss: 0.0363 - accuracy: 0.9963 - val_loss: 3.3032 - val_accuracy: 0.4164\n"
          ]
        }
      ]
    },
    {
      "cell_type": "markdown",
      "source": [
        "### Задание 4. Создайте модель сверточной нейронной сети для решения поставленной задачи с использованием Dropout(). \n",
        "\n",
        "Имя данной модели: model_3"
      ],
      "metadata": {
        "id": "JiXDI2P753bn"
      }
    },
    {
      "cell_type": "code",
      "source": [
        "model_3 = Sequential()\n",
        "model_3.add(Conv2D(32, (3, 3), padding='same',\n",
        "                 input_shape=(32, 32, 3)))\n",
        "model_3.add(Activation('relu'))\n",
        "model_3.add(Conv2D(32, (3, 3)))\n",
        "model_3.add(Activation('relu'))\n",
        "model_3.add(MaxPooling2D(pool_size=(2, 2)))\n",
        "model_3.add(Dropout(0.25))\n",
        "\n",
        "model_3.add(Conv2D(64, (3, 3), padding='same'))\n",
        "model_3.add(Activation('relu'))\n",
        "model_3.add(Conv2D(64, (3, 3)))\n",
        "model_3.add(Activation('relu'))\n",
        "model_3.add(MaxPooling2D(pool_size=(2, 2)))\n",
        "model_3.add(Dropout(0.25))\n",
        "\n",
        "model_3.add(Flatten())\n",
        "model_3.add(Dense(512))\n",
        "model_3.add(Activation('relu'))\n",
        "model_3.add(Dropout(0.5))\n",
        "model_3.add(Dense(100))\n",
        "model_3.add(Activation('softmax'))\n",
        "\n",
        "model_3.compile(loss='categorical_crossentropy',\n",
        "              optimizer='adam',\n",
        "              metrics=['accuracy'])\n",
        "\n",
        "model_3.summary()"
      ],
      "metadata": {
        "colab": {
          "base_uri": "https://localhost:8080/"
        },
        "id": "Vx-FXD8C54GR",
        "outputId": "1dcdc67d-3dfa-4244-f4bc-7370fee5ea4c"
      },
      "execution_count": 8,
      "outputs": [
        {
          "output_type": "stream",
          "name": "stdout",
          "text": [
            "Model: \"sequential_2\"\n",
            "_________________________________________________________________\n",
            " Layer (type)                Output Shape              Param #   \n",
            "=================================================================\n",
            " conv2d_8 (Conv2D)           (None, 32, 32, 32)        896       \n",
            "                                                                 \n",
            " activation_12 (Activation)  (None, 32, 32, 32)        0         \n",
            "                                                                 \n",
            " conv2d_9 (Conv2D)           (None, 30, 30, 32)        9248      \n",
            "                                                                 \n",
            " activation_13 (Activation)  (None, 30, 30, 32)        0         \n",
            "                                                                 \n",
            " max_pooling2d_4 (MaxPooling  (None, 15, 15, 32)       0         \n",
            " 2D)                                                             \n",
            "                                                                 \n",
            " dropout (Dropout)           (None, 15, 15, 32)        0         \n",
            "                                                                 \n",
            " conv2d_10 (Conv2D)          (None, 15, 15, 64)        18496     \n",
            "                                                                 \n",
            " activation_14 (Activation)  (None, 15, 15, 64)        0         \n",
            "                                                                 \n",
            " conv2d_11 (Conv2D)          (None, 13, 13, 64)        36928     \n",
            "                                                                 \n",
            " activation_15 (Activation)  (None, 13, 13, 64)        0         \n",
            "                                                                 \n",
            " max_pooling2d_5 (MaxPooling  (None, 6, 6, 64)         0         \n",
            " 2D)                                                             \n",
            "                                                                 \n",
            " dropout_1 (Dropout)         (None, 6, 6, 64)          0         \n",
            "                                                                 \n",
            " flatten_2 (Flatten)         (None, 2304)              0         \n",
            "                                                                 \n",
            " dense_4 (Dense)             (None, 512)               1180160   \n",
            "                                                                 \n",
            " activation_16 (Activation)  (None, 512)               0         \n",
            "                                                                 \n",
            " dropout_2 (Dropout)         (None, 512)               0         \n",
            "                                                                 \n",
            " dense_5 (Dense)             (None, 100)               51300     \n",
            "                                                                 \n",
            " activation_17 (Activation)  (None, 100)               0         \n",
            "                                                                 \n",
            "=================================================================\n",
            "Total params: 1,297,028\n",
            "Trainable params: 1,297,028\n",
            "Non-trainable params: 0\n",
            "_________________________________________________________________\n"
          ]
        }
      ]
    },
    {
      "cell_type": "code",
      "source": [
        "batch_size = 128\n",
        "epochs = 20\n",
        "model_3_history = model_3.fit(trainX, trainY,\n",
        "                              batch_size=batch_size,\n",
        "                              epochs=epochs,\n",
        "                              verbose=1,\n",
        "                              validation_data=(testX, testY))"
      ],
      "metadata": {
        "colab": {
          "base_uri": "https://localhost:8080/"
        },
        "id": "ksY1Eu8054ZW",
        "outputId": "37ac3d0b-578a-451a-9d6f-ca83298f2aac"
      },
      "execution_count": 9,
      "outputs": [
        {
          "output_type": "stream",
          "name": "stdout",
          "text": [
            "Epoch 1/20\n",
            "391/391 [==============================] - 8s 14ms/step - loss: 4.0823 - accuracy: 0.0742 - val_loss: 3.5960 - val_accuracy: 0.1535\n",
            "Epoch 2/20\n",
            "391/391 [==============================] - 6s 14ms/step - loss: 3.4161 - accuracy: 0.1832 - val_loss: 3.0169 - val_accuracy: 0.2686\n",
            "Epoch 3/20\n",
            "391/391 [==============================] - 5s 13ms/step - loss: 3.0695 - accuracy: 0.2461 - val_loss: 2.7779 - val_accuracy: 0.3151\n",
            "Epoch 4/20\n",
            "391/391 [==============================] - 5s 14ms/step - loss: 2.8545 - accuracy: 0.2876 - val_loss: 2.6398 - val_accuracy: 0.3441\n",
            "Epoch 5/20\n",
            "391/391 [==============================] - 5s 14ms/step - loss: 2.7021 - accuracy: 0.3173 - val_loss: 2.5162 - val_accuracy: 0.3703\n",
            "Epoch 6/20\n",
            "391/391 [==============================] - 5s 13ms/step - loss: 2.5656 - accuracy: 0.3449 - val_loss: 2.4109 - val_accuracy: 0.3858\n",
            "Epoch 7/20\n",
            "391/391 [==============================] - 6s 16ms/step - loss: 2.4599 - accuracy: 0.3653 - val_loss: 2.3201 - val_accuracy: 0.4069\n",
            "Epoch 8/20\n",
            "391/391 [==============================] - 5s 13ms/step - loss: 2.3700 - accuracy: 0.3846 - val_loss: 2.2694 - val_accuracy: 0.4129\n",
            "Epoch 9/20\n",
            "391/391 [==============================] - 6s 15ms/step - loss: 2.2914 - accuracy: 0.4031 - val_loss: 2.2184 - val_accuracy: 0.4317\n",
            "Epoch 10/20\n",
            "391/391 [==============================] - 5s 13ms/step - loss: 2.2234 - accuracy: 0.4133 - val_loss: 2.1844 - val_accuracy: 0.4348\n",
            "Epoch 11/20\n",
            "391/391 [==============================] - 5s 14ms/step - loss: 2.1593 - accuracy: 0.4296 - val_loss: 2.1468 - val_accuracy: 0.4444\n",
            "Epoch 12/20\n",
            "391/391 [==============================] - 5s 14ms/step - loss: 2.0981 - accuracy: 0.4393 - val_loss: 2.1251 - val_accuracy: 0.4497\n",
            "Epoch 13/20\n",
            "391/391 [==============================] - 5s 14ms/step - loss: 2.0418 - accuracy: 0.4504 - val_loss: 2.0990 - val_accuracy: 0.4505\n",
            "Epoch 14/20\n",
            "391/391 [==============================] - 6s 14ms/step - loss: 2.0087 - accuracy: 0.4623 - val_loss: 2.0837 - val_accuracy: 0.4564\n",
            "Epoch 15/20\n",
            "391/391 [==============================] - 5s 14ms/step - loss: 1.9566 - accuracy: 0.4698 - val_loss: 2.0739 - val_accuracy: 0.4574\n",
            "Epoch 16/20\n",
            "391/391 [==============================] - 5s 14ms/step - loss: 1.9023 - accuracy: 0.4809 - val_loss: 2.0558 - val_accuracy: 0.4647\n",
            "Epoch 17/20\n",
            "391/391 [==============================] - 5s 14ms/step - loss: 1.8726 - accuracy: 0.4876 - val_loss: 2.0565 - val_accuracy: 0.4647\n",
            "Epoch 18/20\n",
            "391/391 [==============================] - 6s 14ms/step - loss: 1.8364 - accuracy: 0.4947 - val_loss: 2.0247 - val_accuracy: 0.4679\n",
            "Epoch 19/20\n",
            "391/391 [==============================] - 5s 14ms/step - loss: 1.7951 - accuracy: 0.5055 - val_loss: 2.0258 - val_accuracy: 0.4705\n",
            "Epoch 20/20\n",
            "391/391 [==============================] - 5s 13ms/step - loss: 1.7627 - accuracy: 0.5114 - val_loss: 2.0199 - val_accuracy: 0.4762\n"
          ]
        }
      ]
    },
    {
      "cell_type": "markdown",
      "source": [
        "### Задание 5. Создайте модель сверточной нейронной сети для решения поставленной задачи с использованием Dropout() и BatchNormalization().\n",
        "\n",
        "См. рекомендации [здесь](https://stackoverflow.com/questions/39691902/ordering-of-batch-normalization-and-dropout) и [здесь](https://www.kaggle.com/code/ryanholbrook/dropout-and-batch-normalization/)\n",
        "\n",
        "Имя данной модели: model_4"
      ],
      "metadata": {
        "id": "PKUIB5kb54tx"
      }
    },
    {
      "cell_type": "code",
      "source": [
        "model_4 = Sequential()\n",
        "model_4.add(Conv2D(32, (3, 3), padding='same',\n",
        "                 input_shape=(32, 32, 3)))\n",
        "model_4.add(Activation('relu'))\n",
        "model_4.add(Conv2D(32, (3, 3)))\n",
        "model_4.add(Activation('relu'))\n",
        "\n",
        "model_4.add(BatchNormalization())\n",
        "model_4.add(MaxPooling2D(pool_size=(2, 2)))\n",
        "model_4.add(Dropout(0.25))\n",
        "\n",
        "model_4.add(Conv2D(64, (3, 3), padding='same'))\n",
        "model_4.add(Activation('relu'))\n",
        "model_4.add(BatchNormalization())\n",
        "model_4.add(Conv2D(64, (3, 3)))\n",
        "model_4.add(Activation('relu'))\n",
        "model_4.add(BatchNormalization())\n",
        "model_4.add(MaxPooling2D(pool_size=(2, 2)))\n",
        "model_4.add(Dropout(0.25))\n",
        "\n",
        "model_4.add(Flatten())\n",
        "\n",
        "model_4.add(Dense(512))\n",
        "model_4.add(Activation('relu'))\n",
        "\n",
        "model_4.add(Dropout(0.5))\n",
        "model_4.add(Dense(100))\n",
        "model_4.add(Activation('softmax'))\n",
        "\n",
        "model_4.compile(loss='categorical_crossentropy',\n",
        "              optimizer='adam',\n",
        "              metrics=['accuracy'])\n",
        "\n",
        "model_4.summary()"
      ],
      "metadata": {
        "id": "Jml25N3O7K51",
        "colab": {
          "base_uri": "https://localhost:8080/"
        },
        "outputId": "decf3fcb-5d5b-4c04-8410-220d4cc5f5d6"
      },
      "execution_count": 10,
      "outputs": [
        {
          "output_type": "stream",
          "name": "stdout",
          "text": [
            "Model: \"sequential_3\"\n",
            "_________________________________________________________________\n",
            " Layer (type)                Output Shape              Param #   \n",
            "=================================================================\n",
            " conv2d_12 (Conv2D)          (None, 32, 32, 32)        896       \n",
            "                                                                 \n",
            " activation_18 (Activation)  (None, 32, 32, 32)        0         \n",
            "                                                                 \n",
            " conv2d_13 (Conv2D)          (None, 30, 30, 32)        9248      \n",
            "                                                                 \n",
            " activation_19 (Activation)  (None, 30, 30, 32)        0         \n",
            "                                                                 \n",
            " batch_normalization_4 (Batc  (None, 30, 30, 32)       128       \n",
            " hNormalization)                                                 \n",
            "                                                                 \n",
            " max_pooling2d_6 (MaxPooling  (None, 15, 15, 32)       0         \n",
            " 2D)                                                             \n",
            "                                                                 \n",
            " dropout_3 (Dropout)         (None, 15, 15, 32)        0         \n",
            "                                                                 \n",
            " conv2d_14 (Conv2D)          (None, 15, 15, 64)        18496     \n",
            "                                                                 \n",
            " activation_20 (Activation)  (None, 15, 15, 64)        0         \n",
            "                                                                 \n",
            " batch_normalization_5 (Batc  (None, 15, 15, 64)       256       \n",
            " hNormalization)                                                 \n",
            "                                                                 \n",
            " conv2d_15 (Conv2D)          (None, 13, 13, 64)        36928     \n",
            "                                                                 \n",
            " activation_21 (Activation)  (None, 13, 13, 64)        0         \n",
            "                                                                 \n",
            " batch_normalization_6 (Batc  (None, 13, 13, 64)       256       \n",
            " hNormalization)                                                 \n",
            "                                                                 \n",
            " max_pooling2d_7 (MaxPooling  (None, 6, 6, 64)         0         \n",
            " 2D)                                                             \n",
            "                                                                 \n",
            " dropout_4 (Dropout)         (None, 6, 6, 64)          0         \n",
            "                                                                 \n",
            " flatten_3 (Flatten)         (None, 2304)              0         \n",
            "                                                                 \n",
            " dense_6 (Dense)             (None, 512)               1180160   \n",
            "                                                                 \n",
            " activation_22 (Activation)  (None, 512)               0         \n",
            "                                                                 \n",
            " dropout_5 (Dropout)         (None, 512)               0         \n",
            "                                                                 \n",
            " dense_7 (Dense)             (None, 100)               51300     \n",
            "                                                                 \n",
            " activation_23 (Activation)  (None, 100)               0         \n",
            "                                                                 \n",
            "=================================================================\n",
            "Total params: 1,297,668\n",
            "Trainable params: 1,297,348\n",
            "Non-trainable params: 320\n",
            "_________________________________________________________________\n"
          ]
        }
      ]
    },
    {
      "cell_type": "code",
      "source": [
        "batch_size = 512\n",
        "epochs = 25\n",
        "model_4_history = model_4.fit(trainX, trainY,\n",
        "                              batch_size=batch_size,\n",
        "                              epochs=epochs,\n",
        "                              verbose=1,\n",
        "                              validation_data=(testX, testY))"
      ],
      "metadata": {
        "id": "cv3PIzoK7LLd",
        "colab": {
          "base_uri": "https://localhost:8080/"
        },
        "outputId": "ed844202-1a27-4733-e422-99575b01327d"
      },
      "execution_count": 11,
      "outputs": [
        {
          "output_type": "stream",
          "name": "stdout",
          "text": [
            "Epoch 1/25\n",
            "98/98 [==============================] - 11s 65ms/step - loss: 4.3524 - accuracy: 0.0634 - val_loss: 5.7439 - val_accuracy: 0.0151\n",
            "Epoch 2/25\n",
            "98/98 [==============================] - 5s 52ms/step - loss: 3.7367 - accuracy: 0.1406 - val_loss: 5.0141 - val_accuracy: 0.0231\n",
            "Epoch 3/25\n",
            "98/98 [==============================] - 5s 52ms/step - loss: 3.4187 - accuracy: 0.1912 - val_loss: 5.1661 - val_accuracy: 0.0319\n",
            "Epoch 4/25\n",
            "98/98 [==============================] - 5s 51ms/step - loss: 3.1766 - accuracy: 0.2283 - val_loss: 3.9018 - val_accuracy: 0.1175\n",
            "Epoch 5/25\n",
            "98/98 [==============================] - 5s 54ms/step - loss: 2.9766 - accuracy: 0.2671 - val_loss: 3.2677 - val_accuracy: 0.2227\n",
            "Epoch 6/25\n",
            "98/98 [==============================] - 5s 52ms/step - loss: 2.8154 - accuracy: 0.2957 - val_loss: 2.8217 - val_accuracy: 0.3001\n",
            "Epoch 7/25\n",
            "98/98 [==============================] - 5s 52ms/step - loss: 2.6607 - accuracy: 0.3245 - val_loss: 2.5711 - val_accuracy: 0.3518\n",
            "Epoch 8/25\n",
            "98/98 [==============================] - 5s 53ms/step - loss: 2.5280 - accuracy: 0.3499 - val_loss: 2.6517 - val_accuracy: 0.3359\n",
            "Epoch 9/25\n",
            "98/98 [==============================] - 5s 52ms/step - loss: 2.4244 - accuracy: 0.3720 - val_loss: 2.3962 - val_accuracy: 0.3867\n",
            "Epoch 10/25\n",
            "98/98 [==============================] - 5s 54ms/step - loss: 2.3039 - accuracy: 0.3948 - val_loss: 2.3357 - val_accuracy: 0.4023\n",
            "Epoch 11/25\n",
            "98/98 [==============================] - 5s 51ms/step - loss: 2.2210 - accuracy: 0.4130 - val_loss: 2.2232 - val_accuracy: 0.4221\n",
            "Epoch 12/25\n",
            "98/98 [==============================] - 5s 52ms/step - loss: 2.1348 - accuracy: 0.4303 - val_loss: 2.5316 - val_accuracy: 0.3821\n",
            "Epoch 13/25\n",
            "98/98 [==============================] - 5s 53ms/step - loss: 2.0501 - accuracy: 0.4466 - val_loss: 2.1780 - val_accuracy: 0.4349\n",
            "Epoch 14/25\n",
            "98/98 [==============================] - 5s 51ms/step - loss: 1.9803 - accuracy: 0.4652 - val_loss: 2.1923 - val_accuracy: 0.4332\n",
            "Epoch 15/25\n",
            "98/98 [==============================] - 5s 52ms/step - loss: 1.9264 - accuracy: 0.4765 - val_loss: 2.0597 - val_accuracy: 0.4647\n",
            "Epoch 16/25\n",
            "98/98 [==============================] - 5s 52ms/step - loss: 1.8437 - accuracy: 0.4950 - val_loss: 2.1666 - val_accuracy: 0.4471\n",
            "Epoch 17/25\n",
            "98/98 [==============================] - 5s 52ms/step - loss: 1.7930 - accuracy: 0.5076 - val_loss: 2.1118 - val_accuracy: 0.4597\n",
            "Epoch 18/25\n",
            "98/98 [==============================] - 5s 51ms/step - loss: 1.7336 - accuracy: 0.5165 - val_loss: 2.2097 - val_accuracy: 0.4389\n",
            "Epoch 19/25\n",
            "98/98 [==============================] - 5s 51ms/step - loss: 1.6890 - accuracy: 0.5299 - val_loss: 2.0907 - val_accuracy: 0.4679\n",
            "Epoch 20/25\n",
            "98/98 [==============================] - 5s 53ms/step - loss: 1.6373 - accuracy: 0.5404 - val_loss: 2.0604 - val_accuracy: 0.4649\n",
            "Epoch 21/25\n",
            "98/98 [==============================] - 5s 51ms/step - loss: 1.5953 - accuracy: 0.5491 - val_loss: 2.0455 - val_accuracy: 0.4707\n",
            "Epoch 22/25\n",
            "98/98 [==============================] - 5s 53ms/step - loss: 1.5503 - accuracy: 0.5598 - val_loss: 2.0075 - val_accuracy: 0.4742\n",
            "Epoch 23/25\n",
            "98/98 [==============================] - 5s 51ms/step - loss: 1.5001 - accuracy: 0.5730 - val_loss: 2.1798 - val_accuracy: 0.4402\n",
            "Epoch 24/25\n",
            "98/98 [==============================] - 5s 52ms/step - loss: 1.4736 - accuracy: 0.5805 - val_loss: 2.0026 - val_accuracy: 0.4804\n",
            "Epoch 25/25\n",
            "98/98 [==============================] - 5s 52ms/step - loss: 1.4282 - accuracy: 0.5881 - val_loss: 2.0222 - val_accuracy: 0.4783\n"
          ]
        }
      ]
    },
    {
      "cell_type": "markdown",
      "source": [
        "Задание 5. Пойстройте график обучения для каждой модели. Сделайте выводы по каждому из них. Подведите итог и выделите наиболее удачную модель"
      ],
      "metadata": {
        "id": "Sg7kKdrmiBTM"
      }
    },
    {
      "cell_type": "code",
      "source": [
        "%matplotlib inline\n",
        "import matplotlib.pyplot as plt\n",
        "\n",
        "fig, (model1Plt, model2Plt, model3Plt, model4Plt) = plt.subplots(4, sharex=True)\n",
        "\n",
        "fig.set_figwidth(15)\n",
        "fig.set_figheight(10)\n",
        "\n",
        "model1Plt.set_title(\"Simple Model\")\n",
        "model1Plt.plot(model_1_history.history['accuracy'])\n",
        "model1Plt.plot(model_1_history.history['val_accuracy'])\n",
        "model1Plt.legend(['Simple Model Train', 'Simple Model Test'], loc=\"lower right\")\n",
        "\n",
        "model2Plt.set_title(\"Model with Batch Normalization\")\n",
        "model2Plt.plot(model_2_history.history['accuracy'])\n",
        "model2Plt.plot(model_2_history.history['val_accuracy'])\n",
        "model2Plt.legend(['Model with Batch Normalization Train', 'Model with Batch Normalization Test'], loc=\"lower right\")\n",
        "\n",
        "model3Plt.set_title(\"Model with Dropout\")\n",
        "model3Plt.plot(model_3_history.history['accuracy'])\n",
        "model3Plt.plot(model_3_history.history['val_accuracy'])\n",
        "model3Plt.legend(['Model with Dropout Train', 'Model with Dropout Test'], loc=\"lower right\")\n",
        "\n",
        "model4Plt.set_title(\"Model with Dropout and Batch\")\n",
        "model4Plt.plot(model_4_history.history['accuracy'])\n",
        "model4Plt.plot(model_4_history.history['val_accuracy'])\n",
        "_ = model4Plt.legend(['Model with Dropout and Batch Train', 'Model with Dropout and Batch Test'], loc=\"lower right\")"
      ],
      "metadata": {
        "colab": {
          "base_uri": "https://localhost:8080/",
          "height": 853
        },
        "id": "5JKlJ3aYiCBk",
        "outputId": "d5ea5ea7-df74-4c83-d908-036e5bd5a478"
      },
      "execution_count": 12,
      "outputs": [
        {
          "output_type": "display_data",
          "data": {
            "text/plain": [
              "<Figure size 1500x1000 with 4 Axes>"
            ],
            "image/png": "[encoded data removed]"
          },
          "metadata": {}
        }
      ]
    },
    {
      "cell_type": "markdown",
      "source": [
        "Ваши выводы\n",
        "Как видно из модели, из графиков, нормалищация батчами не значительно изменяет обучение и конечную точность модели. Dropout, а также Dropout совмещенный с нормализацией батчами значительно увеличивают эффективность модели, но в то же самое время увеличивают и количество эпох, необходимое для ее обучения"
      ],
      "metadata": {
        "id": "zmH8JYqPiE98"
      }
    },
    {
      "cell_type": "markdown",
      "source": [
        "Ваш итог\n",
        "Самую высокую точность показала модели использующая нормализацию батчами и Dropout, обучавшаяся в течение 25 эпох.\n",
        "\n",
        "Ее точность составила: 48.39%"
      ],
      "metadata": {
        "id": "IIqkL5TqiFX8"
      }
    },
    {
      "cell_type": "markdown",
      "source": [],
      "metadata": {
        "id": "Dlc3NF8n7Ldc"
      }
    }
  ]
}
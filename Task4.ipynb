{
 "cells": [
  {
   "cell_type": "markdown",
   "id": "383bb521",
   "metadata": {},
   "source": [
    "# Задание №1. Использование глубокой сверточной нейронной сети для классификации предметов одежды на примере датасета Fashion MNIST"
   ]
  },
  {
   "cell_type": "markdown",
   "id": "492df2e6",
   "metadata": {},
   "source": [
    " Предварительно устанавливаем необходимые зависимости для работы\n",
    " \n",
    " Запускаться через tf_gpu исходя из инструкции к Anaconda. https://docs.anaconda.com/anaconda/user-guide/tasks/tensorflow/\n",
    " \n",
    " Иначе система не сможет определить использовать видеокарты."
   ]
  },
  {
   "cell_type": "code",
   "execution_count": 1,
   "id": "b9e95234",
   "metadata": {},
   "outputs": [
    {
     "name": "stdout",
     "output_type": "stream",
     "text": [
      "Looking in indexes: https://pypi.org/simple, https://pypi.ngc.nvidia.com\n",
      "Requirement already satisfied: keras==2.6 in c:\\users\\wh1t3lord\\anaconda3\\envs\\tf-gpu\\lib\\site-packages (2.6.0)\n",
      "Note: you may need to restart the kernel to use updated packages.\n",
      "Looking in indexes: https://pypi.org/simple, https://pypi.ngc.nvidia.com\n",
      "Requirement already satisfied: matplotlib in c:\\users\\wh1t3lord\\anaconda3\\envs\\tf-gpu\\lib\\site-packages (3.7.1)\n",
      "Requirement already satisfied: numpy>=1.20 in c:\\users\\wh1t3lord\\anaconda3\\envs\\tf-gpu\\lib\\site-packages (from matplotlib) (1.23.5)\n",
      "Requirement already satisfied: pillow>=6.2.0 in c:\\users\\wh1t3lord\\anaconda3\\envs\\tf-gpu\\lib\\site-packages (from matplotlib) (9.5.0)\n",
      "Requirement already satisfied: contourpy>=1.0.1 in c:\\users\\wh1t3lord\\anaconda3\\envs\\tf-gpu\\lib\\site-packages (from matplotlib) (1.0.7)\n",
      "Requirement already satisfied: cycler>=0.10 in c:\\users\\wh1t3lord\\anaconda3\\envs\\tf-gpu\\lib\\site-packages (from matplotlib) (0.11.0)\n",
      "Requirement already satisfied: importlib-resources>=3.2.0 in c:\\users\\wh1t3lord\\anaconda3\\envs\\tf-gpu\\lib\\site-packages (from matplotlib) (5.12.0)\n",
      "Requirement already satisfied: pyparsing>=2.3.1 in c:\\users\\wh1t3lord\\anaconda3\\envs\\tf-gpu\\lib\\site-packages (from matplotlib) (3.0.9)\n",
      "Requirement already satisfied: python-dateutil>=2.7 in c:\\users\\wh1t3lord\\anaconda3\\envs\\tf-gpu\\lib\\site-packages (from matplotlib) (2.8.2)\n",
      "Requirement already satisfied: packaging>=20.0 in c:\\users\\wh1t3lord\\anaconda3\\envs\\tf-gpu\\lib\\site-packages (from matplotlib) (23.0)\n",
      "Requirement already satisfied: fonttools>=4.22.0 in c:\\users\\wh1t3lord\\anaconda3\\envs\\tf-gpu\\lib\\site-packages (from matplotlib) (4.39.3)\n",
      "Requirement already satisfied: kiwisolver>=1.0.1 in c:\\users\\wh1t3lord\\anaconda3\\envs\\tf-gpu\\lib\\site-packages (from matplotlib) (1.4.4)\n",
      "Requirement already satisfied: zipp>=3.1.0 in c:\\users\\wh1t3lord\\anaconda3\\envs\\tf-gpu\\lib\\site-packages (from importlib-resources>=3.2.0->matplotlib) (3.11.0)\n",
      "Requirement already satisfied: six>=1.5 in c:\\users\\wh1t3lord\\anaconda3\\envs\\tf-gpu\\lib\\site-packages (from python-dateutil>=2.7->matplotlib) (1.16.0)\n",
      "Note: you may need to restart the kernel to use updated packages.\n",
      "Looking in indexes: https://pypi.org/simple, https://pypi.ngc.nvidia.com\n",
      "Requirement already satisfied: numpy in c:\\users\\wh1t3lord\\anaconda3\\envs\\tf-gpu\\lib\\site-packages (1.23.5)\n",
      "Note: you may need to restart the kernel to use updated packages.\n",
      "Looking in indexes: https://pypi.org/simple, https://pypi.ngc.nvidia.com\n",
      "Requirement already satisfied: tensorflow in c:\\users\\wh1t3lord\\anaconda3\\envs\\tf-gpu\\lib\\site-packages (2.6.0)\n",
      "Requirement already satisfied: six>=1.15.0 in c:\\users\\wh1t3lord\\anaconda3\\envs\\tf-gpu\\lib\\site-packages (from tensorflow) (1.16.0)\n",
      "Requirement already satisfied: numpy>=1.19 in c:\\users\\wh1t3lord\\anaconda3\\envs\\tf-gpu\\lib\\site-packages (from tensorflow) (1.23.5)\n",
      "Requirement already satisfied: wheel>=0.35 in c:\\users\\wh1t3lord\\anaconda3\\envs\\tf-gpu\\lib\\site-packages (from tensorflow) (0.35.1)\n",
      "Requirement already satisfied: keras>=2.4.0 in c:\\users\\wh1t3lord\\anaconda3\\envs\\tf-gpu\\lib\\site-packages (from tensorflow) (2.6.0)\n",
      "Requirement already satisfied: google-pasta~=0.2 in c:\\users\\wh1t3lord\\anaconda3\\envs\\tf-gpu\\lib\\site-packages (from tensorflow) (0.2.0)\n",
      "Requirement already satisfied: gast==0.4.0 in c:\\users\\wh1t3lord\\anaconda3\\envs\\tf-gpu\\lib\\site-packages (from tensorflow) (0.4.0)\n",
      "Requirement already satisfied: astunparse~=1.6.3 in c:\\users\\wh1t3lord\\anaconda3\\envs\\tf-gpu\\lib\\site-packages (from tensorflow) (1.6.3)\n",
      "Requirement already satisfied: clang~=5.0 in c:\\users\\wh1t3lord\\anaconda3\\envs\\tf-gpu\\lib\\site-packages (from tensorflow) (5.0)\n",
      "Requirement already satisfied: flatbuffers~=1.12 in c:\\users\\wh1t3lord\\anaconda3\\envs\\tf-gpu\\lib\\site-packages (from tensorflow) (1.12)\n",
      "Requirement already satisfied: absl-py~=0.10 in c:\\users\\wh1t3lord\\anaconda3\\envs\\tf-gpu\\lib\\site-packages (from tensorflow) (0.15.0)\n",
      "Requirement already satisfied: h5py>=3.1.0 in c:\\users\\wh1t3lord\\anaconda3\\envs\\tf-gpu\\lib\\site-packages (from tensorflow) (3.7.0)\n",
      "Requirement already satisfied: termcolor>=1.1.0 in c:\\users\\wh1t3lord\\anaconda3\\envs\\tf-gpu\\lib\\site-packages (from tensorflow) (2.1.0)\n",
      "Requirement already satisfied: keras-preprocessing>=1.1.2 in c:\\users\\wh1t3lord\\anaconda3\\envs\\tf-gpu\\lib\\site-packages (from tensorflow) (1.1.2)\n",
      "Requirement already satisfied: wrapt>=1.11.2 in c:\\users\\wh1t3lord\\anaconda3\\envs\\tf-gpu\\lib\\site-packages (from tensorflow) (1.14.1)\n",
      "Requirement already satisfied: protobuf>=3.9.2 in c:\\users\\wh1t3lord\\anaconda3\\envs\\tf-gpu\\lib\\site-packages (from tensorflow) (3.17.2)\n",
      "Requirement already satisfied: typing-extensions>=3.7.4 in c:\\users\\wh1t3lord\\anaconda3\\envs\\tf-gpu\\lib\\site-packages (from tensorflow) (4.4.0)\n",
      "Requirement already satisfied: grpcio<2.0,>=1.37.0 in c:\\users\\wh1t3lord\\anaconda3\\envs\\tf-gpu\\lib\\site-packages (from tensorflow) (1.42.0)\n",
      "Requirement already satisfied: tensorboard~=2.6 in c:\\users\\wh1t3lord\\anaconda3\\envs\\tf-gpu\\lib\\site-packages (from tensorflow) (2.6.0)\n",
      "Requirement already satisfied: opt-einsum~=3.3.0 in c:\\users\\wh1t3lord\\anaconda3\\envs\\tf-gpu\\lib\\site-packages (from tensorflow) (3.3.0)\n",
      "Requirement already satisfied: tensorflow-estimator~=2.6 in c:\\users\\wh1t3lord\\anaconda3\\envs\\tf-gpu\\lib\\site-packages (from tensorflow) (2.6.0)\n",
      "Requirement already satisfied: werkzeug>=0.11.15 in c:\\users\\wh1t3lord\\anaconda3\\envs\\tf-gpu\\lib\\site-packages (from tensorboard~=2.6->tensorflow) (2.2.3)\n",
      "Requirement already satisfied: google-auth<2,>=1.6.3 in c:\\users\\wh1t3lord\\anaconda3\\envs\\tf-gpu\\lib\\site-packages (from tensorboard~=2.6->tensorflow) (1.35.0)\n",
      "Requirement already satisfied: google-auth-oauthlib<0.5,>=0.4.1 in c:\\users\\wh1t3lord\\anaconda3\\envs\\tf-gpu\\lib\\site-packages (from tensorboard~=2.6->tensorflow) (0.4.1)\n",
      "Requirement already satisfied: requests<3,>=2.21.0 in c:\\users\\wh1t3lord\\anaconda3\\envs\\tf-gpu\\lib\\site-packages (from tensorboard~=2.6->tensorflow) (2.28.1)\n",
      "Requirement already satisfied: tensorboard-data-server<0.7.0,>=0.6.0 in c:\\users\\wh1t3lord\\anaconda3\\envs\\tf-gpu\\lib\\site-packages (from tensorboard~=2.6->tensorflow) (0.6.1)\n",
      "Requirement already satisfied: setuptools>=41.0.0 in c:\\users\\wh1t3lord\\anaconda3\\envs\\tf-gpu\\lib\\site-packages (from tensorboard~=2.6->tensorflow) (65.6.3)\n",
      "Requirement already satisfied: markdown>=2.6.8 in c:\\users\\wh1t3lord\\anaconda3\\envs\\tf-gpu\\lib\\site-packages (from tensorboard~=2.6->tensorflow) (3.4.1)\n",
      "Requirement already satisfied: tensorboard-plugin-wit>=1.6.0 in c:\\users\\wh1t3lord\\anaconda3\\envs\\tf-gpu\\lib\\site-packages (from tensorboard~=2.6->tensorflow) (1.8.1)\n",
      "Requirement already satisfied: rsa<5,>=3.1.4 in c:\\users\\wh1t3lord\\anaconda3\\envs\\tf-gpu\\lib\\site-packages (from google-auth<2,>=1.6.3->tensorboard~=2.6->tensorflow) (4.7.2)\n",
      "Requirement already satisfied: pyasn1-modules>=0.2.1 in c:\\users\\wh1t3lord\\anaconda3\\envs\\tf-gpu\\lib\\site-packages (from google-auth<2,>=1.6.3->tensorboard~=2.6->tensorflow) (0.2.8)\n",
      "Requirement already satisfied: cachetools<5.0,>=2.0.0 in c:\\users\\wh1t3lord\\anaconda3\\envs\\tf-gpu\\lib\\site-packages (from google-auth<2,>=1.6.3->tensorboard~=2.6->tensorflow) (4.2.2)\n",
      "Requirement already satisfied: requests-oauthlib>=0.7.0 in c:\\users\\wh1t3lord\\anaconda3\\envs\\tf-gpu\\lib\\site-packages (from google-auth-oauthlib<0.5,>=0.4.1->tensorboard~=2.6->tensorflow) (1.3.0)\n",
      "Requirement already satisfied: importlib-metadata>=4.4 in c:\\users\\wh1t3lord\\anaconda3\\envs\\tf-gpu\\lib\\site-packages (from markdown>=2.6.8->tensorboard~=2.6->tensorflow) (6.0.0)\n",
      "Requirement already satisfied: charset-normalizer<3,>=2 in c:\\users\\wh1t3lord\\anaconda3\\envs\\tf-gpu\\lib\\site-packages (from requests<3,>=2.21.0->tensorboard~=2.6->tensorflow) (2.0.4)\n",
      "Requirement already satisfied: urllib3<1.27,>=1.21.1 in c:\\users\\wh1t3lord\\anaconda3\\envs\\tf-gpu\\lib\\site-packages (from requests<3,>=2.21.0->tensorboard~=2.6->tensorflow) (1.26.15)\n",
      "Requirement already satisfied: certifi>=2017.4.17 in c:\\users\\wh1t3lord\\anaconda3\\envs\\tf-gpu\\lib\\site-packages (from requests<3,>=2.21.0->tensorboard~=2.6->tensorflow) (2022.12.7)\n",
      "Requirement already satisfied: idna<4,>=2.5 in c:\\users\\wh1t3lord\\anaconda3\\envs\\tf-gpu\\lib\\site-packages (from requests<3,>=2.21.0->tensorboard~=2.6->tensorflow) (3.4)\n",
      "Requirement already satisfied: MarkupSafe>=2.1.1 in c:\\users\\wh1t3lord\\anaconda3\\envs\\tf-gpu\\lib\\site-packages (from werkzeug>=0.11.15->tensorboard~=2.6->tensorflow) (2.1.1)\n",
      "Requirement already satisfied: zipp>=0.5 in c:\\users\\wh1t3lord\\anaconda3\\envs\\tf-gpu\\lib\\site-packages (from importlib-metadata>=4.4->markdown>=2.6.8->tensorboard~=2.6->tensorflow) (3.11.0)\n",
      "Requirement already satisfied: pyasn1<0.5.0,>=0.4.6 in c:\\users\\wh1t3lord\\anaconda3\\envs\\tf-gpu\\lib\\site-packages (from pyasn1-modules>=0.2.1->google-auth<2,>=1.6.3->tensorboard~=2.6->tensorflow) (0.4.8)\n",
      "Requirement already satisfied: oauthlib>=3.0.0 in c:\\users\\wh1t3lord\\anaconda3\\envs\\tf-gpu\\lib\\site-packages (from requests-oauthlib>=0.7.0->google-auth-oauthlib<0.5,>=0.4.1->tensorboard~=2.6->tensorflow) (3.2.2)\n",
      "Note: you may need to restart the kernel to use updated packages.\n"
     ]
    },
    {
     "name": "stdout",
     "output_type": "stream",
     "text": [
      "Looking in indexes: https://pypi.org/simple, https://pypi.ngc.nvidia.com\n",
      "Requirement already satisfied: opencv-python in c:\\users\\wh1t3lord\\anaconda3\\envs\\tf-gpu\\lib\\site-packages (4.7.0.72)\n",
      "Requirement already satisfied: numpy>=1.19.3 in c:\\users\\wh1t3lord\\anaconda3\\envs\\tf-gpu\\lib\\site-packages (from opencv-python) (1.23.5)\n",
      "Note: you may need to restart the kernel to use updated packages.\n"
     ]
    }
   ],
   "source": [
    "%pip install keras==2.6\n",
    "%pip install matplotlib\n",
    "%pip install numpy\n",
    "%pip install tensorflow\n",
    "%pip install opencv-python"
   ]
  },
  {
   "cell_type": "code",
   "execution_count": 2,
   "id": "86c80507",
   "metadata": {},
   "outputs": [
    {
     "name": "stdout",
     "output_type": "stream",
     "text": [
      "[PhysicalDevice(name='/physical_device:GPU:0', device_type='GPU')]\n"
     ]
    }
   ],
   "source": [
    "import tensorflow as tf\n",
    "print(tf.config.list_physical_devices('GPU'))"
   ]
  },
  {
   "cell_type": "code",
   "execution_count": 3,
   "id": "ab28c622",
   "metadata": {},
   "outputs": [],
   "source": [
    "from keras.datasets import fashion_mnist  # импорт исходного датасета\n",
    "import matplotlib.pyplot as plt\n",
    "from keras.models import Sequential\n",
    "from keras.layers.core import Dense\n",
    "from keras.layers import Conv2D, MaxPooling2D, Flatten\n",
    "import numpy as np\n",
    "from tensorflow.keras.optimizers import Adam\n",
    "from tensorflow.keras.utils import to_categorical"
   ]
  },
  {
   "cell_type": "markdown",
   "id": "3dcb17da",
   "metadata": {},
   "source": [
    "## 1.2. Разделяем данные на обучающую и тестовую выборку"
   ]
  },
  {
   "cell_type": "code",
   "execution_count": 6,
   "id": "254a02e3",
   "metadata": {},
   "outputs": [
    {
     "name": "stdout",
     "output_type": "stream",
     "text": [
      "Downloading data from https://storage.googleapis.com/tensorflow/tf-keras-datasets/train-labels-idx1-ubyte.gz\n",
      "32768/29515 [=================================] - 0s 1us/step\n",
      "40960/29515 [=========================================] - 0s 1us/step\n",
      "Downloading data from https://storage.googleapis.com/tensorflow/tf-keras-datasets/train-images-idx3-ubyte.gz\n",
      "26427392/26421880 [==============================] - 2s 0us/step\n",
      "26435584/26421880 [==============================] - 2s 0us/step\n",
      "Downloading data from https://storage.googleapis.com/tensorflow/tf-keras-datasets/t10k-labels-idx1-ubyte.gz\n",
      "16384/5148 [===============================================================================================] - 0s 0s/step\n",
      "Downloading data from https://storage.googleapis.com/tensorflow/tf-keras-datasets/t10k-images-idx3-ubyte.gz\n",
      "4423680/4422102 [==============================] - 0s 0us/step\n",
      "4431872/4422102 [==============================] - 0s 0us/step\n",
      "Train: X =  (60000, 28, 28, 1)\n",
      "Test: X =  (10000, 28, 28, 1)\n"
     ]
    }
   ],
   "source": [
    "(trainX, trainY), (testX, testY) = fashion_mnist.load_data()\n",
    "\n",
    "# Нормализуем\n",
    "trainX = trainX.astype('float32') / 255\n",
    "testX = testX.astype('float32') / 255\n",
    "\n",
    "trainX = np.expand_dims(trainX, -1)\n",
    "testX = np.expand_dims(testX, -1)\n",
    "\n",
    "print('Train: X = ', trainX.shape)\n",
    "print('Test: X = ', testX.shape)\n",
    "\n",
    "trainY = to_categorical(trainY, 10)\n",
    "testY = to_categorical(testY, 10)"
   ]
  },
  {
   "cell_type": "markdown",
   "id": "669ac185",
   "metadata": {},
   "source": [
    "## 1.3. Визуализируем часть данных из датасета"
   ]
  },
  {
   "cell_type": "code",
   "execution_count": 7,
   "id": "9ef49cf0",
   "metadata": {},
   "outputs": [
    {
     "data": {
      "image/png": "[encoded data removed]",
      "text/plain": [
       "<Figure size 640x480 with 9 Axes>"
      ]
     },
     "metadata": {},
     "output_type": "display_data"
    }
   ],
   "source": [
    "for i in range(1, 10):\n",
    "    plt.subplot(3, 3, i)\n",
    "    plt.imshow(trainX[i], cmap=plt.get_cmap('gray'))\n",
    "\n",
    "plt.show()"
   ]
  },
  {
   "cell_type": "markdown",
   "id": "7d2175ea",
   "metadata": {},
   "source": [
    "## 1.4. Создаём архитектуру нейронной сети и компилируем модель"
   ]
  },
  {
   "cell_type": "code",
   "execution_count": 8,
   "id": "560f9477",
   "metadata": {},
   "outputs": [
    {
     "name": "stdout",
     "output_type": "stream",
     "text": [
      "Model: \"sequential\"\n",
      "_________________________________________________________________\n",
      "Layer (type)                 Output Shape              Param #   \n",
      "=================================================================\n",
      "conv2d (Conv2D)              (None, 28, 28, 32)        320       \n",
      "_________________________________________________________________\n",
      "max_pooling2d (MaxPooling2D) (None, 14, 14, 32)        0         \n",
      "_________________________________________________________________\n",
      "conv2d_1 (Conv2D)            (None, 14, 14, 64)        18496     \n",
      "_________________________________________________________________\n",
      "max_pooling2d_1 (MaxPooling2 (None, 7, 7, 64)          0         \n",
      "_________________________________________________________________\n",
      "flatten (Flatten)            (None, 3136)              0         \n",
      "_________________________________________________________________\n",
      "dense (Dense)                (None, 128)               401536    \n",
      "_________________________________________________________________\n",
      "dense_1 (Dense)              (None, 10)                1290      \n",
      "=================================================================\n",
      "Total params: 421,642\n",
      "Trainable params: 421,642\n",
      "Non-trainable params: 0\n",
      "_________________________________________________________________\n"
     ]
    }
   ],
   "source": [
    "model = Sequential([\n",
    "    Conv2D(32, (3, 3), padding='same',\n",
    "           activation='relu', input_shape=(28, 28, 1)),\n",
    "    MaxPooling2D((2, 2), strides=2),\n",
    "    Conv2D(64, (3, 3), padding='same', activation='relu'),\n",
    "    MaxPooling2D((2, 2), strides=2),\n",
    "    Flatten(),\n",
    "    Dense(128, activation='relu'),\n",
    "    Dense(10,  activation='softmax')\n",
    "])\n",
    "\n",
    "model.summary()"
   ]
  },
  {
   "cell_type": "markdown",
   "id": "1c302ee5",
   "metadata": {},
   "source": [
    "## 1.5. Обучаем модель"
   ]
  },
  {
   "cell_type": "code",
   "execution_count": 9,
   "id": "f02fdf1c",
   "metadata": {},
   "outputs": [
    {
     "name": "stdout",
     "output_type": "stream",
     "text": [
      "CPU times: total: 0 ns\n",
      "Wall time: 0 ns\n",
      "Epoch 1/50\n",
      "235/235 [==============================] - 7s 18ms/step - loss: 1.0199 - accuracy: 0.6913 - val_loss: 0.6013 - val_accuracy: 0.7836\n",
      "Epoch 2/50\n",
      "235/235 [==============================] - 4s 17ms/step - loss: 0.5233 - accuracy: 0.8120 - val_loss: 0.4935 - val_accuracy: 0.8235\n",
      "Epoch 3/50\n",
      "235/235 [==============================] - 4s 17ms/step - loss: 0.4489 - accuracy: 0.8408 - val_loss: 0.4468 - val_accuracy: 0.8385\n",
      "Epoch 4/50\n",
      "235/235 [==============================] - 4s 17ms/step - loss: 0.4134 - accuracy: 0.8547 - val_loss: 0.4193 - val_accuracy: 0.8519\n",
      "Epoch 5/50\n",
      "235/235 [==============================] - 4s 17ms/step - loss: 0.3903 - accuracy: 0.8638 - val_loss: 0.3963 - val_accuracy: 0.8592\n",
      "Epoch 6/50\n",
      "235/235 [==============================] - 4s 17ms/step - loss: 0.3736 - accuracy: 0.8692 - val_loss: 0.3820 - val_accuracy: 0.8631\n",
      "Epoch 7/50\n",
      "235/235 [==============================] - 4s 17ms/step - loss: 0.3593 - accuracy: 0.8752 - val_loss: 0.3701 - val_accuracy: 0.8681\n",
      "Epoch 8/50\n",
      "235/235 [==============================] - 4s 17ms/step - loss: 0.3487 - accuracy: 0.8790 - val_loss: 0.3677 - val_accuracy: 0.8695\n",
      "Epoch 9/50\n",
      "235/235 [==============================] - 4s 17ms/step - loss: 0.3399 - accuracy: 0.8813 - val_loss: 0.3540 - val_accuracy: 0.8755\n",
      "Epoch 10/50\n",
      "235/235 [==============================] - 4s 17ms/step - loss: 0.3313 - accuracy: 0.8849 - val_loss: 0.3448 - val_accuracy: 0.8763\n",
      "Epoch 11/50\n",
      "235/235 [==============================] - 4s 17ms/step - loss: 0.3226 - accuracy: 0.8879 - val_loss: 0.3417 - val_accuracy: 0.8791\n",
      "Epoch 12/50\n",
      "235/235 [==============================] - 4s 17ms/step - loss: 0.3145 - accuracy: 0.8899 - val_loss: 0.3400 - val_accuracy: 0.8754\n",
      "Epoch 13/50\n",
      "235/235 [==============================] - 4s 17ms/step - loss: 0.3074 - accuracy: 0.8930 - val_loss: 0.3288 - val_accuracy: 0.8843\n",
      "Epoch 14/50\n",
      "235/235 [==============================] - 4s 17ms/step - loss: 0.3033 - accuracy: 0.8947 - val_loss: 0.3209 - val_accuracy: 0.8861\n",
      "Epoch 15/50\n",
      "235/235 [==============================] - 4s 17ms/step - loss: 0.2978 - accuracy: 0.8956 - val_loss: 0.3192 - val_accuracy: 0.8876\n",
      "Epoch 16/50\n",
      "235/235 [==============================] - 4s 17ms/step - loss: 0.2907 - accuracy: 0.8981 - val_loss: 0.3184 - val_accuracy: 0.8870\n",
      "Epoch 17/50\n",
      "235/235 [==============================] - 4s 17ms/step - loss: 0.2860 - accuracy: 0.9004 - val_loss: 0.3102 - val_accuracy: 0.8906\n",
      "Epoch 18/50\n",
      "235/235 [==============================] - 4s 17ms/step - loss: 0.2807 - accuracy: 0.9022 - val_loss: 0.3059 - val_accuracy: 0.8896\n",
      "Epoch 19/50\n",
      "235/235 [==============================] - 4s 17ms/step - loss: 0.2780 - accuracy: 0.9017 - val_loss: 0.3027 - val_accuracy: 0.8895\n",
      "Epoch 20/50\n",
      "235/235 [==============================] - 4s 17ms/step - loss: 0.2727 - accuracy: 0.9037 - val_loss: 0.2980 - val_accuracy: 0.8954\n",
      "Epoch 21/50\n",
      "235/235 [==============================] - 4s 17ms/step - loss: 0.2697 - accuracy: 0.9052 - val_loss: 0.2980 - val_accuracy: 0.8945\n",
      "Epoch 22/50\n",
      "235/235 [==============================] - 4s 17ms/step - loss: 0.2647 - accuracy: 0.9074 - val_loss: 0.2998 - val_accuracy: 0.8926\n",
      "Epoch 23/50\n",
      "235/235 [==============================] - 4s 17ms/step - loss: 0.2620 - accuracy: 0.9082 - val_loss: 0.3058 - val_accuracy: 0.8864\n",
      "Epoch 24/50\n",
      "235/235 [==============================] - 4s 17ms/step - loss: 0.2581 - accuracy: 0.9091 - val_loss: 0.2866 - val_accuracy: 0.8967\n",
      "Epoch 25/50\n",
      "235/235 [==============================] - 4s 17ms/step - loss: 0.2544 - accuracy: 0.9104 - val_loss: 0.2871 - val_accuracy: 0.8978\n",
      "Epoch 26/50\n",
      "235/235 [==============================] - 4s 17ms/step - loss: 0.2506 - accuracy: 0.9118 - val_loss: 0.2842 - val_accuracy: 0.8980\n",
      "Epoch 27/50\n",
      "235/235 [==============================] - 4s 17ms/step - loss: 0.2481 - accuracy: 0.9119 - val_loss: 0.2814 - val_accuracy: 0.8981\n",
      "Epoch 28/50\n",
      "235/235 [==============================] - 4s 18ms/step - loss: 0.2463 - accuracy: 0.9131 - val_loss: 0.2844 - val_accuracy: 0.8978\n",
      "Epoch 29/50\n",
      "235/235 [==============================] - 4s 17ms/step - loss: 0.2424 - accuracy: 0.9144 - val_loss: 0.2836 - val_accuracy: 0.8979\n",
      "Epoch 30/50\n",
      "235/235 [==============================] - 4s 17ms/step - loss: 0.2407 - accuracy: 0.9148 - val_loss: 0.2775 - val_accuracy: 0.8996\n",
      "Epoch 31/50\n",
      "235/235 [==============================] - 4s 18ms/step - loss: 0.2355 - accuracy: 0.9163 - val_loss: 0.2824 - val_accuracy: 0.8977\n",
      "Epoch 32/50\n",
      "235/235 [==============================] - 4s 18ms/step - loss: 0.2358 - accuracy: 0.9169 - val_loss: 0.2745 - val_accuracy: 0.9013\n",
      "Epoch 33/50\n",
      "235/235 [==============================] - 4s 18ms/step - loss: 0.2300 - accuracy: 0.9188 - val_loss: 0.2696 - val_accuracy: 0.9038\n",
      "Epoch 34/50\n",
      "235/235 [==============================] - 4s 18ms/step - loss: 0.2273 - accuracy: 0.9198 - val_loss: 0.2687 - val_accuracy: 0.9041\n",
      "Epoch 35/50\n",
      "235/235 [==============================] - 4s 18ms/step - loss: 0.2265 - accuracy: 0.9194 - val_loss: 0.2668 - val_accuracy: 0.9047\n",
      "Epoch 36/50\n",
      "235/235 [==============================] - 4s 18ms/step - loss: 0.2233 - accuracy: 0.9208 - val_loss: 0.2677 - val_accuracy: 0.9032\n",
      "Epoch 37/50\n",
      "235/235 [==============================] - 4s 18ms/step - loss: 0.2212 - accuracy: 0.9224 - val_loss: 0.2693 - val_accuracy: 0.9026\n",
      "Epoch 38/50\n",
      "235/235 [==============================] - 5s 20ms/step - loss: 0.2194 - accuracy: 0.9218 - val_loss: 0.2624 - val_accuracy: 0.9068\n",
      "Epoch 39/50\n",
      "235/235 [==============================] - 4s 18ms/step - loss: 0.2153 - accuracy: 0.9240 - val_loss: 0.2593 - val_accuracy: 0.9059\n",
      "Epoch 40/50\n",
      "235/235 [==============================] - 4s 18ms/step - loss: 0.2133 - accuracy: 0.9240 - val_loss: 0.2671 - val_accuracy: 0.9038\n",
      "Epoch 41/50\n",
      "235/235 [==============================] - 4s 18ms/step - loss: 0.2127 - accuracy: 0.9241 - val_loss: 0.2591 - val_accuracy: 0.9086\n",
      "Epoch 42/50\n",
      "235/235 [==============================] - 4s 18ms/step - loss: 0.2100 - accuracy: 0.9260 - val_loss: 0.2612 - val_accuracy: 0.9087\n",
      "Epoch 43/50\n",
      "235/235 [==============================] - 4s 18ms/step - loss: 0.2063 - accuracy: 0.9271 - val_loss: 0.2645 - val_accuracy: 0.9036\n",
      "Epoch 44/50\n",
      "235/235 [==============================] - 4s 18ms/step - loss: 0.2072 - accuracy: 0.9268 - val_loss: 0.2583 - val_accuracy: 0.9052\n",
      "Epoch 45/50\n",
      "235/235 [==============================] - 4s 18ms/step - loss: 0.2029 - accuracy: 0.9280 - val_loss: 0.2551 - val_accuracy: 0.9079\n",
      "Epoch 46/50\n",
      "235/235 [==============================] - 4s 18ms/step - loss: 0.2004 - accuracy: 0.9295 - val_loss: 0.2543 - val_accuracy: 0.9106\n",
      "Epoch 47/50\n",
      "235/235 [==============================] - 4s 18ms/step - loss: 0.2011 - accuracy: 0.9284 - val_loss: 0.2535 - val_accuracy: 0.9095\n",
      "Epoch 48/50\n",
      "235/235 [==============================] - 4s 18ms/step - loss: 0.1967 - accuracy: 0.9302 - val_loss: 0.2504 - val_accuracy: 0.9098\n",
      "Epoch 49/50\n",
      "235/235 [==============================] - 4s 18ms/step - loss: 0.1943 - accuracy: 0.9305 - val_loss: 0.2585 - val_accuracy: 0.9093\n",
      "Epoch 50/50\n",
      "235/235 [==============================] - 4s 18ms/step - loss: 0.1939 - accuracy: 0.9311 - val_loss: 0.2535 - val_accuracy: 0.9096\n",
      "313/313 [==============================] - 1s 4ms/step - loss: 0.2535 - accuracy: 0.9096\n"
     ]
    },
    {
     "data": {
      "text/plain": [
       "[0.25352421402931213, 0.909600019454956]"
      ]
     },
     "execution_count": 9,
     "metadata": {},
     "output_type": "execute_result"
    }
   ],
   "source": [
    "%time\n",
    "opt = Adam(learning_rate=0.0001)\n",
    "model.compile(optimizer=opt,\n",
    "              loss='categorical_crossentropy',\n",
    "              metrics=['accuracy'])\n",
    "\n",
    "\n",
    "his = model.fit(trainX, trainY, batch_size=256,\n",
    "                epochs=50, validation_data=(testX, testY))\n",
    "\n",
    "model.evaluate(testX, testY)"
   ]
  },
  {
   "cell_type": "markdown",
   "id": "172d7425",
   "metadata": {},
   "source": [
    "## 1.5. Анализируем обученную модель. Строим график (графики) обучения"
   ]
  },
  {
   "cell_type": "code",
   "execution_count": 10,
   "id": "d9306268",
   "metadata": {},
   "outputs": [
    {
     "data": {
      "text/plain": [
       "<matplotlib.legend.Legend at 0x21c0b3ae040>"
      ]
     },
     "execution_count": 10,
     "metadata": {},
     "output_type": "execute_result"
    },
    {
     "data": {
      "image/png": "[encoded data removed]",
      "text/plain": [
       "<Figure size 640x480 with 1 Axes>"
      ]
     },
     "metadata": {},
     "output_type": "display_data"
    }
   ],
   "source": [
    "%matplotlib inline\n",
    "# Графики потерь и точности\n",
    "N = np.arange(0, 50)\n",
    "plt.style.use(\"ggplot\")\n",
    "plt.figure()\n",
    "plt.plot(N, his.history[\"loss\"], label=\"train_loss\")\n",
    "plt.plot(N, his.history[\"val_loss\"], label=\"val_loss\")\n",
    "plt.plot(N, his.history[\"accuracy\"], label=\"train_acc\")\n",
    "plt.plot(N, his.history[\"val_accuracy\"], label=\"val_acc\")\n",
    "plt.title(\"Training Loss and Accuracy\")\n",
    "plt.xlabel(\"Epoch #\")\n",
    "plt.ylabel(\"Loss/Accuracy\")\n",
    "plt.legend()"
   ]
  },
  {
   "cell_type": "markdown",
   "id": "ecc9e456",
   "metadata": {},
   "source": [
    "## 1.6. Загружаем свои изображения. С помощью функции predict() получаем предсказание нейронной сети"
   ]
  },
  {
   "cell_type": "code",
   "execution_count": 4,
   "id": "f59c73d3",
   "metadata": {},
   "outputs": [],
   "source": [
    "import cv2\n",
    "\n",
    "\n",
    "class_names = ['T-shirt/top', 'Trouser', 'Pullover', 'Dress', 'Coat',\n",
    "               'Sandal', 'Shirt', 'Sneaker', 'Bag', 'Ankle boot']\n",
    "\n",
    "\n",
    "def test_predict(image_path):\n",
    "    image = cv2.imread(image_path)\n",
    "    output = image.copy()\n",
    "    image = cv2.resize(image, (28, 28))\n",
    "    image = cv2.bitwise_not(image)\n",
    "    image = cv2.cvtColor(image, cv2.COLOR_RGB2GRAY)\n",
    "    image = image.astype(\"float\") / 255.0\n",
    "    image = image.reshape(-1, 28, 28, 1)\n",
    "    preds = model.predict(image)\n",
    "    i = preds.argmax(axis=1)[0]\n",
    "    for index, pred in enumerate(preds[0]):\n",
    "        print(f\"{class_names[index]}:{pred * 100:.2f}%\", end=\"; \")\n",
    "    print()\n",
    "    text = \"{}: {:.2f}%\".format(class_names[i], preds[0][i] * 100)\n",
    "    _ = cv2.putText(output, text, (10, 30), cv2.FONT_HERSHEY_SIMPLEX, 0.7,\n",
    "                    (0, 0, 255), 2)\n",
    "    plt.figure()\n",
    "    plt.axis('off')\n",
    "    plt.imshow(cv2.cvtColor(output, cv2.COLOR_BGR2RGB))"
   ]
  },
  {
   "cell_type": "code",
   "execution_count": null,
   "id": "761217d5",
   "metadata": {},
   "outputs": [],
   "source": []
  }
 ],
 "metadata": {
  "kernelspec": {
   "display_name": "Python 3 (ipykernel)",
   "language": "python",
   "name": "python3"
  },
  "language_info": {
   "codemirror_mode": {
    "name": "ipython",
    "version": 3
   },
   "file_extension": ".py",
   "mimetype": "text/x-python",
   "name": "python",
   "nbconvert_exporter": "python",
   "pygments_lexer": "ipython3",
   "version": "3.9.16"
  }
 },
 "nbformat": 4,
 "nbformat_minor": 5
}
